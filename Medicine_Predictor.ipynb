{
  "nbformat": 4,
  "nbformat_minor": 0,
  "metadata": {
    "colab": {
      "provenance": [],
      "include_colab_link": true
    },
    "kernelspec": {
      "name": "python3",
      "display_name": "Python 3"
    },
    "language_info": {
      "name": "python"
    }
  },
  "cells": [
    {
      "cell_type": "markdown",
      "metadata": {
        "id": "view-in-github",
        "colab_type": "text"
      },
      "source": [
        "<a href=\"https://colab.research.google.com/github/Fridge2000/ai-accelerator-2025/blob/main/Medicine_Predictor.ipynb\" target=\"_parent\"><img src=\"https://colab.research.google.com/assets/colab-badge.svg\" alt=\"Open In Colab\"/></a>"
      ]
    },
    {
      "cell_type": "code",
      "execution_count": 1,
      "metadata": {
        "id": "lNrvwemb32Ti"
      },
      "outputs": [],
      "source": [
        "from google.colab import auth\n",
        "import zipfile\n",
        "import os\n",
        "import pandas as pd"
      ]
    },
    {
      "cell_type": "code",
      "source": [
        "auth.authenticate_user()\n",
        "\n",
        "!gcloud config set project medication-predictor\n",
        "\n",
        "!gsutil cp gs://medication-dataset/disease_symptom_prediction_dataset.zip /content/"
      ],
      "metadata": {
        "id": "dcV-pzvmD0PH",
        "colab": {
          "base_uri": "https://localhost:8080/"
        },
        "outputId": "dc574af7-e0b1-4883-836e-3172f1c85d86"
      },
      "execution_count": 2,
      "outputs": [
        {
          "output_type": "stream",
          "name": "stdout",
          "text": [
            "\u001b[1;33mWARNING:\u001b[0m [phamgb1@gmail.com] does not have permission to access projects instance [medication-predictor] (or it may not exist): The caller does not have permission. This command is authenticated as phamgb1@gmail.com which is the active account specified by the [core/account] property\n",
            "Are you sure you wish to set property [core/project] to medication-predictor?\n",
            "\n",
            "Do you want to continue (Y/n)?  Y\n",
            "\n",
            "Updated property [core/project].\n",
            "Copying gs://medication-dataset/disease_symptom_prediction_dataset.zip...\n",
            "/ [1 files][ 30.0 KiB/ 30.0 KiB]                                                \n",
            "Operation completed over 1 objects/30.0 KiB.                                     \n"
          ]
        }
      ]
    },
    {
      "cell_type": "code",
      "source": [
        "!ls -lh /content/"
      ],
      "metadata": {
        "colab": {
          "base_uri": "https://localhost:8080/"
        },
        "id": "0ZjwbLgsD4ux",
        "outputId": "6c132a03-84dd-45f2-c311-9174095cad09"
      },
      "execution_count": 3,
      "outputs": [
        {
          "output_type": "stream",
          "name": "stdout",
          "text": [
            "total 36K\n",
            "-rw-r--r-- 1 root root  31K Mar 28 23:52 disease_symptom_prediction_dataset.zip\n",
            "drwxr-xr-x 1 root root 4.0K Mar 24 13:34 sample_data\n"
          ]
        }
      ]
    },
    {
      "cell_type": "code",
      "source": [
        "zip_path = \"/content/disease_symptom_prediction_dataset.zip\"\n",
        "extract_to = \"/content/data/\"\n",
        "\n",
        "# Create directory if it doesn't exist\n",
        "os.makedirs(extract_to, exist_ok=True)\n",
        "\n",
        "# Unzip the file\n",
        "with zipfile.ZipFile(zip_path, \"r\") as zip_ref:\n",
        "    zip_ref.extractall(extract_to)\n",
        "\n",
        "print(\"Extraction complete! Files are in:\", extract_to)\n",
        "!ls -lh /content/data"
      ],
      "metadata": {
        "id": "2xYpi7J4ENKG",
        "colab": {
          "base_uri": "https://localhost:8080/"
        },
        "outputId": "77782068-c5b9-4e0d-b81f-f16ab44ae41c"
      },
      "execution_count": 4,
      "outputs": [
        {
          "output_type": "stream",
          "name": "stdout",
          "text": [
            "Extraction complete! Files are in: /content/data/\n",
            "total 640K\n",
            "-rw-r--r-- 1 root root 618K Mar 28 23:52 dataset.csv\n",
            "-rw-r--r-- 1 root root  11K Mar 28 23:52 symptom_Description.csv\n",
            "-rw-r--r-- 1 root root 3.5K Mar 28 23:52 symptom_precaution.csv\n",
            "-rw-r--r-- 1 root root 2.3K Mar 28 23:52 Symptom-severity.csv\n"
          ]
        }
      ]
    },
    {
      "cell_type": "code",
      "source": [
        "dataset_df = pd.read_csv(\"/content/data/dataset.csv\")\n",
        "symptom_Description_df = pd.read_csv(\"/content/data/symptom_Description.csv\")\n",
        "symptom_precaution_df = pd.read_csv(\"/content/data/symptom_precaution.csv\")\n",
        "Symptom_severity_df = pd.read_csv(\"/content/data/Symptom-severity.csv\")"
      ],
      "metadata": {
        "id": "9P7C7QR8HR5I"
      },
      "execution_count": 5,
      "outputs": []
    },
    {
      "cell_type": "code",
      "source": [
        "print(dataset_df.head())"
      ],
      "metadata": {
        "colab": {
          "base_uri": "https://localhost:8080/"
        },
        "id": "CVcOYgYJIDFP",
        "outputId": "ca1102da-80e8-4313-d5f7-d251b324da14"
      },
      "execution_count": 6,
      "outputs": [
        {
          "output_type": "stream",
          "name": "stdout",
          "text": [
            "            Disease   Symptom_1              Symptom_2              Symptom_3  \\\n",
            "0  Fungal infection     itching              skin_rash   nodal_skin_eruptions   \n",
            "1  Fungal infection   skin_rash   nodal_skin_eruptions    dischromic _patches   \n",
            "2  Fungal infection     itching   nodal_skin_eruptions    dischromic _patches   \n",
            "3  Fungal infection     itching              skin_rash    dischromic _patches   \n",
            "4  Fungal infection     itching              skin_rash   nodal_skin_eruptions   \n",
            "\n",
            "              Symptom_4 Symptom_5 Symptom_6 Symptom_7 Symptom_8 Symptom_9  \\\n",
            "0   dischromic _patches       NaN       NaN       NaN       NaN       NaN   \n",
            "1                   NaN       NaN       NaN       NaN       NaN       NaN   \n",
            "2                   NaN       NaN       NaN       NaN       NaN       NaN   \n",
            "3                   NaN       NaN       NaN       NaN       NaN       NaN   \n",
            "4                   NaN       NaN       NaN       NaN       NaN       NaN   \n",
            "\n",
            "  Symptom_10 Symptom_11 Symptom_12 Symptom_13 Symptom_14 Symptom_15  \\\n",
            "0        NaN        NaN        NaN        NaN        NaN        NaN   \n",
            "1        NaN        NaN        NaN        NaN        NaN        NaN   \n",
            "2        NaN        NaN        NaN        NaN        NaN        NaN   \n",
            "3        NaN        NaN        NaN        NaN        NaN        NaN   \n",
            "4        NaN        NaN        NaN        NaN        NaN        NaN   \n",
            "\n",
            "  Symptom_16 Symptom_17  \n",
            "0        NaN        NaN  \n",
            "1        NaN        NaN  \n",
            "2        NaN        NaN  \n",
            "3        NaN        NaN  \n",
            "4        NaN        NaN  \n"
          ]
        }
      ]
    },
    {
      "cell_type": "code",
      "source": [
        "print(len(dataset_df[\"Disease\"].unique())) # Number of unique values in the target column"
      ],
      "metadata": {
        "id": "bGX66U8pImez",
        "colab": {
          "base_uri": "https://localhost:8080/"
        },
        "outputId": "92665a52-a1c4-4d78-ea2c-0b65324d5675"
      },
      "execution_count": 7,
      "outputs": [
        {
          "output_type": "stream",
          "name": "stdout",
          "text": [
            "41\n"
          ]
        }
      ]
    },
    {
      "cell_type": "code",
      "source": [
        "print(\"Symptom 1 Unique Symptoms: \" + str(len(dataset_df[\"Symptom_1\"].unique())))\n",
        "print(\"Symptom 2 Unique Symptoms: \" + str(len(dataset_df[\"Symptom_2\"].unique())))\n",
        "print(\"Symptom 3 Unique Symptoms: \" + str(len(dataset_df[\"Symptom_3\"].unique())))\n",
        "print(\"Symptom 4 Unique Symptoms: \" + str(len(dataset_df[\"Symptom_4\"].unique())))\n",
        "print(\"Symptom 5 Unique Symptoms: \" + str(len(dataset_df[\"Symptom_5\"].unique())))\n",
        "print(\"Symptom 6 Unique Symptoms: \" + str(len(dataset_df[\"Symptom_6\"].unique())))\n",
        "print(\"Symptom 7 Unique Symptoms: \" + str(len(dataset_df[\"Symptom_7\"].unique())))\n",
        "print(\"Symptom 8 Unique Symptoms: \" + str(len(dataset_df[\"Symptom_8\"].unique())))\n",
        "print(\"Symptom 9 Unique Symptoms: \" + str(len(dataset_df[\"Symptom_9\"].unique())))\n",
        "print(\"Symptom 10 Unique Symptoms: \" + str(len(dataset_df[\"Symptom_10\"].unique())))\n",
        "print(\"Symptom 11 Unique Symptoms: \" + str(len(dataset_df[\"Symptom_11\"].unique())))\n",
        "print(\"Symptom 12 Unique Symptoms: \" + str(len(dataset_df[\"Symptom_12\"].unique())))\n",
        "print(\"Symptom 13 Unique Symptoms: \" + str(len(dataset_df[\"Symptom_13\"].unique())))\n",
        "print(\"Symptom 14 Unique Symptoms: \" + str(len(dataset_df[\"Symptom_14\"].unique())))\n",
        "print(\"Symptom 15 Unique Symptoms: \" + str(len(dataset_df[\"Symptom_15\"].unique())))\n",
        "print(\"Symptom 16 Unique Symptoms: \" + str(len(dataset_df[\"Symptom_16\"].unique())))\n",
        "print(\"Symptom 17 Unique Symptoms: \" + str(len(dataset_df[\"Symptom_17\"].unique())))"
      ],
      "metadata": {
        "colab": {
          "base_uri": "https://localhost:8080/"
        },
        "id": "DKtSnVjifpeg",
        "outputId": "1aa793e4-1663-445a-ae53-3112ba956a2e"
      },
      "execution_count": 8,
      "outputs": [
        {
          "output_type": "stream",
          "name": "stdout",
          "text": [
            "Symptom 1 Unique Symptoms: 34\n",
            "Symptom 2 Unique Symptoms: 48\n",
            "Symptom 3 Unique Symptoms: 54\n",
            "Symptom 4 Unique Symptoms: 51\n",
            "Symptom 5 Unique Symptoms: 39\n",
            "Symptom 6 Unique Symptoms: 33\n",
            "Symptom 7 Unique Symptoms: 27\n",
            "Symptom 8 Unique Symptoms: 22\n",
            "Symptom 9 Unique Symptoms: 23\n",
            "Symptom 10 Unique Symptoms: 22\n",
            "Symptom 11 Unique Symptoms: 19\n",
            "Symptom 12 Unique Symptoms: 12\n",
            "Symptom 13 Unique Symptoms: 9\n",
            "Symptom 14 Unique Symptoms: 5\n",
            "Symptom 15 Unique Symptoms: 4\n",
            "Symptom 16 Unique Symptoms: 4\n",
            "Symptom 17 Unique Symptoms: 2\n"
          ]
        }
      ]
    },
    {
      "cell_type": "code",
      "source": [
        "my_list = list(set(list(dataset_df[\"Symptom_1\"].dropna().unique()) + list(dataset_df[\"Symptom_2\"].dropna().unique()) + list(dataset_df[\"Symptom_3\"].dropna().unique()) + list(dataset_df[\"Symptom_4\"].dropna().unique()) + list(dataset_df[\"Symptom_5\"].dropna().unique()) + list(dataset_df[\"Symptom_6\"].dropna().unique()) + list(dataset_df[\"Symptom_7\"].dropna().unique()) + list(dataset_df[\"Symptom_8\"].dropna().unique()) + list(dataset_df[\"Symptom_9\"].dropna().unique()) + list(dataset_df[\"Symptom_10\"].dropna().unique()) + list(dataset_df[\"Symptom_11\"].dropna().unique()) + list(dataset_df[\"Symptom_12\"].dropna().unique()) + list(dataset_df[\"Symptom_13\"].dropna().unique()) + list(dataset_df[\"Symptom_14\"].dropna().unique()) + list(dataset_df[\"Symptom_15\"].dropna().unique()) + list(dataset_df[\"Symptom_16\"].dropna().unique()) + list(dataset_df[\"Symptom_17\"].dropna().unique())))\n",
        "\n",
        "print(my_list)\n",
        "print(len(my_list))\n",
        "print(len(dataset_df[\"Disease\"]))"
      ],
      "metadata": {
        "id": "T0S0qPQS1sXQ",
        "colab": {
          "base_uri": "https://localhost:8080/"
        },
        "outputId": "9e9aa821-eede-42bb-dcc4-75fbab613faf"
      },
      "execution_count": 9,
      "outputs": [
        {
          "output_type": "stream",
          "name": "stdout",
          "text": [
            "[' loss_of_balance', ' dizziness', ' red_spots_over_body', ' congestion', ' dehydration', ' hip_joint_pain', ' skin_rash', ' pain_behind_the_eyes', ' swelling_joints', ' sunken_eyes', ' enlarged_thyroid', ' drying_and_tingling_lips', ' prominent_veins_on_calf', ' knee_pain', ' fatigue', ' swollen_legs', ' red_sore_around_nose', ' polyuria', ' swollen_blood_vessels', ' yellowish_skin', ' blackheads', ' continuous_feel_of_urine', ' sinus_pressure', ' breathlessness', ' fast_heart_rate', ' restlessness', 'itching', ' weakness_in_limbs', ' high_fever', ' family_history', ' extra_marital_contacts', ' altered_sensorium', ' slurred_speech', ' stomach_bleeding', ' muscle_wasting', ' swelling_of_stomach', ' yellow_urine', ' lack_of_concentration', ' nausea', ' cold_hands_and_feets', ' swelled_lymph_nodes', ' scurring', ' loss_of_smell', ' headache', ' blood_in_sputum', ' ulcers_on_tongue', ' burning_micturition', ' fluid_overload', ' indigestion', ' throat_irritation', ' shivering', ' chest_pain', ' stomach_pain', ' internal_itching', ' weakness_of_one_body_side', ' rusty_sputum', ' movement_stiffness', ' blister', ' pus_filled_pimples', ' constipation', ' depression', ' continuous_sneezing', ' puffy_face_and_eyes', ' chills', ' obesity', ' distention_of_abdomen', ' bloody_stool', ' redness_of_eyes', ' swollen_extremeties', ' foul_smell_of urine', ' vomiting', ' belly_pain', ' nodal_skin_eruptions', ' weight_gain', ' patches_in_throat', ' dischromic _patches', ' toxic_look_(typhos)', ' weight_loss', ' spinning_movements', ' skin_peeling', ' muscle_weakness', ' acute_liver_failure', ' coma', ' pain_during_bowel_movements', ' mood_swings', ' watering_from_eyes', ' neck_pain', ' inflammatory_nails', ' increased_appetite', ' silver_like_dusting', ' anxiety', ' cough', ' yellow_crust_ooze', ' phlegm', ' small_dents_in_nails', ' muscle_pain', ' bladder_discomfort', ' lethargy', ' stiff_neck', ' painful_walking', ' excessive_hunger', ' spotting_ urination', ' pain_in_anal_region', ' dark_urine', ' yellowing_of_eyes', ' unsteadiness', ' brittle_nails', ' irritation_in_anus', ' mucoid_sputum', ' runny_nose', ' abdominal_pain', ' loss_of_appetite', ' diarrhoea', ' irregular_sugar_level', ' cramps', ' abnormal_menstruation', ' palpitations', ' joint_pain', ' receiving_blood_transfusion', ' back_pain', ' sweating', ' history_of_alcohol_consumption', ' visual_disturbances', ' mild_fever', ' irritability', ' receiving_unsterile_injections', ' acidity', ' blurred_and_distorted_vision', ' malaise', ' passage_of_gases', ' bruising']\n",
            "131\n",
            "4920\n"
          ]
        }
      ]
    },
    {
      "cell_type": "code",
      "source": [],
      "metadata": {
        "id": "SMCS58mqkEf2"
      },
      "execution_count": 9,
      "outputs": []
    },
    {
      "cell_type": "code",
      "source": [
        "print(dataset_df.columns)\n",
        "\n",
        "# Check data types\n",
        "print(dataset_df.dtypes)\n",
        "\n",
        "# Check for missing values\n",
        "print(dataset_df.isnull().sum())"
      ],
      "metadata": {
        "id": "jOtpdCeokftS",
        "colab": {
          "base_uri": "https://localhost:8080/"
        },
        "outputId": "7d2d7af8-23c6-4ac2-d41f-18d112edcab5"
      },
      "execution_count": 10,
      "outputs": [
        {
          "output_type": "stream",
          "name": "stdout",
          "text": [
            "Index(['Disease', 'Symptom_1', 'Symptom_2', 'Symptom_3', 'Symptom_4',\n",
            "       'Symptom_5', 'Symptom_6', 'Symptom_7', 'Symptom_8', 'Symptom_9',\n",
            "       'Symptom_10', 'Symptom_11', 'Symptom_12', 'Symptom_13', 'Symptom_14',\n",
            "       'Symptom_15', 'Symptom_16', 'Symptom_17'],\n",
            "      dtype='object')\n",
            "Disease       object\n",
            "Symptom_1     object\n",
            "Symptom_2     object\n",
            "Symptom_3     object\n",
            "Symptom_4     object\n",
            "Symptom_5     object\n",
            "Symptom_6     object\n",
            "Symptom_7     object\n",
            "Symptom_8     object\n",
            "Symptom_9     object\n",
            "Symptom_10    object\n",
            "Symptom_11    object\n",
            "Symptom_12    object\n",
            "Symptom_13    object\n",
            "Symptom_14    object\n",
            "Symptom_15    object\n",
            "Symptom_16    object\n",
            "Symptom_17    object\n",
            "dtype: object\n",
            "Disease          0\n",
            "Symptom_1        0\n",
            "Symptom_2        0\n",
            "Symptom_3        0\n",
            "Symptom_4      348\n",
            "Symptom_5     1206\n",
            "Symptom_6     1986\n",
            "Symptom_7     2652\n",
            "Symptom_8     2976\n",
            "Symptom_9     3228\n",
            "Symptom_10    3408\n",
            "Symptom_11    3726\n",
            "Symptom_12    4176\n",
            "Symptom_13    4416\n",
            "Symptom_14    4614\n",
            "Symptom_15    4680\n",
            "Symptom_16    4728\n",
            "Symptom_17    4848\n",
            "dtype: int64\n"
          ]
        }
      ]
    },
    {
      "cell_type": "markdown",
      "source": [],
      "metadata": {
        "id": "gB0zwLXmg8aw"
      }
    },
    {
      "cell_type": "code",
      "source": [
        "categorical_columns = dataset_df.select_dtypes(include=['object', 'category']).columns.tolist()\n",
        "print(\"Categorical columns:\", categorical_columns)\n",
        "\n",
        "encoded_df = pd.get_dummies(dataset_df, columns=categorical_columns, drop_first=True)\n",
        "\n",
        "print(encoded_df.head())\n",
        "\n",
        "encoded_df.to_csv('/content/data/encoded_dataset.csv', index=False)\n",
        "\n",
        "\n",
        "print(encoded_df.head())"
      ],
      "metadata": {
        "colab": {
          "base_uri": "https://localhost:8080/"
        },
        "id": "sVgPEeJNL99m",
        "outputId": "fbbf3eac-f64b-4c59-dc51-f9e5b676cf84"
      },
      "execution_count": 11,
      "outputs": [
        {
          "output_type": "stream",
          "name": "stdout",
          "text": [
            "Categorical columns: ['Disease', 'Symptom_1', 'Symptom_2', 'Symptom_3', 'Symptom_4', 'Symptom_5', 'Symptom_6', 'Symptom_7', 'Symptom_8', 'Symptom_9', 'Symptom_10', 'Symptom_11', 'Symptom_12', 'Symptom_13', 'Symptom_14', 'Symptom_15', 'Symptom_16', 'Symptom_17']\n",
            "   Disease_AIDS  Disease_Acne  Disease_Alcoholic hepatitis  Disease_Allergy  \\\n",
            "0         False         False                        False            False   \n",
            "1         False         False                        False            False   \n",
            "2         False         False                        False            False   \n",
            "3         False         False                        False            False   \n",
            "4         False         False                        False            False   \n",
            "\n",
            "   Disease_Arthritis  Disease_Bronchial Asthma  Disease_Cervical spondylosis  \\\n",
            "0              False                     False                         False   \n",
            "1              False                     False                         False   \n",
            "2              False                     False                         False   \n",
            "3              False                     False                         False   \n",
            "4              False                     False                         False   \n",
            "\n",
            "   Disease_Chicken pox  Disease_Chronic cholestasis  Disease_Common Cold  ...  \\\n",
            "0                False                        False                False  ...   \n",
            "1                False                        False                False  ...   \n",
            "2                False                        False                False  ...   \n",
            "3                False                        False                False  ...   \n",
            "4                False                        False                False  ...   \n",
            "\n",
            "   Symptom_13_ red_spots_over_body  Symptom_13_ runny_nose  \\\n",
            "0                            False                   False   \n",
            "1                            False                   False   \n",
            "2                            False                   False   \n",
            "3                            False                   False   \n",
            "4                            False                   False   \n",
            "\n",
            "   Symptom_13_ stomach_bleeding  Symptom_14_ congestion  Symptom_14_ phlegm  \\\n",
            "0                         False                   False               False   \n",
            "1                         False                   False               False   \n",
            "2                         False                   False               False   \n",
            "3                         False                   False               False   \n",
            "4                         False                   False               False   \n",
            "\n",
            "   Symptom_14_ red_spots_over_body  Symptom_15_ chest_pain  \\\n",
            "0                            False                   False   \n",
            "1                            False                   False   \n",
            "2                            False                   False   \n",
            "3                            False                   False   \n",
            "4                            False                   False   \n",
            "\n",
            "   Symptom_15_ loss_of_smell  Symptom_16_ loss_of_smell  \\\n",
            "0                      False                      False   \n",
            "1                      False                      False   \n",
            "2                      False                      False   \n",
            "3                      False                      False   \n",
            "4                      False                      False   \n",
            "\n",
            "   Symptom_16_ muscle_pain  \n",
            "0                    False  \n",
            "1                    False  \n",
            "2                    False  \n",
            "3                    False  \n",
            "4                    False  \n",
            "\n",
            "[5 rows x 417 columns]\n",
            "   Disease_AIDS  Disease_Acne  Disease_Alcoholic hepatitis  Disease_Allergy  \\\n",
            "0         False         False                        False            False   \n",
            "1         False         False                        False            False   \n",
            "2         False         False                        False            False   \n",
            "3         False         False                        False            False   \n",
            "4         False         False                        False            False   \n",
            "\n",
            "   Disease_Arthritis  Disease_Bronchial Asthma  Disease_Cervical spondylosis  \\\n",
            "0              False                     False                         False   \n",
            "1              False                     False                         False   \n",
            "2              False                     False                         False   \n",
            "3              False                     False                         False   \n",
            "4              False                     False                         False   \n",
            "\n",
            "   Disease_Chicken pox  Disease_Chronic cholestasis  Disease_Common Cold  ...  \\\n",
            "0                False                        False                False  ...   \n",
            "1                False                        False                False  ...   \n",
            "2                False                        False                False  ...   \n",
            "3                False                        False                False  ...   \n",
            "4                False                        False                False  ...   \n",
            "\n",
            "   Symptom_13_ red_spots_over_body  Symptom_13_ runny_nose  \\\n",
            "0                            False                   False   \n",
            "1                            False                   False   \n",
            "2                            False                   False   \n",
            "3                            False                   False   \n",
            "4                            False                   False   \n",
            "\n",
            "   Symptom_13_ stomach_bleeding  Symptom_14_ congestion  Symptom_14_ phlegm  \\\n",
            "0                         False                   False               False   \n",
            "1                         False                   False               False   \n",
            "2                         False                   False               False   \n",
            "3                         False                   False               False   \n",
            "4                         False                   False               False   \n",
            "\n",
            "   Symptom_14_ red_spots_over_body  Symptom_15_ chest_pain  \\\n",
            "0                            False                   False   \n",
            "1                            False                   False   \n",
            "2                            False                   False   \n",
            "3                            False                   False   \n",
            "4                            False                   False   \n",
            "\n",
            "   Symptom_15_ loss_of_smell  Symptom_16_ loss_of_smell  \\\n",
            "0                      False                      False   \n",
            "1                      False                      False   \n",
            "2                      False                      False   \n",
            "3                      False                      False   \n",
            "4                      False                      False   \n",
            "\n",
            "   Symptom_16_ muscle_pain  \n",
            "0                    False  \n",
            "1                    False  \n",
            "2                    False  \n",
            "3                    False  \n",
            "4                    False  \n",
            "\n",
            "[5 rows x 417 columns]\n"
          ]
        }
      ]
    },
    {
      "cell_type": "code",
      "source": [
        "import pandas as pd\n",
        "\n",
        "# Load the dataset\n",
        "df = pd.read_csv('/content/data/encoded_dataset.csv')\n",
        "\n",
        "# Identify disease columns (assumption: they are the first N columns)\n",
        "disease_columns = [col for col in df.columns if \"Disease_\" in col]\n",
        "symptom_columns = [col for col in df.columns if col not in disease_columns]\n",
        "\n",
        "# Convert one-hot encoded diseases to a single column\n",
        "df[\"Disease\"] = df[disease_columns].idxmax(axis=1).str.replace(\"Disease_\", \"\")\n",
        "\n",
        "# Drop the original disease columns\n",
        "df = df.drop(columns=disease_columns)\n",
        "\n",
        "# Convert boolean values to integers (0/1)\n",
        "df[symptom_columns] = df[symptom_columns].astype(int)\n",
        "\n",
        "# Reorder columns: Disease first, then symptoms\n",
        "df = df[[\"Disease\"] + symptom_columns]\n",
        "\n",
        "# Save the transformed dataset\n",
        "df.to_csv('/content/data/transformed_dataset.csv', index=False)\n",
        "\n",
        "# Display the df\n",
        "print(df)\n"
      ],
      "metadata": {
        "colab": {
          "base_uri": "https://localhost:8080/"
        },
        "id": "y1eUM6M2TH7D",
        "outputId": "84e7187f-f283-4ab4-ddd9-611eaac11323"
      },
      "execution_count": 12,
      "outputs": [
        {
          "output_type": "stream",
          "name": "stdout",
          "text": [
            "                      Disease  Symptom_1_ back_pain  \\\n",
            "0            Fungal infection                     0   \n",
            "1            Fungal infection                     0   \n",
            "2            Fungal infection                     0   \n",
            "3            Fungal infection                     0   \n",
            "4            Fungal infection                     0   \n",
            "...                       ...                   ...   \n",
            "4915                     AIDS                     0   \n",
            "4916                     Acne                     0   \n",
            "4917  Urinary tract infection                     0   \n",
            "4918                Psoriasis                     0   \n",
            "4919                 Impetigo                     0   \n",
            "\n",
            "      Symptom_1_ bladder_discomfort  Symptom_1_ breathlessness  \\\n",
            "0                                 0                          0   \n",
            "1                                 0                          0   \n",
            "2                                 0                          0   \n",
            "3                                 0                          0   \n",
            "4                                 0                          0   \n",
            "...                             ...                        ...   \n",
            "4915                              0                          0   \n",
            "4916                              0                          0   \n",
            "4917                              0                          0   \n",
            "4918                              0                          0   \n",
            "4919                              0                          0   \n",
            "\n",
            "      Symptom_1_ burning_micturition  Symptom_1_ chest_pain  \\\n",
            "0                                  0                      0   \n",
            "1                                  0                      0   \n",
            "2                                  0                      0   \n",
            "3                                  0                      0   \n",
            "4                                  0                      0   \n",
            "...                              ...                    ...   \n",
            "4915                               0                      0   \n",
            "4916                               0                      0   \n",
            "4917                               1                      0   \n",
            "4918                               0                      0   \n",
            "4919                               0                      0   \n",
            "\n",
            "      Symptom_1_ chills  Symptom_1_ constipation  \\\n",
            "0                     0                        0   \n",
            "1                     0                        0   \n",
            "2                     0                        0   \n",
            "3                     0                        0   \n",
            "4                     0                        0   \n",
            "...                 ...                      ...   \n",
            "4915                  0                        0   \n",
            "4916                  0                        0   \n",
            "4917                  0                        0   \n",
            "4918                  0                        0   \n",
            "4919                  0                        0   \n",
            "\n",
            "      Symptom_1_ continuous_sneezing  Symptom_1_ cough  ...  \\\n",
            "0                                  0                 0  ...   \n",
            "1                                  0                 0  ...   \n",
            "2                                  0                 0  ...   \n",
            "3                                  0                 0  ...   \n",
            "4                                  0                 0  ...   \n",
            "...                              ...               ...  ...   \n",
            "4915                               0                 0  ...   \n",
            "4916                               0                 0  ...   \n",
            "4917                               0                 0  ...   \n",
            "4918                               0                 0  ...   \n",
            "4919                               0                 0  ...   \n",
            "\n",
            "      Symptom_13_ red_spots_over_body  Symptom_13_ runny_nose  \\\n",
            "0                                   0                       0   \n",
            "1                                   0                       0   \n",
            "2                                   0                       0   \n",
            "3                                   0                       0   \n",
            "4                                   0                       0   \n",
            "...                               ...                     ...   \n",
            "4915                                0                       0   \n",
            "4916                                0                       0   \n",
            "4917                                0                       0   \n",
            "4918                                0                       0   \n",
            "4919                                0                       0   \n",
            "\n",
            "      Symptom_13_ stomach_bleeding  Symptom_14_ congestion  \\\n",
            "0                                0                       0   \n",
            "1                                0                       0   \n",
            "2                                0                       0   \n",
            "3                                0                       0   \n",
            "4                                0                       0   \n",
            "...                            ...                     ...   \n",
            "4915                             0                       0   \n",
            "4916                             0                       0   \n",
            "4917                             0                       0   \n",
            "4918                             0                       0   \n",
            "4919                             0                       0   \n",
            "\n",
            "      Symptom_14_ phlegm  Symptom_14_ red_spots_over_body  \\\n",
            "0                      0                                0   \n",
            "1                      0                                0   \n",
            "2                      0                                0   \n",
            "3                      0                                0   \n",
            "4                      0                                0   \n",
            "...                  ...                              ...   \n",
            "4915                   0                                0   \n",
            "4916                   0                                0   \n",
            "4917                   0                                0   \n",
            "4918                   0                                0   \n",
            "4919                   0                                0   \n",
            "\n",
            "      Symptom_15_ chest_pain  Symptom_15_ loss_of_smell  \\\n",
            "0                          0                          0   \n",
            "1                          0                          0   \n",
            "2                          0                          0   \n",
            "3                          0                          0   \n",
            "4                          0                          0   \n",
            "...                      ...                        ...   \n",
            "4915                       0                          0   \n",
            "4916                       0                          0   \n",
            "4917                       0                          0   \n",
            "4918                       0                          0   \n",
            "4919                       0                          0   \n",
            "\n",
            "      Symptom_16_ loss_of_smell  Symptom_16_ muscle_pain  \n",
            "0                             0                        0  \n",
            "1                             0                        0  \n",
            "2                             0                        0  \n",
            "3                             0                        0  \n",
            "4                             0                        0  \n",
            "...                         ...                      ...  \n",
            "4915                          0                        0  \n",
            "4916                          0                        0  \n",
            "4917                          0                        0  \n",
            "4918                          0                        0  \n",
            "4919                          0                        0  \n",
            "\n",
            "[4920 rows x 378 columns]\n"
          ]
        }
      ]
    },
    {
      "cell_type": "code",
      "source": [
        "import torch\n",
        "import torch.nn as nn\n",
        "import torch.optim as optim\n",
        "from torch.utils.data import DataLoader, TensorDataset, random_split\n",
        "\n",
        "df = pd.read_csv('/content/data/encoded_dataset.csv')\n",
        "\n",
        "disease_columns = [col for col in df.columns if \"Disease_\" in col]\n",
        "symptom_columns = [col for col in df.columns if col not in disease_columns]\n",
        "df[\"Disease\"] = df[disease_columns].idxmax(axis=1).str.replace(\"Disease_\", \"\")\n",
        "df = df.drop(columns=disease_columns)\n",
        "df[symptom_columns] = df[symptom_columns].astype(int)\n",
        "df = df[[\"Disease\"] + symptom_columns]\n",
        "\n",
        "X = df.drop(columns=['Disease']).values\n",
        "y = pd.get_dummies(df['Disease']).values\n",
        "\n",
        "X_tensor = torch.tensor(X, dtype=torch.float32)\n",
        "y_tensor = torch.tensor(y, dtype=torch.float32)\n",
        "\n",
        "dataset = TensorDataset(X_tensor, y_tensor)\n",
        "\n",
        "train_size = int(0.7 * len(dataset)) # Changed 0.8 to 0.7\n",
        "validate_size = int(0.15 * len(dataset)) # Validation set is 0.15\n",
        "test_size = len(dataset) - (train_size + validate_size) # Test set is 0.15\n",
        "train_dataset, validate_dataset, test_dataset = random_split(dataset, [train_size, validate_size, test_size]) # Added validation set\n",
        "\n",
        "train_loader = DataLoader(train_dataset, batch_size=32, shuffle=True)\n",
        "validate_loader = DataLoader(validate_dataset, batch_size=32, shuffle=False) # Added validation loader\n",
        "test_loader = DataLoader(test_dataset, batch_size=32, shuffle=False)\n",
        "\n",
        "class MultiLabelNN(nn.Module):\n",
        "    def __init__(self, input_size, hidden_size, output_size):\n",
        "        super(MultiLabelNN, self).__init__()\n",
        "        self.fc1 = nn.Linear(input_size, hidden_size)\n",
        "        self.fc2 = nn.Linear(hidden_size, hidden_size)\n",
        "        self.fc3 = nn.Linear(hidden_size, output_size)\n",
        "\n",
        "    def forward(self, x):\n",
        "        x = torch.relu(self.fc1(x))\n",
        "        x = torch.relu(self.fc2(x))\n",
        "        x = self.fc3(x)\n",
        "        return x\n",
        "\n",
        "input_size = X_tensor.shape[1]\n",
        "hidden_size = 128\n",
        "output_size = y_tensor.shape[1]\n",
        "model = MultiLabelNN(input_size, hidden_size, output_size)\n",
        "\n",
        "criterion = nn.BCEWithLogitsLoss()\n",
        "optimizer = optim.Adam(model.parameters(), lr=0.001)\n",
        "\n",
        "num_epochs = 10\n",
        "for epoch in range(num_epochs):\n",
        "    model.train()\n",
        "    running_loss = 0.0\n",
        "\n",
        "    for batch_X, batch_y in train_loader:\n",
        "        optimizer.zero_grad()\n",
        "        outputs = model(batch_X)\n",
        "        loss = criterion(outputs, batch_y)\n",
        "        loss.backward()\n",
        "        optimizer.step()\n",
        "        running_loss += loss.item()\n",
        "\n",
        "    print(f\"Epoch [{epoch+1}/{num_epochs}], Loss: {running_loss/len(train_loader):.4f}\")\n",
        "\n",
        "model.eval()\n",
        "y_pred = []\n",
        "y_true = []\n",
        "\n",
        "with torch.no_grad():\n",
        "    for batch_X, batch_y in validate_loader: # Changed from test_loader to validate_loader\n",
        "        outputs = model(batch_X)\n",
        "        predicted = torch.sigmoid(outputs) > 0.5\n",
        "        y_pred.extend(predicted.cpu().numpy())\n",
        "        y_true.extend(batch_y.cpu().numpy())\n",
        "\n",
        "y_pred_tensor = torch.tensor(y_pred, dtype=torch.float32)\n",
        "y_true_tensor = torch.tensor(y_true, dtype=torch.float32)\n",
        "correct = (y_pred_tensor == y_true_tensor).float().sum()\n",
        "total = y_true_tensor.numel()\n",
        "accuracy = correct / total\n",
        "print(f\"Validation Accuracy: {accuracy * 100:.2f}%\")\n",
        "\n",
        "torch.save(model.state_dict(), '/content/data/multi_label_nn_model.pth')"
      ],
      "metadata": {
        "colab": {
          "base_uri": "https://localhost:8080/"
        },
        "id": "nVw4rPLqMCuq",
        "outputId": "82e9da30-7b06-4dff-ddcc-bbe02041a7d8"
      },
      "execution_count": 27,
      "outputs": [
        {
          "output_type": "stream",
          "name": "stdout",
          "text": [
            "Epoch [1/10], Loss: 0.2509\n",
            "Epoch [2/10], Loss: 0.1017\n",
            "Epoch [3/10], Loss: 0.0450\n",
            "Epoch [4/10], Loss: 0.0102\n",
            "Epoch [5/10], Loss: 0.0030\n",
            "Epoch [6/10], Loss: 0.0013\n",
            "Epoch [7/10], Loss: 0.0007\n",
            "Epoch [8/10], Loss: 0.0005\n",
            "Epoch [9/10], Loss: 0.0003\n",
            "Epoch [10/10], Loss: 0.0002\n",
            "Validation Accuracy: 100.00%\n"
          ]
        }
      ]
    },
    {
      "cell_type": "code",
      "source": [
        "import matplotlib.pyplot as plt\n",
        "\n",
        "train_losses = []\n",
        "val_accuracies = []\n",
        "\n",
        "\n",
        "for epoch in range(num_epochs):\n",
        "    model.train()\n",
        "    running_loss = 0.0\n",
        "\n",
        "    for batch_X, batch_y in train_loader:\n",
        "        optimizer.zero_grad()\n",
        "        outputs = model(batch_X)\n",
        "        loss = criterion(outputs, batch_y)\n",
        "        loss.backward()\n",
        "        optimizer.step()\n",
        "        running_loss += loss.item()\n",
        "\n",
        "    epoch_loss = running_loss/len(train_loader)\n",
        "    train_losses.append(epoch_loss)\n",
        "\n",
        "\n",
        "    model.eval()\n",
        "    correct = 0\n",
        "    total = 0\n",
        "    with torch.no_grad():\n",
        "        for batch_X, batch_y in validate_loader:\n",
        "            outputs = model(batch_X)\n",
        "            predicted = torch.sigmoid(outputs) > 0.5\n",
        "            correct += (predicted == batch_y).float().sum().item()\n",
        "            total += batch_y.numel()\n",
        "\n",
        "    val_accuracy = correct / total\n",
        "    val_accuracies.append(val_accuracy)\n",
        "\n",
        "    print(f\"Epoch [{epoch+1}/{num_epochs}], Loss: {epoch_loss:.4f}, Val Accuracy: {val_accuracy*100:.2f}%\")\n",
        "\n",
        "\n",
        "plt.figure(figsize=(12, 5))\n",
        "\n",
        "\n",
        "plt.subplot(1, 2, 1) # Training loss plot\n",
        "plt.plot(train_losses, 'b-', label='Training Loss')\n",
        "plt.xlabel('Epoch')\n",
        "plt.ylabel('Loss')\n",
        "plt.title('Training Loss Over Epochs')\n",
        "plt.grid(True)\n",
        "plt.legend()\n",
        "\n",
        "\n",
        "plt.subplot(1, 2, 2) # Validation accuracy plot\n",
        "plt.plot(val_accuracies, 'r-', label='Validation Accuracy')\n",
        "plt.xlabel('Epoch')\n",
        "plt.ylabel('Accuracy')\n",
        "plt.title('Validation Accuracy Over Epochs')\n",
        "plt.grid(True)\n",
        "plt.legend()\n",
        "\n",
        "plt.tight_layout()\n",
        "plt.show()"
      ],
      "metadata": {
        "colab": {
          "base_uri": "https://localhost:8080/",
          "height": 689
        },
        "id": "BNQiyB9mSA_t",
        "outputId": "da7104ca-f0ae-4aee-a6dd-2e93f693ccd2"
      },
      "execution_count": 31,
      "outputs": [
        {
          "output_type": "stream",
          "name": "stdout",
          "text": [
            "Epoch [1/10], Loss: 0.0000, Val Accuracy: 100.00%\n",
            "Epoch [2/10], Loss: 0.0000, Val Accuracy: 100.00%\n",
            "Epoch [3/10], Loss: 0.0000, Val Accuracy: 100.00%\n",
            "Epoch [4/10], Loss: 0.0000, Val Accuracy: 100.00%\n",
            "Epoch [5/10], Loss: 0.0000, Val Accuracy: 100.00%\n",
            "Epoch [6/10], Loss: 0.0000, Val Accuracy: 100.00%\n",
            "Epoch [7/10], Loss: 0.0000, Val Accuracy: 100.00%\n",
            "Epoch [8/10], Loss: 0.0000, Val Accuracy: 100.00%\n",
            "Epoch [9/10], Loss: 0.0000, Val Accuracy: 100.00%\n",
            "Epoch [10/10], Loss: 0.0000, Val Accuracy: 100.00%\n"
          ]
        },
        {
          "output_type": "display_data",
          "data": {
            "text/plain": [
              "<Figure size 1200x500 with 2 Axes>"
            ],
            "image/png": "[encoded data removed]"
          },
          "metadata": {}
        }
      ]
    },
    {
      "cell_type": "code",
      "source": [],
      "metadata": {
        "id": "tMEAgBWKg6d4"
      },
      "execution_count": 27,
      "outputs": []
    }
  ]
}