{
  "nbformat": 4,
  "nbformat_minor": 0,
  "metadata": {
    "colab": {
      "provenance": [],
      "include_colab_link": true
    },
    "kernelspec": {
      "name": "python3",
      "display_name": "Python 3"
    },
    "language_info": {
      "name": "python"
    }
  },
  "cells": [
    {
      "cell_type": "markdown",
      "metadata": {
        "id": "view-in-github",
        "colab_type": "text"
      },
      "source": [
        "<a href=\"https://colab.research.google.com/github/Fridge2000/ai-accelerator-2025/blob/main/Medicine_Predictor.ipynb\" target=\"_parent\"><img src=\"https://colab.research.google.com/assets/colab-badge.svg\" alt=\"Open In Colab\"/></a>"
      ]
    },
    {
      "cell_type": "code",
      "execution_count": 11,
      "metadata": {
        "id": "lNrvwemb32Ti"
      },
      "outputs": [],
      "source": [
        "from google.colab import auth\n",
        "import zipfile\n",
        "import os\n",
        "import pandas as pd"
      ]
    },
    {
      "cell_type": "code",
      "source": [
        "auth.authenticate_user()\n",
        "\n",
        "!gcloud config set project medication-predictor\n",
        "\n",
        "!gsutil cp gs://medication-dataset/disease_symptom_prediction_dataset.zip /content/"
      ],
      "metadata": {
        "id": "dcV-pzvmD0PH",
        "colab": {
          "base_uri": "https://localhost:8080/"
        },
        "outputId": "78098980-c6ad-4ab3-f2b2-c86d371a00fa"
      },
      "execution_count": 17,
      "outputs": [
        {
          "output_type": "stream",
          "name": "stdout",
          "text": [
            "\u001b[1;33mWARNING:\u001b[0m [phamgb1@gmail.com] does not have permission to access projects instance [medication-predictor] (or it may not exist): The caller does not have permission. This command is authenticated as phamgb1@gmail.com which is the active account specified by the [core/account] property\n",
            "Are you sure you wish to set property [core/project] to medication-predictor?\n",
            "\n",
            "Do you want to continue (Y/n)?  \n",
            "\n",
            "Command killed by keyboard interrupt\n",
            "\n",
            "^C\n",
            "Copying gs://medication-dataset/disease_symptom_prediction_dataset.zip...\n",
            "/ [1 files][ 30.0 KiB/ 30.0 KiB]                                                \n",
            "Operation completed over 1 objects/30.0 KiB.                                     \n"
          ]
        }
      ]
    },
    {
      "cell_type": "code",
      "source": [
        "!ls -lh /content/"
      ],
      "metadata": {
        "colab": {
          "base_uri": "https://localhost:8080/"
        },
        "id": "0ZjwbLgsD4ux",
        "outputId": "13a17b3b-ef00-49a3-8c6e-777069d4efa5"
      },
      "execution_count": 24,
      "outputs": [
        {
          "output_type": "stream",
          "name": "stdout",
          "text": [
            "total 40K\n",
            "drwxr-xr-x 2 root root 4.0K Mar 15 17:09 data\n",
            "-rw-r--r-- 1 root root  31K Mar 15 17:09 disease_symptom_prediction_dataset.zip\n",
            "drwxr-xr-x 1 root root 4.0K Mar 13 13:31 sample_data\n"
          ]
        }
      ]
    },
    {
      "cell_type": "code",
      "source": [
        "zip_path = \"/content/disease_symptom_prediction_dataset.zip\"\n",
        "extract_to = \"/content/data/\"\n",
        "\n",
        "# Create directory if it doesn't exist\n",
        "os.makedirs(extract_to, exist_ok=True)\n",
        "\n",
        "# Unzip the file\n",
        "with zipfile.ZipFile(zip_path, \"r\") as zip_ref:\n",
        "    zip_ref.extractall(extract_to)\n",
        "\n",
        "print(\"Extraction complete! Files are in:\", extract_to)\n",
        "!ls -lh /content/data"
      ],
      "metadata": {
        "id": "2xYpi7J4ENKG",
        "colab": {
          "base_uri": "https://localhost:8080/"
        },
        "outputId": "458cfab0-f7aa-495e-8ca2-a99720bc472a"
      },
      "execution_count": 25,
      "outputs": [
        {
          "output_type": "stream",
          "name": "stdout",
          "text": [
            "Extraction complete! Files are in: /content/data/\n",
            "total 640K\n",
            "-rw-r--r-- 1 root root 618K Mar 15 17:12 dataset.csv\n",
            "-rw-r--r-- 1 root root  11K Mar 15 17:12 symptom_Description.csv\n",
            "-rw-r--r-- 1 root root 3.5K Mar 15 17:12 symptom_precaution.csv\n",
            "-rw-r--r-- 1 root root 2.3K Mar 15 17:12 Symptom-severity.csv\n"
          ]
        }
      ]
    },
    {
      "cell_type": "code",
      "source": [
        "dataset_df = pd.read_csv(\"/content/data/dataset.csv\")\n",
        "symptom_Description_df = pd.read_csv(\"/content/data/symptom_Description.csv\")\n",
        "symptom_precaution_df = pd.read_csv(\"/content/data/symptom_precaution.csv\")\n",
        "Symptom_severity_df = pd.read_csv(\"/content/data/Symptom-severity.csv\")"
      ],
      "metadata": {
        "id": "9P7C7QR8HR5I"
      },
      "execution_count": 26,
      "outputs": []
    },
    {
      "cell_type": "code",
      "source": [
        "print(dataset_df.head())"
      ],
      "metadata": {
        "colab": {
          "base_uri": "https://localhost:8080/"
        },
        "id": "CVcOYgYJIDFP",
        "outputId": "3d3af40a-b5e8-41c7-b38c-57d7ef68fe68"
      },
      "execution_count": 27,
      "outputs": [
        {
          "output_type": "stream",
          "name": "stdout",
          "text": [
            "            Disease   Symptom_1              Symptom_2              Symptom_3  \\\n",
            "0  Fungal infection     itching              skin_rash   nodal_skin_eruptions   \n",
            "1  Fungal infection   skin_rash   nodal_skin_eruptions    dischromic _patches   \n",
            "2  Fungal infection     itching   nodal_skin_eruptions    dischromic _patches   \n",
            "3  Fungal infection     itching              skin_rash    dischromic _patches   \n",
            "4  Fungal infection     itching              skin_rash   nodal_skin_eruptions   \n",
            "\n",
            "              Symptom_4 Symptom_5 Symptom_6 Symptom_7 Symptom_8 Symptom_9  \\\n",
            "0   dischromic _patches       NaN       NaN       NaN       NaN       NaN   \n",
            "1                   NaN       NaN       NaN       NaN       NaN       NaN   \n",
            "2                   NaN       NaN       NaN       NaN       NaN       NaN   \n",
            "3                   NaN       NaN       NaN       NaN       NaN       NaN   \n",
            "4                   NaN       NaN       NaN       NaN       NaN       NaN   \n",
            "\n",
            "  Symptom_10 Symptom_11 Symptom_12 Symptom_13 Symptom_14 Symptom_15  \\\n",
            "0        NaN        NaN        NaN        NaN        NaN        NaN   \n",
            "1        NaN        NaN        NaN        NaN        NaN        NaN   \n",
            "2        NaN        NaN        NaN        NaN        NaN        NaN   \n",
            "3        NaN        NaN        NaN        NaN        NaN        NaN   \n",
            "4        NaN        NaN        NaN        NaN        NaN        NaN   \n",
            "\n",
            "  Symptom_16 Symptom_17  \n",
            "0        NaN        NaN  \n",
            "1        NaN        NaN  \n",
            "2        NaN        NaN  \n",
            "3        NaN        NaN  \n",
            "4        NaN        NaN  \n"
          ]
        }
      ]
    },
    {
      "cell_type": "code",
      "source": [
        "print(len(dataset_df[\"Disease\"].unique())) # Number of unique values in the target column"
      ],
      "metadata": {
        "id": "bGX66U8pImez",
        "colab": {
          "base_uri": "https://localhost:8080/"
        },
        "outputId": "629db8ad-29f5-485a-fa86-a4bc5c49923b"
      },
      "execution_count": 28,
      "outputs": [
        {
          "output_type": "stream",
          "name": "stdout",
          "text": [
            "41\n"
          ]
        }
      ]
    },
    {
      "cell_type": "code",
      "source": [
        "print(\"Symptom 1 Unique Symptoms: \" + str(len(dataset_df[\"Symptom_1\"].unique())))\n",
        "print(\"Symptom 2 Unique Symptoms: \" + str(len(dataset_df[\"Symptom_2\"].unique())))\n",
        "print(\"Symptom 3 Unique Symptoms: \" + str(len(dataset_df[\"Symptom_3\"].unique())))\n",
        "print(\"Symptom 4 Unique Symptoms: \" + str(len(dataset_df[\"Symptom_4\"].unique())))\n",
        "print(\"Symptom 5 Unique Symptoms: \" + str(len(dataset_df[\"Symptom_5\"].unique())))\n",
        "print(\"Symptom 6 Unique Symptoms: \" + str(len(dataset_df[\"Symptom_6\"].unique())))\n",
        "print(\"Symptom 7 Unique Symptoms: \" + str(len(dataset_df[\"Symptom_7\"].unique())))\n",
        "print(\"Symptom 8 Unique Symptoms: \" + str(len(dataset_df[\"Symptom_8\"].unique())))\n",
        "print(\"Symptom 9 Unique Symptoms: \" + str(len(dataset_df[\"Symptom_9\"].unique())))\n",
        "print(\"Symptom 10 Unique Symptoms: \" + str(len(dataset_df[\"Symptom_10\"].unique())))\n",
        "print(\"Symptom 11 Unique Symptoms: \" + str(len(dataset_df[\"Symptom_11\"].unique())))\n",
        "print(\"Symptom 12 Unique Symptoms: \" + str(len(dataset_df[\"Symptom_12\"].unique())))\n",
        "print(\"Symptom 13 Unique Symptoms: \" + str(len(dataset_df[\"Symptom_13\"].unique())))\n",
        "print(\"Symptom 14 Unique Symptoms: \" + str(len(dataset_df[\"Symptom_14\"].unique())))\n",
        "print(\"Symptom 15 Unique Symptoms: \" + str(len(dataset_df[\"Symptom_15\"].unique())))\n",
        "print(\"Symptom 16 Unique Symptoms: \" + str(len(dataset_df[\"Symptom_16\"].unique())))\n",
        "print(\"Symptom 17 Unique Symptoms: \" + str(len(dataset_df[\"Symptom_17\"].unique())))"
      ],
      "metadata": {
        "colab": {
          "base_uri": "https://localhost:8080/"
        },
        "id": "DKtSnVjifpeg",
        "outputId": "56f75a5a-95ad-411c-9b3c-96982d6c55cc"
      },
      "execution_count": 29,
      "outputs": [
        {
          "output_type": "stream",
          "name": "stdout",
          "text": [
            "Symptom 1 Unique Symptoms: 34\n",
            "Symptom 2 Unique Symptoms: 48\n",
            "Symptom 3 Unique Symptoms: 54\n",
            "Symptom 4 Unique Symptoms: 51\n",
            "Symptom 5 Unique Symptoms: 39\n",
            "Symptom 6 Unique Symptoms: 33\n",
            "Symptom 7 Unique Symptoms: 27\n",
            "Symptom 8 Unique Symptoms: 22\n",
            "Symptom 9 Unique Symptoms: 23\n",
            "Symptom 10 Unique Symptoms: 22\n",
            "Symptom 11 Unique Symptoms: 19\n",
            "Symptom 12 Unique Symptoms: 12\n",
            "Symptom 13 Unique Symptoms: 9\n",
            "Symptom 14 Unique Symptoms: 5\n",
            "Symptom 15 Unique Symptoms: 4\n",
            "Symptom 16 Unique Symptoms: 4\n",
            "Symptom 17 Unique Symptoms: 2\n"
          ]
        }
      ]
    },
    {
      "cell_type": "code",
      "source": [],
      "metadata": {
        "id": "SMCS58mqkEf2"
      },
      "execution_count": 29,
      "outputs": []
    },
    {
      "cell_type": "code",
      "source": [
        "print(dataset_df.columns)\n",
        "\n",
        "print(dataset_df.dtypes)\n",
        "\n",
        "\n",
        "print(dataset_df.isnull().sum())"
      ],
      "metadata": {
        "id": "jOtpdCeokftS",
        "colab": {
          "base_uri": "https://localhost:8080/"
        },
        "outputId": "f42dc9cf-6582-4276-84a8-f527821da381"
      },
      "execution_count": 48,
      "outputs": [
        {
          "output_type": "stream",
          "name": "stdout",
          "text": [
            "Index(['Disease', 'Symptom_1', 'Symptom_2', 'Symptom_3', 'Symptom_4',\n",
            "       'Symptom_5', 'Symptom_6', 'Symptom_7', 'Symptom_8', 'Symptom_9',\n",
            "       'Symptom_10', 'Symptom_11', 'Symptom_12', 'Symptom_13', 'Symptom_14',\n",
            "       'Symptom_15', 'Symptom_16', 'Symptom_17'],\n",
            "      dtype='object')\n",
            "Disease       object\n",
            "Symptom_1     object\n",
            "Symptom_2     object\n",
            "Symptom_3     object\n",
            "Symptom_4     object\n",
            "Symptom_5     object\n",
            "Symptom_6     object\n",
            "Symptom_7     object\n",
            "Symptom_8     object\n",
            "Symptom_9     object\n",
            "Symptom_10    object\n",
            "Symptom_11    object\n",
            "Symptom_12    object\n",
            "Symptom_13    object\n",
            "Symptom_14    object\n",
            "Symptom_15    object\n",
            "Symptom_16    object\n",
            "Symptom_17    object\n",
            "dtype: object\n",
            "Disease          0\n",
            "Symptom_1        0\n",
            "Symptom_2        0\n",
            "Symptom_3        0\n",
            "Symptom_4      348\n",
            "Symptom_5     1206\n",
            "Symptom_6     1986\n",
            "Symptom_7     2652\n",
            "Symptom_8     2976\n",
            "Symptom_9     3228\n",
            "Symptom_10    3408\n",
            "Symptom_11    3726\n",
            "Symptom_12    4176\n",
            "Symptom_13    4416\n",
            "Symptom_14    4614\n",
            "Symptom_15    4680\n",
            "Symptom_16    4728\n",
            "Symptom_17    4848\n",
            "dtype: int64\n"
          ]
        }
      ]
    },
    {
      "cell_type": "markdown",
      "source": [],
      "metadata": {
        "id": "gB0zwLXmg8aw"
      }
    },
    {
      "cell_type": "code",
      "source": [
        "\n",
        "categorical_columns = dataset_df.select_dtypes(include=['object', 'category']).columns.tolist()\n",
        "print(\"Categorical columns:\", categorical_columns)\n",
        "\n",
        "encoded_df = pd.get_dummies(dataset_df, columns=categorical_columns, drop_first=True)\n",
        "\n",
        "print(encoded_df.head())\n",
        "\n",
        "encoded_df.to_csv('/content/data/encoded_dataset.csv', index=False)\n",
        "\n",
        "\n",
        "print(encoded_df.head())"
      ],
      "metadata": {
        "colab": {
          "base_uri": "https://localhost:8080/"
        },
        "id": "BgniTOc00QP2",
        "outputId": "5b68d229-21e0-4540-c915-62b7854f51ef"
      },
      "execution_count": 40,
      "outputs": [
        {
          "output_type": "stream",
          "name": "stdout",
          "text": [
            "Categorical columns: ['Disease', 'Symptom_1', 'Symptom_2', 'Symptom_3', 'Symptom_4', 'Symptom_5', 'Symptom_6', 'Symptom_7', 'Symptom_8', 'Symptom_9', 'Symptom_10', 'Symptom_11', 'Symptom_12', 'Symptom_13', 'Symptom_14', 'Symptom_15', 'Symptom_16', 'Symptom_17']\n",
            "   Disease_AIDS  Disease_Acne  Disease_Alcoholic hepatitis  Disease_Allergy  \\\n",
            "0         False         False                        False            False   \n",
            "1         False         False                        False            False   \n",
            "2         False         False                        False            False   \n",
            "3         False         False                        False            False   \n",
            "4         False         False                        False            False   \n",
            "\n",
            "   Disease_Arthritis  Disease_Bronchial Asthma  Disease_Cervical spondylosis  \\\n",
            "0              False                     False                         False   \n",
            "1              False                     False                         False   \n",
            "2              False                     False                         False   \n",
            "3              False                     False                         False   \n",
            "4              False                     False                         False   \n",
            "\n",
            "   Disease_Chicken pox  Disease_Chronic cholestasis  Disease_Common Cold  ...  \\\n",
            "0                False                        False                False  ...   \n",
            "1                False                        False                False  ...   \n",
            "2                False                        False                False  ...   \n",
            "3                False                        False                False  ...   \n",
            "4                False                        False                False  ...   \n",
            "\n",
            "   Symptom_13_ red_spots_over_body  Symptom_13_ runny_nose  \\\n",
            "0                            False                   False   \n",
            "1                            False                   False   \n",
            "2                            False                   False   \n",
            "3                            False                   False   \n",
            "4                            False                   False   \n",
            "\n",
            "   Symptom_13_ stomach_bleeding  Symptom_14_ congestion  Symptom_14_ phlegm  \\\n",
            "0                         False                   False               False   \n",
            "1                         False                   False               False   \n",
            "2                         False                   False               False   \n",
            "3                         False                   False               False   \n",
            "4                         False                   False               False   \n",
            "\n",
            "   Symptom_14_ red_spots_over_body  Symptom_15_ chest_pain  \\\n",
            "0                            False                   False   \n",
            "1                            False                   False   \n",
            "2                            False                   False   \n",
            "3                            False                   False   \n",
            "4                            False                   False   \n",
            "\n",
            "   Symptom_15_ loss_of_smell  Symptom_16_ loss_of_smell  \\\n",
            "0                      False                      False   \n",
            "1                      False                      False   \n",
            "2                      False                      False   \n",
            "3                      False                      False   \n",
            "4                      False                      False   \n",
            "\n",
            "   Symptom_16_ muscle_pain  \n",
            "0                    False  \n",
            "1                    False  \n",
            "2                    False  \n",
            "3                    False  \n",
            "4                    False  \n",
            "\n",
            "[5 rows x 417 columns]\n",
            "   Disease_AIDS  Disease_Acne  Disease_Alcoholic hepatitis  Disease_Allergy  \\\n",
            "0         False         False                        False            False   \n",
            "1         False         False                        False            False   \n",
            "2         False         False                        False            False   \n",
            "3         False         False                        False            False   \n",
            "4         False         False                        False            False   \n",
            "\n",
            "   Disease_Arthritis  Disease_Bronchial Asthma  Disease_Cervical spondylosis  \\\n",
            "0              False                     False                         False   \n",
            "1              False                     False                         False   \n",
            "2              False                     False                         False   \n",
            "3              False                     False                         False   \n",
            "4              False                     False                         False   \n",
            "\n",
            "   Disease_Chicken pox  Disease_Chronic cholestasis  Disease_Common Cold  ...  \\\n",
            "0                False                        False                False  ...   \n",
            "1                False                        False                False  ...   \n",
            "2                False                        False                False  ...   \n",
            "3                False                        False                False  ...   \n",
            "4                False                        False                False  ...   \n",
            "\n",
            "   Symptom_13_ red_spots_over_body  Symptom_13_ runny_nose  \\\n",
            "0                            False                   False   \n",
            "1                            False                   False   \n",
            "2                            False                   False   \n",
            "3                            False                   False   \n",
            "4                            False                   False   \n",
            "\n",
            "   Symptom_13_ stomach_bleeding  Symptom_14_ congestion  Symptom_14_ phlegm  \\\n",
            "0                         False                   False               False   \n",
            "1                         False                   False               False   \n",
            "2                         False                   False               False   \n",
            "3                         False                   False               False   \n",
            "4                         False                   False               False   \n",
            "\n",
            "   Symptom_14_ red_spots_over_body  Symptom_15_ chest_pain  \\\n",
            "0                            False                   False   \n",
            "1                            False                   False   \n",
            "2                            False                   False   \n",
            "3                            False                   False   \n",
            "4                            False                   False   \n",
            "\n",
            "   Symptom_15_ loss_of_smell  Symptom_16_ loss_of_smell  \\\n",
            "0                      False                      False   \n",
            "1                      False                      False   \n",
            "2                      False                      False   \n",
            "3                      False                      False   \n",
            "4                      False                      False   \n",
            "\n",
            "   Symptom_16_ muscle_pain  \n",
            "0                    False  \n",
            "1                    False  \n",
            "2                    False  \n",
            "3                    False  \n",
            "4                    False  \n",
            "\n",
            "[5 rows x 417 columns]\n"
          ]
        }
      ]
    },
    {
      "cell_type": "code",
      "source": [
        "\n",
        "print(encoded_df.columns)\n",
        "encoded_df = pd.get_dummies(dataset_df, columns=categorical_columns, drop_first=True)\n",
        "\n",
        "categorical_columns = ['Symptom_1', 'Symptom_2', 'Symptom_3', 'Symptom_4', 'Symptom_5',\n",
        "                       'Symptom_6', 'Symptom_7', 'Symptom_8', 'Symptom_9', 'Symptom_10',\n",
        "                       'Symptom_11', 'Symptom_12', 'Symptom_13', 'Symptom_14',\n",
        "                       'Symptom_15', 'Symptom_16', 'Symptom_17']\n",
        "\n",
        "\n",
        "encoded_df = pd.get_dummies(dataset_df, columns=categorical_columns, drop_first=True)\n",
        "\n",
        "\n",
        "print(encoded_df.head())\n",
        "\n",
        "if 'Disease' in encoded_df.columns:\n",
        "    print(\"'Disease' column is present.\")\n",
        "else:\n",
        "    print(\"'Disease' column is missing.\")"
      ],
      "metadata": {
        "colab": {
          "base_uri": "https://localhost:8080/"
        },
        "id": "-Fx8uUEp0URl",
        "outputId": "cf5edd8d-d59c-467b-8876-476f1b8bab66"
      },
      "execution_count": 49,
      "outputs": [
        {
          "output_type": "stream",
          "name": "stdout",
          "text": [
            "Index(['Disease', 'Symptom_1_ back_pain', 'Symptom_1_ bladder_discomfort',\n",
            "       'Symptom_1_ breathlessness', 'Symptom_1_ burning_micturition',\n",
            "       'Symptom_1_ chest_pain', 'Symptom_1_ chills', 'Symptom_1_ constipation',\n",
            "       'Symptom_1_ continuous_sneezing', 'Symptom_1_ cough',\n",
            "       ...\n",
            "       'Symptom_13_ red_spots_over_body', 'Symptom_13_ runny_nose',\n",
            "       'Symptom_13_ stomach_bleeding', 'Symptom_14_ congestion',\n",
            "       'Symptom_14_ phlegm', 'Symptom_14_ red_spots_over_body',\n",
            "       'Symptom_15_ chest_pain', 'Symptom_15_ loss_of_smell',\n",
            "       'Symptom_16_ loss_of_smell', 'Symptom_16_ muscle_pain'],\n",
            "      dtype='object', length=378)\n",
            "            Disease  Symptom_1_ back_pain  Symptom_1_ bladder_discomfort  \\\n",
            "0  Fungal infection                 False                          False   \n",
            "1  Fungal infection                 False                          False   \n",
            "2  Fungal infection                 False                          False   \n",
            "3  Fungal infection                 False                          False   \n",
            "4  Fungal infection                 False                          False   \n",
            "\n",
            "   Symptom_1_ breathlessness  Symptom_1_ burning_micturition  \\\n",
            "0                      False                           False   \n",
            "1                      False                           False   \n",
            "2                      False                           False   \n",
            "3                      False                           False   \n",
            "4                      False                           False   \n",
            "\n",
            "   Symptom_1_ chest_pain  Symptom_1_ chills  Symptom_1_ constipation  \\\n",
            "0                  False              False                    False   \n",
            "1                  False              False                    False   \n",
            "2                  False              False                    False   \n",
            "3                  False              False                    False   \n",
            "4                  False              False                    False   \n",
            "\n",
            "   Symptom_1_ continuous_sneezing  Symptom_1_ cough  ...  \\\n",
            "0                           False             False  ...   \n",
            "1                           False             False  ...   \n",
            "2                           False             False  ...   \n",
            "3                           False             False  ...   \n",
            "4                           False             False  ...   \n",
            "\n",
            "   Symptom_13_ red_spots_over_body  Symptom_13_ runny_nose  \\\n",
            "0                            False                   False   \n",
            "1                            False                   False   \n",
            "2                            False                   False   \n",
            "3                            False                   False   \n",
            "4                            False                   False   \n",
            "\n",
            "   Symptom_13_ stomach_bleeding  Symptom_14_ congestion  Symptom_14_ phlegm  \\\n",
            "0                         False                   False               False   \n",
            "1                         False                   False               False   \n",
            "2                         False                   False               False   \n",
            "3                         False                   False               False   \n",
            "4                         False                   False               False   \n",
            "\n",
            "   Symptom_14_ red_spots_over_body  Symptom_15_ chest_pain  \\\n",
            "0                            False                   False   \n",
            "1                            False                   False   \n",
            "2                            False                   False   \n",
            "3                            False                   False   \n",
            "4                            False                   False   \n",
            "\n",
            "   Symptom_15_ loss_of_smell  Symptom_16_ loss_of_smell  \\\n",
            "0                      False                      False   \n",
            "1                      False                      False   \n",
            "2                      False                      False   \n",
            "3                      False                      False   \n",
            "4                      False                      False   \n",
            "\n",
            "   Symptom_16_ muscle_pain  \n",
            "0                    False  \n",
            "1                    False  \n",
            "2                    False  \n",
            "3                    False  \n",
            "4                    False  \n",
            "\n",
            "[5 rows x 378 columns]\n",
            "'Disease' column is present.\n"
          ]
        }
      ]
    },
    {
      "cell_type": "code",
      "source": [
        "\n",
        "X = encoded_df.drop(columns=['Disease'])  # Features (symptoms)\n",
        "y = encoded_df['Disease']  # Target (disease)\n",
        "\n",
        "\n",
        "print(\"Features shape:\", X.shape)\n",
        "print(\"Target shape:\", y.shape)"
      ],
      "metadata": {
        "colab": {
          "base_uri": "https://localhost:8080/"
        },
        "id": "pQjnnNvO1OcK",
        "outputId": "2a0977a6-2ddf-4053-e66f-c3413a4e67cf"
      },
      "execution_count": 52,
      "outputs": [
        {
          "output_type": "stream",
          "name": "stdout",
          "text": [
            "Features shape: (4920, 377)\n",
            "Target shape: (4920,)\n"
          ]
        }
      ]
    },
    {
      "cell_type": "code",
      "source": [
        "from sklearn.preprocessing import LabelEncoder\n",
        "\n",
        "\n",
        "label_encoder = LabelEncoder()\n",
        "y = label_encoder.fit_transform(y)\n",
        "\n",
        "print(\"Encoded target labels:\", y)\n",
        "print(\"Label classes:\", label_encoder.classes_)"
      ],
      "metadata": {
        "colab": {
          "base_uri": "https://localhost:8080/"
        },
        "id": "IkjBcWND251N",
        "outputId": "4ace26dd-9903-434a-bd73-1eaa587b30b7"
      },
      "execution_count": 51,
      "outputs": [
        {
          "output_type": "stream",
          "name": "stdout",
          "text": [
            "Encoded target labels: [15 15 15 ... 38 35 27]\n",
            "Label classes: ['(vertigo) Paroymsal  Positional Vertigo' 'AIDS' 'Acne'\n",
            " 'Alcoholic hepatitis' 'Allergy' 'Arthritis' 'Bronchial Asthma'\n",
            " 'Cervical spondylosis' 'Chicken pox' 'Chronic cholestasis' 'Common Cold'\n",
            " 'Dengue' 'Diabetes ' 'Dimorphic hemmorhoids(piles)' 'Drug Reaction'\n",
            " 'Fungal infection' 'GERD' 'Gastroenteritis' 'Heart attack' 'Hepatitis B'\n",
            " 'Hepatitis C' 'Hepatitis D' 'Hepatitis E' 'Hypertension '\n",
            " 'Hyperthyroidism' 'Hypoglycemia' 'Hypothyroidism' 'Impetigo' 'Jaundice'\n",
            " 'Malaria' 'Migraine' 'Osteoarthristis' 'Paralysis (brain hemorrhage)'\n",
            " 'Peptic ulcer diseae' 'Pneumonia' 'Psoriasis' 'Tuberculosis' 'Typhoid'\n",
            " 'Urinary tract infection' 'Varicose veins' 'hepatitis A']\n"
          ]
        }
      ]
    },
    {
      "cell_type": "code",
      "source": [],
      "metadata": {
        "id": "XpJ2cKZx26sN"
      },
      "execution_count": 46,
      "outputs": []
    },
    {
      "cell_type": "code",
      "source": [],
      "metadata": {
        "id": "fdE4RNXK3WyV"
      },
      "execution_count": 46,
      "outputs": []
    },
    {
      "cell_type": "code",
      "source": [],
      "metadata": {
        "id": "tMEAgBWKg6d4"
      },
      "execution_count": 46,
      "outputs": []
    }
  ]
}