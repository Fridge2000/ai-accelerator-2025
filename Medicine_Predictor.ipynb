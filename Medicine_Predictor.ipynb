{
  "nbformat": 4,
  "nbformat_minor": 0,
  "metadata": {
    "colab": {
      "provenance": [],
      "include_colab_link": true
    },
    "kernelspec": {
      "name": "python3",
      "display_name": "Python 3"
    },
    "language_info": {
      "name": "python"
    }
  },
  "cells": [
    {
      "cell_type": "markdown",
      "metadata": {
        "id": "view-in-github",
        "colab_type": "text"
      },
      "source": [
        "<a href=\"https://colab.research.google.com/github/Fridge2000/ai-accelerator-2025/blob/main/Medicine_Predictor.ipynb\" target=\"_parent\"><img src=\"https://colab.research.google.com/assets/colab-badge.svg\" alt=\"Open In Colab\"/></a>"
      ]
    },
    {
      "cell_type": "code",
      "execution_count": 25,
      "metadata": {
        "id": "lNrvwemb32Ti"
      },
      "outputs": [],
      "source": [
        "from google.colab import auth\n",
        "import zipfile\n",
        "import os\n",
        "import pandas as pd"
      ]
    },
    {
      "cell_type": "code",
      "source": [
        "auth.authenticate_user()\n",
        "\n",
        "!gcloud config set project medication-predictor\n",
        "\n",
        "!gsutil cp gs://medication-dataset/disease_symptom_prediction_dataset.zip /content/"
      ],
      "metadata": {
        "id": "dcV-pzvmD0PH",
        "colab": {
          "base_uri": "https://localhost:8080/"
        },
        "outputId": "ce9c4cc3-e192-443d-edf6-e7919888e7bb"
      },
      "execution_count": 48,
      "outputs": [
        {
          "output_type": "stream",
          "name": "stdout",
          "text": [
            "\u001b[1;33mWARNING:\u001b[0m [shuyuanyin2000@gmail.com] does not have permission to access projects instance [medication-predictor] (or it may not exist): The caller does not have permission. This command is authenticated as shuyuanyin2000@gmail.com which is the active account specified by the [core/account] property\n",
            "Are you sure you wish to set property [core/project] to medication-predictor?\n",
            "\n",
            "Do you want to continue (Y/n)?  y\n",
            "\n",
            "Updated property [core/project].\n",
            "Copying gs://medication-dataset/disease_symptom_prediction_dataset.zip...\n",
            "/ [1 files][ 30.0 KiB/ 30.0 KiB]                                                \n",
            "Operation completed over 1 objects/30.0 KiB.                                     \n"
          ]
        }
      ]
    },
    {
      "cell_type": "code",
      "source": [
        "!ls -lh /content/"
      ],
      "metadata": {
        "colab": {
          "base_uri": "https://localhost:8080/"
        },
        "id": "0ZjwbLgsD4ux",
        "outputId": "c3ac8210-422b-4643-a2c4-32c7514eb22b"
      },
      "execution_count": 35,
      "outputs": [
        {
          "output_type": "stream",
          "name": "stdout",
          "text": [
            "total 40K\n",
            "drwxr-xr-x 2 root root 4.0K Mar 15 16:55 data\n",
            "-rw-r--r-- 1 root root  31K Mar 15 17:08 disease_symptom_prediction_dataset.zip\n",
            "drwxr-xr-x 1 root root 4.0K Mar 13 13:31 sample_data\n"
          ]
        }
      ]
    },
    {
      "cell_type": "code",
      "source": [
        "zip_path = \"/content/disease_symptom_prediction_dataset.zip\"\n",
        "extract_to = \"/content/data/\"\n",
        "\n",
        "# Create directory if it doesn't exist\n",
        "os.makedirs(extract_to, exist_ok=True)\n",
        "\n",
        "# Unzip the file\n",
        "with zipfile.ZipFile(zip_path, \"r\") as zip_ref:\n",
        "    zip_ref.extractall(extract_to)\n",
        "\n",
        "print(\"Extraction complete! Files are in:\", extract_to)\n",
        "!ls -lh /content/data"
      ],
      "metadata": {
        "id": "2xYpi7J4ENKG",
        "colab": {
          "base_uri": "https://localhost:8080/"
        },
        "outputId": "858f30b9-bd5e-4977-a26a-f6eee5faf54b"
      },
      "execution_count": 36,
      "outputs": [
        {
          "output_type": "stream",
          "name": "stdout",
          "text": [
            "Extraction complete! Files are in: /content/data/\n",
            "total 640K\n",
            "-rw-r--r-- 1 root root 618K Mar 15 17:08 dataset.csv\n",
            "-rw-r--r-- 1 root root  11K Mar 15 17:08 symptom_Description.csv\n",
            "-rw-r--r-- 1 root root 3.5K Mar 15 17:08 symptom_precaution.csv\n",
            "-rw-r--r-- 1 root root 2.3K Mar 15 17:08 Symptom-severity.csv\n"
          ]
        }
      ]
    },
    {
      "cell_type": "code",
      "source": [
        "dataset_df = pd.read_csv(\"/content/data/dataset.csv\")\n",
        "symptom_Description_df = pd.read_csv(\"/content/data/symptom_Description.csv\")\n",
        "symptom_precaution_df = pd.read_csv(\"/content/data/symptom_precaution.csv\")\n",
        "Symptom_severity_df = pd.read_csv(\"/content/data/Symptom-severity.csv\")"
      ],
      "metadata": {
        "id": "9P7C7QR8HR5I"
      },
      "execution_count": 37,
      "outputs": []
    },
    {
      "cell_type": "code",
      "source": [
        "print(dataset_df.head())"
      ],
      "metadata": {
        "colab": {
          "base_uri": "https://localhost:8080/"
        },
        "id": "CVcOYgYJIDFP",
        "outputId": "5ee41601-ccbc-4dfe-9ae4-69d44436e281"
      },
      "execution_count": 38,
      "outputs": [
        {
          "output_type": "stream",
          "name": "stdout",
          "text": [
            "            Disease   Symptom_1              Symptom_2              Symptom_3  \\\n",
            "0  Fungal infection     itching              skin_rash   nodal_skin_eruptions   \n",
            "1  Fungal infection   skin_rash   nodal_skin_eruptions    dischromic _patches   \n",
            "2  Fungal infection     itching   nodal_skin_eruptions    dischromic _patches   \n",
            "3  Fungal infection     itching              skin_rash    dischromic _patches   \n",
            "4  Fungal infection     itching              skin_rash   nodal_skin_eruptions   \n",
            "\n",
            "              Symptom_4 Symptom_5 Symptom_6 Symptom_7 Symptom_8 Symptom_9  \\\n",
            "0   dischromic _patches       NaN       NaN       NaN       NaN       NaN   \n",
            "1                   NaN       NaN       NaN       NaN       NaN       NaN   \n",
            "2                   NaN       NaN       NaN       NaN       NaN       NaN   \n",
            "3                   NaN       NaN       NaN       NaN       NaN       NaN   \n",
            "4                   NaN       NaN       NaN       NaN       NaN       NaN   \n",
            "\n",
            "  Symptom_10 Symptom_11 Symptom_12 Symptom_13 Symptom_14 Symptom_15  \\\n",
            "0        NaN        NaN        NaN        NaN        NaN        NaN   \n",
            "1        NaN        NaN        NaN        NaN        NaN        NaN   \n",
            "2        NaN        NaN        NaN        NaN        NaN        NaN   \n",
            "3        NaN        NaN        NaN        NaN        NaN        NaN   \n",
            "4        NaN        NaN        NaN        NaN        NaN        NaN   \n",
            "\n",
            "  Symptom_16 Symptom_17  \n",
            "0        NaN        NaN  \n",
            "1        NaN        NaN  \n",
            "2        NaN        NaN  \n",
            "3        NaN        NaN  \n",
            "4        NaN        NaN  \n"
          ]
        }
      ]
    },
    {
      "cell_type": "code",
      "source": [
        "print(symptom_Description_df.head())"
      ],
      "metadata": {
        "colab": {
          "base_uri": "https://localhost:8080/"
        },
        "id": "yT8VcQMfIJiF",
        "outputId": "bc6c714c-7926-4092-dfdb-8f9e12e70e0b"
      },
      "execution_count": 39,
      "outputs": [
        {
          "output_type": "stream",
          "name": "stdout",
          "text": [
            "          Disease                                        Description\n",
            "0   Drug Reaction  An adverse drug reaction (ADR) is an injury ca...\n",
            "1         Malaria  An infectious disease caused by protozoan para...\n",
            "2         Allergy  An allergy is an immune system response to a f...\n",
            "3  Hypothyroidism  Hypothyroidism, also called underactive thyroi...\n",
            "4       Psoriasis  Psoriasis is a common skin disorder that forms...\n"
          ]
        }
      ]
    },
    {
      "cell_type": "code",
      "source": [
        "print(symptom_precaution_df.head())"
      ],
      "metadata": {
        "colab": {
          "base_uri": "https://localhost:8080/"
        },
        "id": "q_QxiYbTIVE5",
        "outputId": "477a2552-0b82-419d-aaf8-62ea5b72412b"
      },
      "execution_count": 40,
      "outputs": [
        {
          "output_type": "stream",
          "name": "stdout",
          "text": [
            "          Disease                      Precaution_1  \\\n",
            "0   Drug Reaction                   stop irritation   \n",
            "1         Malaria          Consult nearest hospital   \n",
            "2         Allergy                    apply calamine   \n",
            "3  Hypothyroidism                     reduce stress   \n",
            "4       Psoriasis  wash hands with warm soapy water   \n",
            "\n",
            "                   Precaution_2        Precaution_3  \\\n",
            "0      consult nearest hospital    stop taking drug   \n",
            "1               avoid oily food  avoid non veg food   \n",
            "2       cover area with bandage                 NaN   \n",
            "3                      exercise         eat healthy   \n",
            "4  stop bleeding using pressure      consult doctor   \n",
            "\n",
            "                  Precaution_4  \n",
            "0                    follow up  \n",
            "1           keep mosquitos out  \n",
            "2  use ice to compress itching  \n",
            "3             get proper sleep  \n",
            "4                   salt baths  \n"
          ]
        }
      ]
    },
    {
      "cell_type": "code",
      "source": [
        "print(Symptom_severity_df.head())"
      ],
      "metadata": {
        "colab": {
          "base_uri": "https://localhost:8080/"
        },
        "id": "MQg31ClPIiKk",
        "outputId": "e18c2874-9fb8-42b1-dd1d-c2513738e5ee"
      },
      "execution_count": 41,
      "outputs": [
        {
          "output_type": "stream",
          "name": "stdout",
          "text": [
            "                Symptom  weight\n",
            "0               itching       1\n",
            "1             skin_rash       3\n",
            "2  nodal_skin_eruptions       4\n",
            "3   continuous_sneezing       4\n",
            "4             shivering       5\n"
          ]
        }
      ]
    },
    {
      "cell_type": "code",
      "source": [
        "df_test = pd.get_dummies(dataset_df)\n",
        "print(df_test)"
      ],
      "metadata": {
        "id": "bGX66U8pImez",
        "outputId": "4c1fa69b-d514-4f77-97a1-8a85721e1a98",
        "colab": {
          "base_uri": "https://localhost:8080/"
        }
      },
      "execution_count": 51,
      "outputs": [
        {
          "output_type": "stream",
          "name": "stdout",
          "text": [
            "      Disease_(vertigo) Paroymsal  Positional Vertigo  Disease_AIDS  \\\n",
            "0                                               False         False   \n",
            "1                                               False         False   \n",
            "2                                               False         False   \n",
            "3                                               False         False   \n",
            "4                                               False         False   \n",
            "...                                               ...           ...   \n",
            "4915                                             True         False   \n",
            "4916                                            False         False   \n",
            "4917                                            False         False   \n",
            "4918                                            False         False   \n",
            "4919                                            False         False   \n",
            "\n",
            "      Disease_Acne  Disease_Alcoholic hepatitis  Disease_Allergy  \\\n",
            "0            False                        False            False   \n",
            "1            False                        False            False   \n",
            "2            False                        False            False   \n",
            "3            False                        False            False   \n",
            "4            False                        False            False   \n",
            "...            ...                          ...              ...   \n",
            "4915         False                        False            False   \n",
            "4916          True                        False            False   \n",
            "4917         False                        False            False   \n",
            "4918         False                        False            False   \n",
            "4919         False                        False            False   \n",
            "\n",
            "      Disease_Arthritis  Disease_Bronchial Asthma  \\\n",
            "0                 False                     False   \n",
            "1                 False                     False   \n",
            "2                 False                     False   \n",
            "3                 False                     False   \n",
            "4                 False                     False   \n",
            "...                 ...                       ...   \n",
            "4915              False                     False   \n",
            "4916              False                     False   \n",
            "4917              False                     False   \n",
            "4918              False                     False   \n",
            "4919              False                     False   \n",
            "\n",
            "      Disease_Cervical spondylosis  Disease_Chicken pox  \\\n",
            "0                            False                False   \n",
            "1                            False                False   \n",
            "2                            False                False   \n",
            "3                            False                False   \n",
            "4                            False                False   \n",
            "...                            ...                  ...   \n",
            "4915                         False                False   \n",
            "4916                         False                False   \n",
            "4917                         False                False   \n",
            "4918                         False                False   \n",
            "4919                         False                False   \n",
            "\n",
            "      Disease_Chronic cholestasis  ...  Symptom_14_ congestion  \\\n",
            "0                           False  ...                   False   \n",
            "1                           False  ...                   False   \n",
            "2                           False  ...                   False   \n",
            "3                           False  ...                   False   \n",
            "4                           False  ...                   False   \n",
            "...                           ...  ...                     ...   \n",
            "4915                        False  ...                   False   \n",
            "4916                        False  ...                   False   \n",
            "4917                        False  ...                   False   \n",
            "4918                        False  ...                   False   \n",
            "4919                        False  ...                   False   \n",
            "\n",
            "      Symptom_14_ phlegm  Symptom_14_ red_spots_over_body  \\\n",
            "0                  False                            False   \n",
            "1                  False                            False   \n",
            "2                  False                            False   \n",
            "3                  False                            False   \n",
            "4                  False                            False   \n",
            "...                  ...                              ...   \n",
            "4915               False                            False   \n",
            "4916               False                            False   \n",
            "4917               False                            False   \n",
            "4918               False                            False   \n",
            "4919               False                            False   \n",
            "\n",
            "      Symptom_15_ blood_in_sputum  Symptom_15_ chest_pain  \\\n",
            "0                           False                   False   \n",
            "1                           False                   False   \n",
            "2                           False                   False   \n",
            "3                           False                   False   \n",
            "4                           False                   False   \n",
            "...                           ...                     ...   \n",
            "4915                        False                   False   \n",
            "4916                        False                   False   \n",
            "4917                        False                   False   \n",
            "4918                        False                   False   \n",
            "4919                        False                   False   \n",
            "\n",
            "      Symptom_15_ loss_of_smell  Symptom_16_ blood_in_sputum  \\\n",
            "0                         False                        False   \n",
            "1                         False                        False   \n",
            "2                         False                        False   \n",
            "3                         False                        False   \n",
            "4                         False                        False   \n",
            "...                         ...                          ...   \n",
            "4915                      False                        False   \n",
            "4916                      False                        False   \n",
            "4917                      False                        False   \n",
            "4918                      False                        False   \n",
            "4919                      False                        False   \n",
            "\n",
            "      Symptom_16_ loss_of_smell  Symptom_16_ muscle_pain  \\\n",
            "0                         False                    False   \n",
            "1                         False                    False   \n",
            "2                         False                    False   \n",
            "3                         False                    False   \n",
            "4                         False                    False   \n",
            "...                         ...                      ...   \n",
            "4915                      False                    False   \n",
            "4916                      False                    False   \n",
            "4917                      False                    False   \n",
            "4918                      False                    False   \n",
            "4919                      False                    False   \n",
            "\n",
            "      Symptom_17_ muscle_pain  \n",
            "0                       False  \n",
            "1                       False  \n",
            "2                       False  \n",
            "3                       False  \n",
            "4                       False  \n",
            "...                       ...  \n",
            "4915                    False  \n",
            "4916                    False  \n",
            "4917                    False  \n",
            "4918                    False  \n",
            "4919                    False  \n",
            "\n",
            "[4920 rows x 435 columns]\n"
          ]
        }
      ]
    }
  ]
}