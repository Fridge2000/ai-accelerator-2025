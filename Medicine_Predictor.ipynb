{
  "nbformat": 4,
  "nbformat_minor": 0,
  "metadata": {
    "colab": {
      "provenance": [],
      "include_colab_link": true
    },
    "kernelspec": {
      "name": "python3",
      "display_name": "Python 3"
    },
    "language_info": {
      "name": "python"
    }
  },
  "cells": [
    {
      "cell_type": "markdown",
      "metadata": {
        "id": "view-in-github",
        "colab_type": "text"
      },
      "source": [
        "<a href=\"https://colab.research.google.com/github/Fridge2000/ai-accelerator-2025/blob/main/Medicine_Predictor.ipynb\" target=\"_parent\"><img src=\"https://colab.research.google.com/assets/colab-badge.svg\" alt=\"Open In Colab\"/></a>"
      ]
    },
    {
      "cell_type": "code",
      "execution_count": 2,
      "metadata": {
        "id": "lNrvwemb32Ti"
      },
      "outputs": [],
      "source": [
        "from google.colab import auth\n",
        "import zipfile\n",
        "import os\n",
        "import pandas as pd"
      ]
    },
    {
      "cell_type": "code",
      "source": [
        "auth.authenticate_user()\n",
        "\n",
        "!gcloud config set project medication-predictor\n",
        "\n",
        "!gsutil cp gs://medication-dataset/disease_symptom_prediction_dataset.zip /content/"
      ],
      "metadata": {
        "id": "dcV-pzvmD0PH",
        "colab": {
          "base_uri": "https://localhost:8080/"
        },
        "outputId": "8df0de05-01fc-4ac2-89c9-6792025cf00f"
      },
      "execution_count": 3,
      "outputs": [
        {
          "output_type": "stream",
          "name": "stdout",
          "text": [
            "\u001b[1;33mWARNING:\u001b[0m [shuyuanyin2000@gmail.com] does not have permission to access projects instance [medication-predictor] (or it may not exist): The caller does not have permission. This command is authenticated as shuyuanyin2000@gmail.com which is the active account specified by the [core/account] property\n",
            "Are you sure you wish to set property [core/project] to medication-predictor?\n",
            "\n",
            "Do you want to continue (Y/n)?  y\n",
            "\n",
            "Updated property [core/project].\n",
            "Copying gs://medication-dataset/disease_symptom_prediction_dataset.zip...\n",
            "/ [1 files][ 30.0 KiB/ 30.0 KiB]                                                \n",
            "Operation completed over 1 objects/30.0 KiB.                                     \n"
          ]
        }
      ]
    },
    {
      "cell_type": "code",
      "source": [
        "!ls -lh /content/"
      ],
      "metadata": {
        "colab": {
          "base_uri": "https://localhost:8080/"
        },
        "id": "0ZjwbLgsD4ux",
        "outputId": "a1a3fda5-31d3-46ac-c589-a279599eaf55"
      },
      "execution_count": 4,
      "outputs": [
        {
          "output_type": "stream",
          "name": "stdout",
          "text": [
            "total 36K\n",
            "-rw-r--r-- 1 root root  31K Mar 22 14:42 disease_symptom_prediction_dataset.zip\n",
            "drwxr-xr-x 1 root root 4.0K Mar 20 13:31 sample_data\n"
          ]
        }
      ]
    },
    {
      "cell_type": "code",
      "source": [
        "zip_path = \"/content/disease_symptom_prediction_dataset.zip\"\n",
        "extract_to = \"/content/data/\"\n",
        "\n",
        "# Create directory if it doesn't exist\n",
        "os.makedirs(extract_to, exist_ok=True)\n",
        "\n",
        "# Unzip the file\n",
        "with zipfile.ZipFile(zip_path, \"r\") as zip_ref:\n",
        "    zip_ref.extractall(extract_to)\n",
        "\n",
        "print(\"Extraction complete! Files are in:\", extract_to)\n",
        "!ls -lh /content/data"
      ],
      "metadata": {
        "id": "2xYpi7J4ENKG",
        "colab": {
          "base_uri": "https://localhost:8080/"
        },
        "outputId": "8d4ae0c0-c7f8-42c2-876a-6401cdadc775"
      },
      "execution_count": 5,
      "outputs": [
        {
          "output_type": "stream",
          "name": "stdout",
          "text": [
            "Extraction complete! Files are in: /content/data/\n",
            "total 640K\n",
            "-rw-r--r-- 1 root root 618K Mar 22 14:42 dataset.csv\n",
            "-rw-r--r-- 1 root root  11K Mar 22 14:42 symptom_Description.csv\n",
            "-rw-r--r-- 1 root root 3.5K Mar 22 14:42 symptom_precaution.csv\n",
            "-rw-r--r-- 1 root root 2.3K Mar 22 14:42 Symptom-severity.csv\n"
          ]
        }
      ]
    },
    {
      "cell_type": "code",
      "source": [
        "dataset_df = pd.read_csv(\"/content/data/dataset.csv\")\n",
        "symptom_Description_df = pd.read_csv(\"/content/data/symptom_Description.csv\")\n",
        "symptom_precaution_df = pd.read_csv(\"/content/data/symptom_precaution.csv\")\n",
        "Symptom_severity_df = pd.read_csv(\"/content/data/Symptom-severity.csv\")"
      ],
      "metadata": {
        "id": "9P7C7QR8HR5I"
      },
      "execution_count": 6,
      "outputs": []
    },
    {
      "cell_type": "code",
      "source": [
        "print(dataset_df.head())"
      ],
      "metadata": {
        "colab": {
          "base_uri": "https://localhost:8080/"
        },
        "id": "CVcOYgYJIDFP",
        "outputId": "e1785df8-73ce-4c54-8209-acdbbd396bee"
      },
      "execution_count": 7,
      "outputs": [
        {
          "output_type": "stream",
          "name": "stdout",
          "text": [
            "            Disease   Symptom_1              Symptom_2              Symptom_3  \\\n",
            "0  Fungal infection     itching              skin_rash   nodal_skin_eruptions   \n",
            "1  Fungal infection   skin_rash   nodal_skin_eruptions    dischromic _patches   \n",
            "2  Fungal infection     itching   nodal_skin_eruptions    dischromic _patches   \n",
            "3  Fungal infection     itching              skin_rash    dischromic _patches   \n",
            "4  Fungal infection     itching              skin_rash   nodal_skin_eruptions   \n",
            "\n",
            "              Symptom_4 Symptom_5 Symptom_6 Symptom_7 Symptom_8 Symptom_9  \\\n",
            "0   dischromic _patches       NaN       NaN       NaN       NaN       NaN   \n",
            "1                   NaN       NaN       NaN       NaN       NaN       NaN   \n",
            "2                   NaN       NaN       NaN       NaN       NaN       NaN   \n",
            "3                   NaN       NaN       NaN       NaN       NaN       NaN   \n",
            "4                   NaN       NaN       NaN       NaN       NaN       NaN   \n",
            "\n",
            "  Symptom_10 Symptom_11 Symptom_12 Symptom_13 Symptom_14 Symptom_15  \\\n",
            "0        NaN        NaN        NaN        NaN        NaN        NaN   \n",
            "1        NaN        NaN        NaN        NaN        NaN        NaN   \n",
            "2        NaN        NaN        NaN        NaN        NaN        NaN   \n",
            "3        NaN        NaN        NaN        NaN        NaN        NaN   \n",
            "4        NaN        NaN        NaN        NaN        NaN        NaN   \n",
            "\n",
            "  Symptom_16 Symptom_17  \n",
            "0        NaN        NaN  \n",
            "1        NaN        NaN  \n",
            "2        NaN        NaN  \n",
            "3        NaN        NaN  \n",
            "4        NaN        NaN  \n"
          ]
        }
      ]
    },
    {
      "cell_type": "code",
      "source": [
        "print(len(dataset_df[\"Disease\"].unique())) # Number of unique values in the target column"
      ],
      "metadata": {
        "id": "bGX66U8pImez",
        "colab": {
          "base_uri": "https://localhost:8080/"
        },
        "outputId": "2ca1b2ef-e5bd-413d-acf7-60341e8b4d9c"
      },
      "execution_count": 8,
      "outputs": [
        {
          "output_type": "stream",
          "name": "stdout",
          "text": [
            "41\n"
          ]
        }
      ]
    },
    {
      "cell_type": "code",
      "source": [
        "print(\"Symptom 1 Unique Symptoms: \" + str(len(dataset_df[\"Symptom_1\"].unique())))\n",
        "print(\"Symptom 2 Unique Symptoms: \" + str(len(dataset_df[\"Symptom_2\"].unique())))\n",
        "print(\"Symptom 3 Unique Symptoms: \" + str(len(dataset_df[\"Symptom_3\"].unique())))\n",
        "print(\"Symptom 4 Unique Symptoms: \" + str(len(dataset_df[\"Symptom_4\"].unique())))\n",
        "print(\"Symptom 5 Unique Symptoms: \" + str(len(dataset_df[\"Symptom_5\"].unique())))\n",
        "print(\"Symptom 6 Unique Symptoms: \" + str(len(dataset_df[\"Symptom_6\"].unique())))\n",
        "print(\"Symptom 7 Unique Symptoms: \" + str(len(dataset_df[\"Symptom_7\"].unique())))\n",
        "print(\"Symptom 8 Unique Symptoms: \" + str(len(dataset_df[\"Symptom_8\"].unique())))\n",
        "print(\"Symptom 9 Unique Symptoms: \" + str(len(dataset_df[\"Symptom_9\"].unique())))\n",
        "print(\"Symptom 10 Unique Symptoms: \" + str(len(dataset_df[\"Symptom_10\"].unique())))\n",
        "print(\"Symptom 11 Unique Symptoms: \" + str(len(dataset_df[\"Symptom_11\"].unique())))\n",
        "print(\"Symptom 12 Unique Symptoms: \" + str(len(dataset_df[\"Symptom_12\"].unique())))\n",
        "print(\"Symptom 13 Unique Symptoms: \" + str(len(dataset_df[\"Symptom_13\"].unique())))\n",
        "print(\"Symptom 14 Unique Symptoms: \" + str(len(dataset_df[\"Symptom_14\"].unique())))\n",
        "print(\"Symptom 15 Unique Symptoms: \" + str(len(dataset_df[\"Symptom_15\"].unique())))\n",
        "print(\"Symptom 16 Unique Symptoms: \" + str(len(dataset_df[\"Symptom_16\"].unique())))\n",
        "print(\"Symptom 17 Unique Symptoms: \" + str(len(dataset_df[\"Symptom_17\"].unique())))"
      ],
      "metadata": {
        "colab": {
          "base_uri": "https://localhost:8080/"
        },
        "id": "DKtSnVjifpeg",
        "outputId": "bea3c488-70d9-49b2-8114-116851ffbedc"
      },
      "execution_count": 9,
      "outputs": [
        {
          "output_type": "stream",
          "name": "stdout",
          "text": [
            "Symptom 1 Unique Symptoms: 34\n",
            "Symptom 2 Unique Symptoms: 48\n",
            "Symptom 3 Unique Symptoms: 54\n",
            "Symptom 4 Unique Symptoms: 51\n",
            "Symptom 5 Unique Symptoms: 39\n",
            "Symptom 6 Unique Symptoms: 33\n",
            "Symptom 7 Unique Symptoms: 27\n",
            "Symptom 8 Unique Symptoms: 22\n",
            "Symptom 9 Unique Symptoms: 23\n",
            "Symptom 10 Unique Symptoms: 22\n",
            "Symptom 11 Unique Symptoms: 19\n",
            "Symptom 12 Unique Symptoms: 12\n",
            "Symptom 13 Unique Symptoms: 9\n",
            "Symptom 14 Unique Symptoms: 5\n",
            "Symptom 15 Unique Symptoms: 4\n",
            "Symptom 16 Unique Symptoms: 4\n",
            "Symptom 17 Unique Symptoms: 2\n"
          ]
        }
      ]
    },
    {
      "cell_type": "code",
      "source": [
        "unique_symptom = list(set(list(dataset_df[\"Symptom_1\"].dropna().unique()) + list(dataset_df[\"Symptom_2\"].dropna().unique()) + list(dataset_df[\"Symptom_3\"].dropna().unique()) + list(dataset_df[\"Symptom_4\"].dropna().unique()) + list(dataset_df[\"Symptom_5\"].dropna().unique()) + list(dataset_df[\"Symptom_6\"].dropna().unique()) + list(dataset_df[\"Symptom_7\"].dropna().unique()) + list(dataset_df[\"Symptom_8\"].dropna().unique()) + list(dataset_df[\"Symptom_9\"].dropna().unique()) + list(dataset_df[\"Symptom_10\"].dropna().unique()) + list(dataset_df[\"Symptom_11\"].dropna().unique()) + list(dataset_df[\"Symptom_12\"].dropna().unique()) + list(dataset_df[\"Symptom_13\"].dropna().unique()) + list(dataset_df[\"Symptom_14\"].dropna().unique()) + list(dataset_df[\"Symptom_15\"].dropna().unique()) + list(dataset_df[\"Symptom_16\"].dropna().unique()) + list(dataset_df[\"Symptom_17\"].dropna().unique())))\n",
        "\n",
        "print(unique_symptom)\n",
        "print(len(unique_symptom))\n",
        "print(len(dataset_df[\"Disease\"]))"
      ],
      "metadata": {
        "id": "T0S0qPQS1sXQ",
        "colab": {
          "base_uri": "https://localhost:8080/"
        },
        "outputId": "2fa7b8ae-d627-45fb-a094-c37c2d6a824a"
      },
      "execution_count": 10,
      "outputs": [
        {
          "output_type": "stream",
          "name": "stdout",
          "text": [
            "[' spotting_ urination', ' increased_appetite', ' indigestion', ' stiff_neck', ' loss_of_balance', ' blackheads', ' silver_like_dusting', ' dark_urine', ' malaise', ' cold_hands_and_feets', ' blurred_and_distorted_vision', ' scurring', ' foul_smell_of urine', ' muscle_weakness', ' fatigue', ' skin_peeling', ' anxiety', ' dizziness', ' history_of_alcohol_consumption', ' joint_pain', ' loss_of_smell', ' obesity', ' headache', ' coma', ' excessive_hunger', ' sinus_pressure', ' nausea', ' redness_of_eyes', ' sweating', ' drying_and_tingling_lips', ' distention_of_abdomen', ' mucoid_sputum', ' palpitations', ' neck_pain', ' fast_heart_rate', ' bruising', ' mild_fever', ' pain_in_anal_region', ' abdominal_pain', ' unsteadiness', ' phlegm', ' burning_micturition', ' chills', ' swollen_legs', ' polyuria', ' hip_joint_pain', ' back_pain', ' swollen_extremeties', ' passage_of_gases', ' toxic_look_(typhos)', ' runny_nose', ' altered_sensorium', ' weight_loss', ' lethargy', ' vomiting', ' internal_itching', ' rusty_sputum', ' swelling_of_stomach', ' red_spots_over_body', ' family_history', ' watering_from_eyes', ' sunken_eyes', ' receiving_blood_transfusion', ' visual_disturbances', ' swollen_blood_vessels', ' small_dents_in_nails', ' stomach_pain', ' skin_rash', ' irritability', ' inflammatory_nails', ' belly_pain', ' abnormal_menstruation', ' fluid_overload', ' brittle_nails', ' yellow_urine', ' swelled_lymph_nodes', ' throat_irritation', ' blister', ' painful_walking', ' mood_swings', ' movement_stiffness', ' lack_of_concentration', ' loss_of_appetite', ' yellowish_skin', ' pain_during_bowel_movements', ' continuous_feel_of_urine', ' yellowing_of_eyes', ' shivering', ' cough', ' chest_pain', ' weakness_in_limbs', ' receiving_unsterile_injections', ' patches_in_throat', ' irregular_sugar_level', ' muscle_wasting', ' congestion', ' knee_pain', ' swelling_joints', ' weight_gain', ' dischromic _patches', ' bladder_discomfort', ' slurred_speech', ' cramps', ' restlessness', ' ulcers_on_tongue', 'itching', ' depression', ' muscle_pain', ' constipation', ' dehydration', ' acute_liver_failure', ' yellow_crust_ooze', ' blood_in_sputum', ' extra_marital_contacts', ' stomach_bleeding', ' prominent_veins_on_calf', ' enlarged_thyroid', ' red_sore_around_nose', ' nodal_skin_eruptions', ' acidity', ' continuous_sneezing', ' irritation_in_anus', ' weakness_of_one_body_side', ' breathlessness', ' spinning_movements', ' bloody_stool', ' high_fever', ' diarrhoea', ' pain_behind_the_eyes', ' pus_filled_pimples', ' puffy_face_and_eyes']\n",
            "131\n",
            "4920\n"
          ]
        }
      ]
    },
    {
      "cell_type": "code",
      "source": [],
      "metadata": {
        "id": "SMCS58mqkEf2"
      },
      "execution_count": 10,
      "outputs": []
    },
    {
      "cell_type": "code",
      "source": [
        "print(dataset_df.columns)\n",
        "\n",
        "# Check data types\n",
        "print(dataset_df.dtypes)\n",
        "\n",
        "# Check for missing values\n",
        "print(dataset_df.isnull().sum())"
      ],
      "metadata": {
        "id": "jOtpdCeokftS",
        "colab": {
          "base_uri": "https://localhost:8080/"
        },
        "outputId": "4326995e-e976-47f9-9dcf-3327f6da956a"
      },
      "execution_count": 11,
      "outputs": [
        {
          "output_type": "stream",
          "name": "stdout",
          "text": [
            "Index(['Disease', 'Symptom_1', 'Symptom_2', 'Symptom_3', 'Symptom_4',\n",
            "       'Symptom_5', 'Symptom_6', 'Symptom_7', 'Symptom_8', 'Symptom_9',\n",
            "       'Symptom_10', 'Symptom_11', 'Symptom_12', 'Symptom_13', 'Symptom_14',\n",
            "       'Symptom_15', 'Symptom_16', 'Symptom_17'],\n",
            "      dtype='object')\n",
            "Disease       object\n",
            "Symptom_1     object\n",
            "Symptom_2     object\n",
            "Symptom_3     object\n",
            "Symptom_4     object\n",
            "Symptom_5     object\n",
            "Symptom_6     object\n",
            "Symptom_7     object\n",
            "Symptom_8     object\n",
            "Symptom_9     object\n",
            "Symptom_10    object\n",
            "Symptom_11    object\n",
            "Symptom_12    object\n",
            "Symptom_13    object\n",
            "Symptom_14    object\n",
            "Symptom_15    object\n",
            "Symptom_16    object\n",
            "Symptom_17    object\n",
            "dtype: object\n",
            "Disease          0\n",
            "Symptom_1        0\n",
            "Symptom_2        0\n",
            "Symptom_3        0\n",
            "Symptom_4      348\n",
            "Symptom_5     1206\n",
            "Symptom_6     1986\n",
            "Symptom_7     2652\n",
            "Symptom_8     2976\n",
            "Symptom_9     3228\n",
            "Symptom_10    3408\n",
            "Symptom_11    3726\n",
            "Symptom_12    4176\n",
            "Symptom_13    4416\n",
            "Symptom_14    4614\n",
            "Symptom_15    4680\n",
            "Symptom_16    4728\n",
            "Symptom_17    4848\n",
            "dtype: int64\n"
          ]
        }
      ]
    },
    {
      "cell_type": "markdown",
      "source": [],
      "metadata": {
        "id": "gB0zwLXmg8aw"
      }
    },
    {
      "cell_type": "code",
      "source": [
        "categorical_columns = dataset_df.select_dtypes(include=['object', 'category']).columns.tolist()\n",
        "print(\"Categorical columns:\", categorical_columns)\n",
        "\n",
        "encoded_df = pd.get_dummies(dataset_df, columns=categorical_columns, drop_first=True)\n",
        "\n",
        "print(encoded_df.head())\n",
        "\n",
        "encoded_df.to_csv('/content/data/encoded_dataset.csv', index=False)\n",
        "\n",
        "\n",
        "print(encoded_df.head())"
      ],
      "metadata": {
        "colab": {
          "base_uri": "https://localhost:8080/"
        },
        "id": "sVgPEeJNL99m",
        "outputId": "cff93775-002e-4af3-fce8-205e7b815f8e"
      },
      "execution_count": 12,
      "outputs": [
        {
          "output_type": "stream",
          "name": "stdout",
          "text": [
            "Categorical columns: ['Disease', 'Symptom_1', 'Symptom_2', 'Symptom_3', 'Symptom_4', 'Symptom_5', 'Symptom_6', 'Symptom_7', 'Symptom_8', 'Symptom_9', 'Symptom_10', 'Symptom_11', 'Symptom_12', 'Symptom_13', 'Symptom_14', 'Symptom_15', 'Symptom_16', 'Symptom_17']\n",
            "   Disease_AIDS  Disease_Acne  Disease_Alcoholic hepatitis  Disease_Allergy  \\\n",
            "0         False         False                        False            False   \n",
            "1         False         False                        False            False   \n",
            "2         False         False                        False            False   \n",
            "3         False         False                        False            False   \n",
            "4         False         False                        False            False   \n",
            "\n",
            "   Disease_Arthritis  Disease_Bronchial Asthma  Disease_Cervical spondylosis  \\\n",
            "0              False                     False                         False   \n",
            "1              False                     False                         False   \n",
            "2              False                     False                         False   \n",
            "3              False                     False                         False   \n",
            "4              False                     False                         False   \n",
            "\n",
            "   Disease_Chicken pox  Disease_Chronic cholestasis  Disease_Common Cold  ...  \\\n",
            "0                False                        False                False  ...   \n",
            "1                False                        False                False  ...   \n",
            "2                False                        False                False  ...   \n",
            "3                False                        False                False  ...   \n",
            "4                False                        False                False  ...   \n",
            "\n",
            "   Symptom_13_ red_spots_over_body  Symptom_13_ runny_nose  \\\n",
            "0                            False                   False   \n",
            "1                            False                   False   \n",
            "2                            False                   False   \n",
            "3                            False                   False   \n",
            "4                            False                   False   \n",
            "\n",
            "   Symptom_13_ stomach_bleeding  Symptom_14_ congestion  Symptom_14_ phlegm  \\\n",
            "0                         False                   False               False   \n",
            "1                         False                   False               False   \n",
            "2                         False                   False               False   \n",
            "3                         False                   False               False   \n",
            "4                         False                   False               False   \n",
            "\n",
            "   Symptom_14_ red_spots_over_body  Symptom_15_ chest_pain  \\\n",
            "0                            False                   False   \n",
            "1                            False                   False   \n",
            "2                            False                   False   \n",
            "3                            False                   False   \n",
            "4                            False                   False   \n",
            "\n",
            "   Symptom_15_ loss_of_smell  Symptom_16_ loss_of_smell  \\\n",
            "0                      False                      False   \n",
            "1                      False                      False   \n",
            "2                      False                      False   \n",
            "3                      False                      False   \n",
            "4                      False                      False   \n",
            "\n",
            "   Symptom_16_ muscle_pain  \n",
            "0                    False  \n",
            "1                    False  \n",
            "2                    False  \n",
            "3                    False  \n",
            "4                    False  \n",
            "\n",
            "[5 rows x 417 columns]\n",
            "   Disease_AIDS  Disease_Acne  Disease_Alcoholic hepatitis  Disease_Allergy  \\\n",
            "0         False         False                        False            False   \n",
            "1         False         False                        False            False   \n",
            "2         False         False                        False            False   \n",
            "3         False         False                        False            False   \n",
            "4         False         False                        False            False   \n",
            "\n",
            "   Disease_Arthritis  Disease_Bronchial Asthma  Disease_Cervical spondylosis  \\\n",
            "0              False                     False                         False   \n",
            "1              False                     False                         False   \n",
            "2              False                     False                         False   \n",
            "3              False                     False                         False   \n",
            "4              False                     False                         False   \n",
            "\n",
            "   Disease_Chicken pox  Disease_Chronic cholestasis  Disease_Common Cold  ...  \\\n",
            "0                False                        False                False  ...   \n",
            "1                False                        False                False  ...   \n",
            "2                False                        False                False  ...   \n",
            "3                False                        False                False  ...   \n",
            "4                False                        False                False  ...   \n",
            "\n",
            "   Symptom_13_ red_spots_over_body  Symptom_13_ runny_nose  \\\n",
            "0                            False                   False   \n",
            "1                            False                   False   \n",
            "2                            False                   False   \n",
            "3                            False                   False   \n",
            "4                            False                   False   \n",
            "\n",
            "   Symptom_13_ stomach_bleeding  Symptom_14_ congestion  Symptom_14_ phlegm  \\\n",
            "0                         False                   False               False   \n",
            "1                         False                   False               False   \n",
            "2                         False                   False               False   \n",
            "3                         False                   False               False   \n",
            "4                         False                   False               False   \n",
            "\n",
            "   Symptom_14_ red_spots_over_body  Symptom_15_ chest_pain  \\\n",
            "0                            False                   False   \n",
            "1                            False                   False   \n",
            "2                            False                   False   \n",
            "3                            False                   False   \n",
            "4                            False                   False   \n",
            "\n",
            "   Symptom_15_ loss_of_smell  Symptom_16_ loss_of_smell  \\\n",
            "0                      False                      False   \n",
            "1                      False                      False   \n",
            "2                      False                      False   \n",
            "3                      False                      False   \n",
            "4                      False                      False   \n",
            "\n",
            "   Symptom_16_ muscle_pain  \n",
            "0                    False  \n",
            "1                    False  \n",
            "2                    False  \n",
            "3                    False  \n",
            "4                    False  \n",
            "\n",
            "[5 rows x 417 columns]\n"
          ]
        }
      ]
    },
    {
      "cell_type": "code",
      "source": [
        "class Disease:\n",
        "  def __init__(self, name):\n",
        "    self.name=name\n",
        "    self.symptoms=set()\n",
        "    self.hot_encode_symptom=[]\n",
        "  def add_symptom(self, symptom):\n",
        "    self.symptoms.add(symptom)\n",
        "  def __str__(self):\n",
        "    return f\"Disease: {self.name}\\nSymptoms: {', '.join(self.symptoms)}\\nEncoded sequence: {(self.hot_encode_symptom)}\""
      ],
      "metadata": {
        "id": "Uh8AngcX9Fp4"
      },
      "execution_count": 13,
      "outputs": []
    },
    {
      "cell_type": "code",
      "source": [
        "# this for the hot encode\n",
        "list_of_disease = []\n",
        "for index, row in dataset_df.iterrows():\n",
        "  disease_name = row.iloc[0]\n",
        "  new_disease = Disease(disease_name)\n",
        "  for data in row.dropna().values[1:]:\n",
        "    new_disease.add_symptom(data)\n",
        "  list_of_disease.append(new_disease)\n",
        "for s in unique_symptom:\n",
        "  for d in list_of_disease:\n",
        "    if s in d.symptoms:\n",
        "      d.hot_encode_symptom.append(1)\n",
        "    else:\n",
        "      d.hot_encode_symptom.append(0)\n",
        "\n",
        "for i in list_of_disease[:50]:\n",
        "  print(i)\n"
      ],
      "metadata": {
        "id": "zuh6PBt26L2B",
        "outputId": "da35683b-3753-4711-d74b-c2b4bda96a6a",
        "colab": {
          "base_uri": "https://localhost:8080/"
        }
      },
      "execution_count": 28,
      "outputs": [
        {
          "output_type": "stream",
          "name": "stdout",
          "text": [
            "Disease: Fungal infection\n",
            "Symptoms:  skin_rash, itching,  nodal_skin_eruptions,  dischromic _patches\n",
            "Encoded sequence: [0, 0, 0, 0, 0, 0, 0, 0, 0, 0, 0, 0, 0, 0, 0, 0, 0, 0, 0, 0, 0, 0, 0, 0, 0, 0, 0, 0, 0, 0, 0, 0, 0, 0, 0, 0, 0, 0, 0, 0, 0, 0, 0, 0, 0, 0, 0, 0, 0, 0, 0, 0, 0, 0, 0, 0, 0, 0, 0, 0, 0, 0, 0, 0, 0, 0, 0, 1, 0, 0, 0, 0, 0, 0, 0, 0, 0, 0, 0, 0, 0, 0, 0, 0, 0, 0, 0, 0, 0, 0, 0, 0, 0, 0, 0, 0, 0, 0, 0, 1, 0, 0, 0, 0, 0, 1, 0, 0, 0, 0, 0, 0, 0, 0, 0, 0, 0, 0, 1, 0, 0, 0, 0, 0, 0, 0, 0, 0, 0, 0, 0]\n",
            "Disease: Fungal infection\n",
            "Symptoms:  skin_rash,  dischromic _patches,  nodal_skin_eruptions\n",
            "Encoded sequence: [0, 0, 0, 0, 0, 0, 0, 0, 0, 0, 0, 0, 0, 0, 0, 0, 0, 0, 0, 0, 0, 0, 0, 0, 0, 0, 0, 0, 0, 0, 0, 0, 0, 0, 0, 0, 0, 0, 0, 0, 0, 0, 0, 0, 0, 0, 0, 0, 0, 0, 0, 0, 0, 0, 0, 0, 0, 0, 0, 0, 0, 0, 0, 0, 0, 0, 0, 1, 0, 0, 0, 0, 0, 0, 0, 0, 0, 0, 0, 0, 0, 0, 0, 0, 0, 0, 0, 0, 0, 0, 0, 0, 0, 0, 0, 0, 0, 0, 0, 1, 0, 0, 0, 0, 0, 0, 0, 0, 0, 0, 0, 0, 0, 0, 0, 0, 0, 0, 1, 0, 0, 0, 0, 0, 0, 0, 0, 0, 0, 0, 0]\n",
            "Disease: Fungal infection\n",
            "Symptoms: itching,  nodal_skin_eruptions,  dischromic _patches\n",
            "Encoded sequence: [0, 0, 0, 0, 0, 0, 0, 0, 0, 0, 0, 0, 0, 0, 0, 0, 0, 0, 0, 0, 0, 0, 0, 0, 0, 0, 0, 0, 0, 0, 0, 0, 0, 0, 0, 0, 0, 0, 0, 0, 0, 0, 0, 0, 0, 0, 0, 0, 0, 0, 0, 0, 0, 0, 0, 0, 0, 0, 0, 0, 0, 0, 0, 0, 0, 0, 0, 0, 0, 0, 0, 0, 0, 0, 0, 0, 0, 0, 0, 0, 0, 0, 0, 0, 0, 0, 0, 0, 0, 0, 0, 0, 0, 0, 0, 0, 0, 0, 0, 1, 0, 0, 0, 0, 0, 1, 0, 0, 0, 0, 0, 0, 0, 0, 0, 0, 0, 0, 1, 0, 0, 0, 0, 0, 0, 0, 0, 0, 0, 0, 0]\n",
            "Disease: Fungal infection\n",
            "Symptoms:  skin_rash, itching,  dischromic _patches\n",
            "Encoded sequence: [0, 0, 0, 0, 0, 0, 0, 0, 0, 0, 0, 0, 0, 0, 0, 0, 0, 0, 0, 0, 0, 0, 0, 0, 0, 0, 0, 0, 0, 0, 0, 0, 0, 0, 0, 0, 0, 0, 0, 0, 0, 0, 0, 0, 0, 0, 0, 0, 0, 0, 0, 0, 0, 0, 0, 0, 0, 0, 0, 0, 0, 0, 0, 0, 0, 0, 0, 1, 0, 0, 0, 0, 0, 0, 0, 0, 0, 0, 0, 0, 0, 0, 0, 0, 0, 0, 0, 0, 0, 0, 0, 0, 0, 0, 0, 0, 0, 0, 0, 1, 0, 0, 0, 0, 0, 1, 0, 0, 0, 0, 0, 0, 0, 0, 0, 0, 0, 0, 0, 0, 0, 0, 0, 0, 0, 0, 0, 0, 0, 0, 0]\n",
            "Disease: Fungal infection\n",
            "Symptoms:  skin_rash, itching,  nodal_skin_eruptions\n",
            "Encoded sequence: [0, 0, 0, 0, 0, 0, 0, 0, 0, 0, 0, 0, 0, 0, 0, 0, 0, 0, 0, 0, 0, 0, 0, 0, 0, 0, 0, 0, 0, 0, 0, 0, 0, 0, 0, 0, 0, 0, 0, 0, 0, 0, 0, 0, 0, 0, 0, 0, 0, 0, 0, 0, 0, 0, 0, 0, 0, 0, 0, 0, 0, 0, 0, 0, 0, 0, 0, 1, 0, 0, 0, 0, 0, 0, 0, 0, 0, 0, 0, 0, 0, 0, 0, 0, 0, 0, 0, 0, 0, 0, 0, 0, 0, 0, 0, 0, 0, 0, 0, 0, 0, 0, 0, 0, 0, 1, 0, 0, 0, 0, 0, 0, 0, 0, 0, 0, 0, 0, 1, 0, 0, 0, 0, 0, 0, 0, 0, 0, 0, 0, 0]\n",
            "Disease: Fungal infection\n",
            "Symptoms:  skin_rash,  dischromic _patches,  nodal_skin_eruptions\n",
            "Encoded sequence: [0, 0, 0, 0, 0, 0, 0, 0, 0, 0, 0, 0, 0, 0, 0, 0, 0, 0, 0, 0, 0, 0, 0, 0, 0, 0, 0, 0, 0, 0, 0, 0, 0, 0, 0, 0, 0, 0, 0, 0, 0, 0, 0, 0, 0, 0, 0, 0, 0, 0, 0, 0, 0, 0, 0, 0, 0, 0, 0, 0, 0, 0, 0, 0, 0, 0, 0, 1, 0, 0, 0, 0, 0, 0, 0, 0, 0, 0, 0, 0, 0, 0, 0, 0, 0, 0, 0, 0, 0, 0, 0, 0, 0, 0, 0, 0, 0, 0, 0, 1, 0, 0, 0, 0, 0, 0, 0, 0, 0, 0, 0, 0, 0, 0, 0, 0, 0, 0, 1, 0, 0, 0, 0, 0, 0, 0, 0, 0, 0, 0, 0]\n",
            "Disease: Fungal infection\n",
            "Symptoms: itching,  nodal_skin_eruptions,  dischromic _patches\n",
            "Encoded sequence: [0, 0, 0, 0, 0, 0, 0, 0, 0, 0, 0, 0, 0, 0, 0, 0, 0, 0, 0, 0, 0, 0, 0, 0, 0, 0, 0, 0, 0, 0, 0, 0, 0, 0, 0, 0, 0, 0, 0, 0, 0, 0, 0, 0, 0, 0, 0, 0, 0, 0, 0, 0, 0, 0, 0, 0, 0, 0, 0, 0, 0, 0, 0, 0, 0, 0, 0, 0, 0, 0, 0, 0, 0, 0, 0, 0, 0, 0, 0, 0, 0, 0, 0, 0, 0, 0, 0, 0, 0, 0, 0, 0, 0, 0, 0, 0, 0, 0, 0, 1, 0, 0, 0, 0, 0, 1, 0, 0, 0, 0, 0, 0, 0, 0, 0, 0, 0, 0, 1, 0, 0, 0, 0, 0, 0, 0, 0, 0, 0, 0, 0]\n",
            "Disease: Fungal infection\n",
            "Symptoms:  skin_rash, itching,  dischromic _patches\n",
            "Encoded sequence: [0, 0, 0, 0, 0, 0, 0, 0, 0, 0, 0, 0, 0, 0, 0, 0, 0, 0, 0, 0, 0, 0, 0, 0, 0, 0, 0, 0, 0, 0, 0, 0, 0, 0, 0, 0, 0, 0, 0, 0, 0, 0, 0, 0, 0, 0, 0, 0, 0, 0, 0, 0, 0, 0, 0, 0, 0, 0, 0, 0, 0, 0, 0, 0, 0, 0, 0, 1, 0, 0, 0, 0, 0, 0, 0, 0, 0, 0, 0, 0, 0, 0, 0, 0, 0, 0, 0, 0, 0, 0, 0, 0, 0, 0, 0, 0, 0, 0, 0, 1, 0, 0, 0, 0, 0, 1, 0, 0, 0, 0, 0, 0, 0, 0, 0, 0, 0, 0, 0, 0, 0, 0, 0, 0, 0, 0, 0, 0, 0, 0, 0]\n",
            "Disease: Fungal infection\n",
            "Symptoms:  skin_rash, itching,  nodal_skin_eruptions\n",
            "Encoded sequence: [0, 0, 0, 0, 0, 0, 0, 0, 0, 0, 0, 0, 0, 0, 0, 0, 0, 0, 0, 0, 0, 0, 0, 0, 0, 0, 0, 0, 0, 0, 0, 0, 0, 0, 0, 0, 0, 0, 0, 0, 0, 0, 0, 0, 0, 0, 0, 0, 0, 0, 0, 0, 0, 0, 0, 0, 0, 0, 0, 0, 0, 0, 0, 0, 0, 0, 0, 1, 0, 0, 0, 0, 0, 0, 0, 0, 0, 0, 0, 0, 0, 0, 0, 0, 0, 0, 0, 0, 0, 0, 0, 0, 0, 0, 0, 0, 0, 0, 0, 0, 0, 0, 0, 0, 0, 1, 0, 0, 0, 0, 0, 0, 0, 0, 0, 0, 0, 0, 1, 0, 0, 0, 0, 0, 0, 0, 0, 0, 0, 0, 0]\n",
            "Disease: Fungal infection\n",
            "Symptoms:  skin_rash, itching,  nodal_skin_eruptions,  dischromic _patches\n",
            "Encoded sequence: [0, 0, 0, 0, 0, 0, 0, 0, 0, 0, 0, 0, 0, 0, 0, 0, 0, 0, 0, 0, 0, 0, 0, 0, 0, 0, 0, 0, 0, 0, 0, 0, 0, 0, 0, 0, 0, 0, 0, 0, 0, 0, 0, 0, 0, 0, 0, 0, 0, 0, 0, 0, 0, 0, 0, 0, 0, 0, 0, 0, 0, 0, 0, 0, 0, 0, 0, 1, 0, 0, 0, 0, 0, 0, 0, 0, 0, 0, 0, 0, 0, 0, 0, 0, 0, 0, 0, 0, 0, 0, 0, 0, 0, 0, 0, 0, 0, 0, 0, 1, 0, 0, 0, 0, 0, 1, 0, 0, 0, 0, 0, 0, 0, 0, 0, 0, 0, 0, 1, 0, 0, 0, 0, 0, 0, 0, 0, 0, 0, 0, 0]\n",
            "Disease: Allergy\n",
            "Symptoms:  continuous_sneezing,  shivering,  chills,  watering_from_eyes\n",
            "Encoded sequence: [0, 0, 0, 0, 0, 0, 0, 0, 0, 0, 0, 0, 0, 0, 0, 0, 0, 0, 0, 0, 0, 0, 0, 0, 0, 0, 0, 0, 0, 0, 0, 0, 0, 0, 0, 0, 0, 0, 0, 0, 0, 0, 1, 0, 0, 0, 0, 0, 0, 0, 0, 0, 0, 0, 0, 0, 0, 0, 0, 0, 1, 0, 0, 0, 0, 0, 0, 0, 0, 0, 0, 0, 0, 0, 0, 0, 0, 0, 0, 0, 0, 0, 0, 0, 0, 0, 0, 1, 0, 0, 0, 0, 0, 0, 0, 0, 0, 0, 0, 0, 0, 0, 0, 0, 0, 0, 0, 0, 0, 0, 0, 0, 0, 0, 0, 0, 0, 0, 0, 0, 1, 0, 0, 0, 0, 0, 0, 0, 0, 0, 0]\n",
            "Disease: Allergy\n",
            "Symptoms:  watering_from_eyes,  shivering,  chills\n",
            "Encoded sequence: [0, 0, 0, 0, 0, 0, 0, 0, 0, 0, 0, 0, 0, 0, 0, 0, 0, 0, 0, 0, 0, 0, 0, 0, 0, 0, 0, 0, 0, 0, 0, 0, 0, 0, 0, 0, 0, 0, 0, 0, 0, 0, 1, 0, 0, 0, 0, 0, 0, 0, 0, 0, 0, 0, 0, 0, 0, 0, 0, 0, 1, 0, 0, 0, 0, 0, 0, 0, 0, 0, 0, 0, 0, 0, 0, 0, 0, 0, 0, 0, 0, 0, 0, 0, 0, 0, 0, 1, 0, 0, 0, 0, 0, 0, 0, 0, 0, 0, 0, 0, 0, 0, 0, 0, 0, 0, 0, 0, 0, 0, 0, 0, 0, 0, 0, 0, 0, 0, 0, 0, 0, 0, 0, 0, 0, 0, 0, 0, 0, 0, 0]\n",
            "Disease: Allergy\n",
            "Symptoms:  continuous_sneezing,  chills,  watering_from_eyes\n",
            "Encoded sequence: [0, 0, 0, 0, 0, 0, 0, 0, 0, 0, 0, 0, 0, 0, 0, 0, 0, 0, 0, 0, 0, 0, 0, 0, 0, 0, 0, 0, 0, 0, 0, 0, 0, 0, 0, 0, 0, 0, 0, 0, 0, 0, 1, 0, 0, 0, 0, 0, 0, 0, 0, 0, 0, 0, 0, 0, 0, 0, 0, 0, 1, 0, 0, 0, 0, 0, 0, 0, 0, 0, 0, 0, 0, 0, 0, 0, 0, 0, 0, 0, 0, 0, 0, 0, 0, 0, 0, 0, 0, 0, 0, 0, 0, 0, 0, 0, 0, 0, 0, 0, 0, 0, 0, 0, 0, 0, 0, 0, 0, 0, 0, 0, 0, 0, 0, 0, 0, 0, 0, 0, 1, 0, 0, 0, 0, 0, 0, 0, 0, 0, 0]\n",
            "Disease: Allergy\n",
            "Symptoms:  continuous_sneezing,  shivering,  watering_from_eyes\n",
            "Encoded sequence: [0, 0, 0, 0, 0, 0, 0, 0, 0, 0, 0, 0, 0, 0, 0, 0, 0, 0, 0, 0, 0, 0, 0, 0, 0, 0, 0, 0, 0, 0, 0, 0, 0, 0, 0, 0, 0, 0, 0, 0, 0, 0, 0, 0, 0, 0, 0, 0, 0, 0, 0, 0, 0, 0, 0, 0, 0, 0, 0, 0, 1, 0, 0, 0, 0, 0, 0, 0, 0, 0, 0, 0, 0, 0, 0, 0, 0, 0, 0, 0, 0, 0, 0, 0, 0, 0, 0, 1, 0, 0, 0, 0, 0, 0, 0, 0, 0, 0, 0, 0, 0, 0, 0, 0, 0, 0, 0, 0, 0, 0, 0, 0, 0, 0, 0, 0, 0, 0, 0, 0, 1, 0, 0, 0, 0, 0, 0, 0, 0, 0, 0]\n",
            "Disease: Allergy\n",
            "Symptoms:  continuous_sneezing,  shivering,  chills\n",
            "Encoded sequence: [0, 0, 0, 0, 0, 0, 0, 0, 0, 0, 0, 0, 0, 0, 0, 0, 0, 0, 0, 0, 0, 0, 0, 0, 0, 0, 0, 0, 0, 0, 0, 0, 0, 0, 0, 0, 0, 0, 0, 0, 0, 0, 1, 0, 0, 0, 0, 0, 0, 0, 0, 0, 0, 0, 0, 0, 0, 0, 0, 0, 0, 0, 0, 0, 0, 0, 0, 0, 0, 0, 0, 0, 0, 0, 0, 0, 0, 0, 0, 0, 0, 0, 0, 0, 0, 0, 0, 1, 0, 0, 0, 0, 0, 0, 0, 0, 0, 0, 0, 0, 0, 0, 0, 0, 0, 0, 0, 0, 0, 0, 0, 0, 0, 0, 0, 0, 0, 0, 0, 0, 1, 0, 0, 0, 0, 0, 0, 0, 0, 0, 0]\n",
            "Disease: Allergy\n",
            "Symptoms:  watering_from_eyes,  shivering,  chills\n",
            "Encoded sequence: [0, 0, 0, 0, 0, 0, 0, 0, 0, 0, 0, 0, 0, 0, 0, 0, 0, 0, 0, 0, 0, 0, 0, 0, 0, 0, 0, 0, 0, 0, 0, 0, 0, 0, 0, 0, 0, 0, 0, 0, 0, 0, 1, 0, 0, 0, 0, 0, 0, 0, 0, 0, 0, 0, 0, 0, 0, 0, 0, 0, 1, 0, 0, 0, 0, 0, 0, 0, 0, 0, 0, 0, 0, 0, 0, 0, 0, 0, 0, 0, 0, 0, 0, 0, 0, 0, 0, 1, 0, 0, 0, 0, 0, 0, 0, 0, 0, 0, 0, 0, 0, 0, 0, 0, 0, 0, 0, 0, 0, 0, 0, 0, 0, 0, 0, 0, 0, 0, 0, 0, 0, 0, 0, 0, 0, 0, 0, 0, 0, 0, 0]\n",
            "Disease: Allergy\n",
            "Symptoms:  continuous_sneezing,  chills,  watering_from_eyes\n",
            "Encoded sequence: [0, 0, 0, 0, 0, 0, 0, 0, 0, 0, 0, 0, 0, 0, 0, 0, 0, 0, 0, 0, 0, 0, 0, 0, 0, 0, 0, 0, 0, 0, 0, 0, 0, 0, 0, 0, 0, 0, 0, 0, 0, 0, 1, 0, 0, 0, 0, 0, 0, 0, 0, 0, 0, 0, 0, 0, 0, 0, 0, 0, 1, 0, 0, 0, 0, 0, 0, 0, 0, 0, 0, 0, 0, 0, 0, 0, 0, 0, 0, 0, 0, 0, 0, 0, 0, 0, 0, 0, 0, 0, 0, 0, 0, 0, 0, 0, 0, 0, 0, 0, 0, 0, 0, 0, 0, 0, 0, 0, 0, 0, 0, 0, 0, 0, 0, 0, 0, 0, 0, 0, 1, 0, 0, 0, 0, 0, 0, 0, 0, 0, 0]\n",
            "Disease: Allergy\n",
            "Symptoms:  continuous_sneezing,  shivering,  watering_from_eyes\n",
            "Encoded sequence: [0, 0, 0, 0, 0, 0, 0, 0, 0, 0, 0, 0, 0, 0, 0, 0, 0, 0, 0, 0, 0, 0, 0, 0, 0, 0, 0, 0, 0, 0, 0, 0, 0, 0, 0, 0, 0, 0, 0, 0, 0, 0, 0, 0, 0, 0, 0, 0, 0, 0, 0, 0, 0, 0, 0, 0, 0, 0, 0, 0, 1, 0, 0, 0, 0, 0, 0, 0, 0, 0, 0, 0, 0, 0, 0, 0, 0, 0, 0, 0, 0, 0, 0, 0, 0, 0, 0, 1, 0, 0, 0, 0, 0, 0, 0, 0, 0, 0, 0, 0, 0, 0, 0, 0, 0, 0, 0, 0, 0, 0, 0, 0, 0, 0, 0, 0, 0, 0, 0, 0, 1, 0, 0, 0, 0, 0, 0, 0, 0, 0, 0]\n",
            "Disease: Allergy\n",
            "Symptoms:  continuous_sneezing,  shivering,  chills\n",
            "Encoded sequence: [0, 0, 0, 0, 0, 0, 0, 0, 0, 0, 0, 0, 0, 0, 0, 0, 0, 0, 0, 0, 0, 0, 0, 0, 0, 0, 0, 0, 0, 0, 0, 0, 0, 0, 0, 0, 0, 0, 0, 0, 0, 0, 1, 0, 0, 0, 0, 0, 0, 0, 0, 0, 0, 0, 0, 0, 0, 0, 0, 0, 0, 0, 0, 0, 0, 0, 0, 0, 0, 0, 0, 0, 0, 0, 0, 0, 0, 0, 0, 0, 0, 0, 0, 0, 0, 0, 0, 1, 0, 0, 0, 0, 0, 0, 0, 0, 0, 0, 0, 0, 0, 0, 0, 0, 0, 0, 0, 0, 0, 0, 0, 0, 0, 0, 0, 0, 0, 0, 0, 0, 1, 0, 0, 0, 0, 0, 0, 0, 0, 0, 0]\n",
            "Disease: Allergy\n",
            "Symptoms:  continuous_sneezing,  shivering,  chills,  watering_from_eyes\n",
            "Encoded sequence: [0, 0, 0, 0, 0, 0, 0, 0, 0, 0, 0, 0, 0, 0, 0, 0, 0, 0, 0, 0, 0, 0, 0, 0, 0, 0, 0, 0, 0, 0, 0, 0, 0, 0, 0, 0, 0, 0, 0, 0, 0, 0, 1, 0, 0, 0, 0, 0, 0, 0, 0, 0, 0, 0, 0, 0, 0, 0, 0, 0, 1, 0, 0, 0, 0, 0, 0, 0, 0, 0, 0, 0, 0, 0, 0, 0, 0, 0, 0, 0, 0, 0, 0, 0, 0, 0, 0, 1, 0, 0, 0, 0, 0, 0, 0, 0, 0, 0, 0, 0, 0, 0, 0, 0, 0, 0, 0, 0, 0, 0, 0, 0, 0, 0, 0, 0, 0, 0, 0, 0, 1, 0, 0, 0, 0, 0, 0, 0, 0, 0, 0]\n",
            "Disease: GERD\n",
            "Symptoms:  ulcers_on_tongue,  cough,  chest_pain,  acidity,  vomiting,  stomach_pain\n",
            "Encoded sequence: [0, 0, 0, 0, 0, 0, 0, 0, 0, 0, 0, 0, 0, 0, 0, 0, 0, 0, 0, 0, 0, 0, 0, 0, 0, 0, 0, 0, 0, 0, 0, 0, 0, 0, 0, 0, 0, 0, 0, 0, 0, 0, 0, 0, 0, 0, 0, 0, 0, 0, 0, 0, 0, 0, 1, 0, 0, 0, 0, 0, 0, 0, 0, 0, 0, 0, 1, 0, 0, 0, 0, 0, 0, 0, 0, 0, 0, 0, 0, 0, 0, 0, 0, 0, 0, 0, 0, 0, 1, 1, 0, 0, 0, 0, 0, 0, 0, 0, 0, 0, 0, 0, 0, 0, 1, 0, 0, 0, 0, 0, 0, 0, 0, 0, 0, 0, 0, 0, 0, 1, 0, 0, 0, 0, 0, 0, 0, 0, 0, 0, 0]\n",
            "Disease: GERD\n",
            "Symptoms:  ulcers_on_tongue,  cough,  chest_pain,  vomiting,  stomach_pain\n",
            "Encoded sequence: [0, 0, 0, 0, 0, 0, 0, 0, 0, 0, 0, 0, 0, 0, 0, 0, 0, 0, 0, 0, 0, 0, 0, 0, 0, 0, 0, 0, 0, 0, 0, 0, 0, 0, 0, 0, 0, 0, 0, 0, 0, 0, 0, 0, 0, 0, 0, 0, 0, 0, 0, 0, 0, 0, 1, 0, 0, 0, 0, 0, 0, 0, 0, 0, 0, 0, 1, 0, 0, 0, 0, 0, 0, 0, 0, 0, 0, 0, 0, 0, 0, 0, 0, 0, 0, 0, 0, 0, 1, 1, 0, 0, 0, 0, 0, 0, 0, 0, 0, 0, 0, 0, 0, 0, 1, 0, 0, 0, 0, 0, 0, 0, 0, 0, 0, 0, 0, 0, 0, 0, 0, 0, 0, 0, 0, 0, 0, 0, 0, 0, 0]\n",
            "Disease: GERD\n",
            "Symptoms:  cough,  chest_pain,  acidity,  vomiting,  stomach_pain\n",
            "Encoded sequence: [0, 0, 0, 0, 0, 0, 0, 0, 0, 0, 0, 0, 0, 0, 0, 0, 0, 0, 0, 0, 0, 0, 0, 0, 0, 0, 0, 0, 0, 0, 0, 0, 0, 0, 0, 0, 0, 0, 0, 0, 0, 0, 0, 0, 0, 0, 0, 0, 0, 0, 0, 0, 0, 0, 1, 0, 0, 0, 0, 0, 0, 0, 0, 0, 0, 0, 1, 0, 0, 0, 0, 0, 0, 0, 0, 0, 0, 0, 0, 0, 0, 0, 0, 0, 0, 0, 0, 0, 1, 1, 0, 0, 0, 0, 0, 0, 0, 0, 0, 0, 0, 0, 0, 0, 0, 0, 0, 0, 0, 0, 0, 0, 0, 0, 0, 0, 0, 0, 0, 1, 0, 0, 0, 0, 0, 0, 0, 0, 0, 0, 0]\n",
            "Disease: GERD\n",
            "Symptoms:  ulcers_on_tongue,  cough,  chest_pain,  acidity,  stomach_pain\n",
            "Encoded sequence: [0, 0, 0, 0, 0, 0, 0, 0, 0, 0, 0, 0, 0, 0, 0, 0, 0, 0, 0, 0, 0, 0, 0, 0, 0, 0, 0, 0, 0, 0, 0, 0, 0, 0, 0, 0, 0, 0, 0, 0, 0, 0, 0, 0, 0, 0, 0, 0, 0, 0, 0, 0, 0, 0, 0, 0, 0, 0, 0, 0, 0, 0, 0, 0, 0, 0, 1, 0, 0, 0, 0, 0, 0, 0, 0, 0, 0, 0, 0, 0, 0, 0, 0, 0, 0, 0, 0, 0, 1, 1, 0, 0, 0, 0, 0, 0, 0, 0, 0, 0, 0, 0, 0, 0, 1, 0, 0, 0, 0, 0, 0, 0, 0, 0, 0, 0, 0, 0, 0, 1, 0, 0, 0, 0, 0, 0, 0, 0, 0, 0, 0]\n",
            "Disease: GERD\n",
            "Symptoms:  ulcers_on_tongue,  chest_pain,  acidity,  vomiting,  stomach_pain\n",
            "Encoded sequence: [0, 0, 0, 0, 0, 0, 0, 0, 0, 0, 0, 0, 0, 0, 0, 0, 0, 0, 0, 0, 0, 0, 0, 0, 0, 0, 0, 0, 0, 0, 0, 0, 0, 0, 0, 0, 0, 0, 0, 0, 0, 0, 0, 0, 0, 0, 0, 0, 0, 0, 0, 0, 0, 0, 1, 0, 0, 0, 0, 0, 0, 0, 0, 0, 0, 0, 1, 0, 0, 0, 0, 0, 0, 0, 0, 0, 0, 0, 0, 0, 0, 0, 0, 0, 0, 0, 0, 0, 0, 1, 0, 0, 0, 0, 0, 0, 0, 0, 0, 0, 0, 0, 0, 0, 1, 0, 0, 0, 0, 0, 0, 0, 0, 0, 0, 0, 0, 0, 0, 1, 0, 0, 0, 0, 0, 0, 0, 0, 0, 0, 0]\n",
            "Disease: GERD\n",
            "Symptoms:  ulcers_on_tongue,  cough,  acidity,  vomiting,  stomach_pain\n",
            "Encoded sequence: [0, 0, 0, 0, 0, 0, 0, 0, 0, 0, 0, 0, 0, 0, 0, 0, 0, 0, 0, 0, 0, 0, 0, 0, 0, 0, 0, 0, 0, 0, 0, 0, 0, 0, 0, 0, 0, 0, 0, 0, 0, 0, 0, 0, 0, 0, 0, 0, 0, 0, 0, 0, 0, 0, 1, 0, 0, 0, 0, 0, 0, 0, 0, 0, 0, 0, 1, 0, 0, 0, 0, 0, 0, 0, 0, 0, 0, 0, 0, 0, 0, 0, 0, 0, 0, 0, 0, 0, 1, 0, 0, 0, 0, 0, 0, 0, 0, 0, 0, 0, 0, 0, 0, 0, 1, 0, 0, 0, 0, 0, 0, 0, 0, 0, 0, 0, 0, 0, 0, 1, 0, 0, 0, 0, 0, 0, 0, 0, 0, 0, 0]\n",
            "Disease: GERD\n",
            "Symptoms:  ulcers_on_tongue,  cough,  chest_pain,  acidity,  vomiting\n",
            "Encoded sequence: [0, 0, 0, 0, 0, 0, 0, 0, 0, 0, 0, 0, 0, 0, 0, 0, 0, 0, 0, 0, 0, 0, 0, 0, 0, 0, 0, 0, 0, 0, 0, 0, 0, 0, 0, 0, 0, 0, 0, 0, 0, 0, 0, 0, 0, 0, 0, 0, 0, 0, 0, 0, 0, 0, 1, 0, 0, 0, 0, 0, 0, 0, 0, 0, 0, 0, 0, 0, 0, 0, 0, 0, 0, 0, 0, 0, 0, 0, 0, 0, 0, 0, 0, 0, 0, 0, 0, 0, 1, 1, 0, 0, 0, 0, 0, 0, 0, 0, 0, 0, 0, 0, 0, 0, 1, 0, 0, 0, 0, 0, 0, 0, 0, 0, 0, 0, 0, 0, 0, 1, 0, 0, 0, 0, 0, 0, 0, 0, 0, 0, 0]\n",
            "Disease: GERD\n",
            "Symptoms:  ulcers_on_tongue,  cough,  chest_pain,  vomiting,  stomach_pain\n",
            "Encoded sequence: [0, 0, 0, 0, 0, 0, 0, 0, 0, 0, 0, 0, 0, 0, 0, 0, 0, 0, 0, 0, 0, 0, 0, 0, 0, 0, 0, 0, 0, 0, 0, 0, 0, 0, 0, 0, 0, 0, 0, 0, 0, 0, 0, 0, 0, 0, 0, 0, 0, 0, 0, 0, 0, 0, 1, 0, 0, 0, 0, 0, 0, 0, 0, 0, 0, 0, 1, 0, 0, 0, 0, 0, 0, 0, 0, 0, 0, 0, 0, 0, 0, 0, 0, 0, 0, 0, 0, 0, 1, 1, 0, 0, 0, 0, 0, 0, 0, 0, 0, 0, 0, 0, 0, 0, 1, 0, 0, 0, 0, 0, 0, 0, 0, 0, 0, 0, 0, 0, 0, 0, 0, 0, 0, 0, 0, 0, 0, 0, 0, 0, 0]\n",
            "Disease: GERD\n",
            "Symptoms:  cough,  chest_pain,  acidity,  vomiting,  stomach_pain\n",
            "Encoded sequence: [0, 0, 0, 0, 0, 0, 0, 0, 0, 0, 0, 0, 0, 0, 0, 0, 0, 0, 0, 0, 0, 0, 0, 0, 0, 0, 0, 0, 0, 0, 0, 0, 0, 0, 0, 0, 0, 0, 0, 0, 0, 0, 0, 0, 0, 0, 0, 0, 0, 0, 0, 0, 0, 0, 1, 0, 0, 0, 0, 0, 0, 0, 0, 0, 0, 0, 1, 0, 0, 0, 0, 0, 0, 0, 0, 0, 0, 0, 0, 0, 0, 0, 0, 0, 0, 0, 0, 0, 1, 1, 0, 0, 0, 0, 0, 0, 0, 0, 0, 0, 0, 0, 0, 0, 0, 0, 0, 0, 0, 0, 0, 0, 0, 0, 0, 0, 0, 0, 0, 1, 0, 0, 0, 0, 0, 0, 0, 0, 0, 0, 0]\n",
            "Disease: GERD\n",
            "Symptoms:  ulcers_on_tongue,  cough,  chest_pain,  acidity,  stomach_pain\n",
            "Encoded sequence: [0, 0, 0, 0, 0, 0, 0, 0, 0, 0, 0, 0, 0, 0, 0, 0, 0, 0, 0, 0, 0, 0, 0, 0, 0, 0, 0, 0, 0, 0, 0, 0, 0, 0, 0, 0, 0, 0, 0, 0, 0, 0, 0, 0, 0, 0, 0, 0, 0, 0, 0, 0, 0, 0, 0, 0, 0, 0, 0, 0, 0, 0, 0, 0, 0, 0, 1, 0, 0, 0, 0, 0, 0, 0, 0, 0, 0, 0, 0, 0, 0, 0, 0, 0, 0, 0, 0, 0, 1, 1, 0, 0, 0, 0, 0, 0, 0, 0, 0, 0, 0, 0, 0, 0, 1, 0, 0, 0, 0, 0, 0, 0, 0, 0, 0, 0, 0, 0, 0, 1, 0, 0, 0, 0, 0, 0, 0, 0, 0, 0, 0]\n",
            "Disease: Chronic cholestasis\n",
            "Symptoms:  nausea,  loss_of_appetite,  yellowish_skin,  yellowing_of_eyes, itching,  abdominal_pain,  vomiting\n",
            "Encoded sequence: [0, 0, 0, 0, 0, 0, 0, 0, 0, 0, 0, 0, 0, 0, 0, 0, 0, 0, 0, 0, 0, 0, 0, 0, 0, 0, 1, 0, 0, 0, 0, 0, 0, 0, 0, 0, 0, 0, 1, 0, 0, 0, 0, 0, 0, 0, 0, 0, 0, 0, 0, 0, 0, 0, 1, 0, 0, 0, 0, 0, 0, 0, 0, 0, 0, 0, 0, 0, 0, 0, 0, 0, 0, 0, 0, 0, 0, 0, 0, 0, 0, 0, 1, 1, 0, 0, 1, 0, 0, 0, 0, 0, 0, 0, 0, 0, 0, 0, 0, 0, 0, 0, 0, 0, 0, 1, 0, 0, 0, 0, 0, 0, 0, 0, 0, 0, 0, 0, 0, 0, 0, 0, 0, 0, 0, 0, 0, 0, 0, 0, 0]\n",
            "Disease: Chronic cholestasis\n",
            "Symptoms:  nausea,  loss_of_appetite,  yellowish_skin,  yellowing_of_eyes,  abdominal_pain,  vomiting\n",
            "Encoded sequence: [0, 0, 0, 0, 0, 0, 0, 0, 0, 0, 0, 0, 0, 0, 0, 0, 0, 0, 0, 0, 0, 0, 0, 0, 0, 0, 1, 0, 0, 0, 0, 0, 0, 0, 0, 0, 0, 0, 1, 0, 0, 0, 0, 0, 0, 0, 0, 0, 0, 0, 0, 0, 0, 0, 1, 0, 0, 0, 0, 0, 0, 0, 0, 0, 0, 0, 0, 0, 0, 0, 0, 0, 0, 0, 0, 0, 0, 0, 0, 0, 0, 0, 1, 1, 0, 0, 1, 0, 0, 0, 0, 0, 0, 0, 0, 0, 0, 0, 0, 0, 0, 0, 0, 0, 0, 0, 0, 0, 0, 0, 0, 0, 0, 0, 0, 0, 0, 0, 0, 0, 0, 0, 0, 0, 0, 0, 0, 0, 0, 0, 0]\n",
            "Disease: Chronic cholestasis\n",
            "Symptoms:  nausea,  loss_of_appetite,  yellowish_skin,  yellowing_of_eyes, itching,  abdominal_pain\n",
            "Encoded sequence: [0, 0, 0, 0, 0, 0, 0, 0, 0, 0, 0, 0, 0, 0, 0, 0, 0, 0, 0, 0, 0, 0, 0, 0, 0, 0, 1, 0, 0, 0, 0, 0, 0, 0, 0, 0, 0, 0, 1, 0, 0, 0, 0, 0, 0, 0, 0, 0, 0, 0, 0, 0, 0, 0, 0, 0, 0, 0, 0, 0, 0, 0, 0, 0, 0, 0, 0, 0, 0, 0, 0, 0, 0, 0, 0, 0, 0, 0, 0, 0, 0, 0, 1, 1, 0, 0, 1, 0, 0, 0, 0, 0, 0, 0, 0, 0, 0, 0, 0, 0, 0, 0, 0, 0, 0, 1, 0, 0, 0, 0, 0, 0, 0, 0, 0, 0, 0, 0, 0, 0, 0, 0, 0, 0, 0, 0, 0, 0, 0, 0, 0]\n",
            "Disease: Chronic cholestasis\n",
            "Symptoms:  nausea,  loss_of_appetite,  yellowing_of_eyes, itching,  abdominal_pain,  vomiting\n",
            "Encoded sequence: [0, 0, 0, 0, 0, 0, 0, 0, 0, 0, 0, 0, 0, 0, 0, 0, 0, 0, 0, 0, 0, 0, 0, 0, 0, 0, 1, 0, 0, 0, 0, 0, 0, 0, 0, 0, 0, 0, 1, 0, 0, 0, 0, 0, 0, 0, 0, 0, 0, 0, 0, 0, 0, 0, 1, 0, 0, 0, 0, 0, 0, 0, 0, 0, 0, 0, 0, 0, 0, 0, 0, 0, 0, 0, 0, 0, 0, 0, 0, 0, 0, 0, 1, 0, 0, 0, 1, 0, 0, 0, 0, 0, 0, 0, 0, 0, 0, 0, 0, 0, 0, 0, 0, 0, 0, 1, 0, 0, 0, 0, 0, 0, 0, 0, 0, 0, 0, 0, 0, 0, 0, 0, 0, 0, 0, 0, 0, 0, 0, 0, 0]\n",
            "Disease: Chronic cholestasis\n",
            "Symptoms:  loss_of_appetite,  yellowish_skin,  yellowing_of_eyes, itching,  abdominal_pain,  vomiting\n",
            "Encoded sequence: [0, 0, 0, 0, 0, 0, 0, 0, 0, 0, 0, 0, 0, 0, 0, 0, 0, 0, 0, 0, 0, 0, 0, 0, 0, 0, 0, 0, 0, 0, 0, 0, 0, 0, 0, 0, 0, 0, 1, 0, 0, 0, 0, 0, 0, 0, 0, 0, 0, 0, 0, 0, 0, 0, 1, 0, 0, 0, 0, 0, 0, 0, 0, 0, 0, 0, 0, 0, 0, 0, 0, 0, 0, 0, 0, 0, 0, 0, 0, 0, 0, 0, 1, 1, 0, 0, 1, 0, 0, 0, 0, 0, 0, 0, 0, 0, 0, 0, 0, 0, 0, 0, 0, 0, 0, 1, 0, 0, 0, 0, 0, 0, 0, 0, 0, 0, 0, 0, 0, 0, 0, 0, 0, 0, 0, 0, 0, 0, 0, 0, 0]\n",
            "Disease: Chronic cholestasis\n",
            "Symptoms:  nausea,  yellowish_skin,  yellowing_of_eyes, itching,  abdominal_pain,  vomiting\n",
            "Encoded sequence: [0, 0, 0, 0, 0, 0, 0, 0, 0, 0, 0, 0, 0, 0, 0, 0, 0, 0, 0, 0, 0, 0, 0, 0, 0, 0, 1, 0, 0, 0, 0, 0, 0, 0, 0, 0, 0, 0, 1, 0, 0, 0, 0, 0, 0, 0, 0, 0, 0, 0, 0, 0, 0, 0, 1, 0, 0, 0, 0, 0, 0, 0, 0, 0, 0, 0, 0, 0, 0, 0, 0, 0, 0, 0, 0, 0, 0, 0, 0, 0, 0, 0, 0, 1, 0, 0, 1, 0, 0, 0, 0, 0, 0, 0, 0, 0, 0, 0, 0, 0, 0, 0, 0, 0, 0, 1, 0, 0, 0, 0, 0, 0, 0, 0, 0, 0, 0, 0, 0, 0, 0, 0, 0, 0, 0, 0, 0, 0, 0, 0, 0]\n",
            "Disease: Chronic cholestasis\n",
            "Symptoms:  nausea,  loss_of_appetite,  yellowish_skin,  yellowing_of_eyes, itching,  vomiting\n",
            "Encoded sequence: [0, 0, 0, 0, 0, 0, 0, 0, 0, 0, 0, 0, 0, 0, 0, 0, 0, 0, 0, 0, 0, 0, 0, 0, 0, 0, 1, 0, 0, 0, 0, 0, 0, 0, 0, 0, 0, 0, 0, 0, 0, 0, 0, 0, 0, 0, 0, 0, 0, 0, 0, 0, 0, 0, 1, 0, 0, 0, 0, 0, 0, 0, 0, 0, 0, 0, 0, 0, 0, 0, 0, 0, 0, 0, 0, 0, 0, 0, 0, 0, 0, 0, 1, 1, 0, 0, 1, 0, 0, 0, 0, 0, 0, 0, 0, 0, 0, 0, 0, 0, 0, 0, 0, 0, 0, 1, 0, 0, 0, 0, 0, 0, 0, 0, 0, 0, 0, 0, 0, 0, 0, 0, 0, 0, 0, 0, 0, 0, 0, 0, 0]\n",
            "Disease: Chronic cholestasis\n",
            "Symptoms:  nausea,  loss_of_appetite,  yellowish_skin, itching,  abdominal_pain,  vomiting\n",
            "Encoded sequence: [0, 0, 0, 0, 0, 0, 0, 0, 0, 0, 0, 0, 0, 0, 0, 0, 0, 0, 0, 0, 0, 0, 0, 0, 0, 0, 1, 0, 0, 0, 0, 0, 0, 0, 0, 0, 0, 0, 1, 0, 0, 0, 0, 0, 0, 0, 0, 0, 0, 0, 0, 0, 0, 0, 1, 0, 0, 0, 0, 0, 0, 0, 0, 0, 0, 0, 0, 0, 0, 0, 0, 0, 0, 0, 0, 0, 0, 0, 0, 0, 0, 0, 1, 1, 0, 0, 0, 0, 0, 0, 0, 0, 0, 0, 0, 0, 0, 0, 0, 0, 0, 0, 0, 0, 0, 1, 0, 0, 0, 0, 0, 0, 0, 0, 0, 0, 0, 0, 0, 0, 0, 0, 0, 0, 0, 0, 0, 0, 0, 0, 0]\n",
            "Disease: Chronic cholestasis\n",
            "Symptoms:  nausea,  loss_of_appetite,  yellowish_skin,  yellowing_of_eyes, itching,  abdominal_pain,  vomiting\n",
            "Encoded sequence: [0, 0, 0, 0, 0, 0, 0, 0, 0, 0, 0, 0, 0, 0, 0, 0, 0, 0, 0, 0, 0, 0, 0, 0, 0, 0, 1, 0, 0, 0, 0, 0, 0, 0, 0, 0, 0, 0, 1, 0, 0, 0, 0, 0, 0, 0, 0, 0, 0, 0, 0, 0, 0, 0, 1, 0, 0, 0, 0, 0, 0, 0, 0, 0, 0, 0, 0, 0, 0, 0, 0, 0, 0, 0, 0, 0, 0, 0, 0, 0, 0, 0, 1, 1, 0, 0, 1, 0, 0, 0, 0, 0, 0, 0, 0, 0, 0, 0, 0, 0, 0, 0, 0, 0, 0, 1, 0, 0, 0, 0, 0, 0, 0, 0, 0, 0, 0, 0, 0, 0, 0, 0, 0, 0, 0, 0, 0, 0, 0, 0, 0]\n",
            "Disease: Chronic cholestasis\n",
            "Symptoms:  nausea,  loss_of_appetite,  yellowish_skin,  yellowing_of_eyes, itching,  abdominal_pain,  vomiting\n",
            "Encoded sequence: [0, 0, 0, 0, 0, 0, 0, 0, 0, 0, 0, 0, 0, 0, 0, 0, 0, 0, 0, 0, 0, 0, 0, 0, 0, 0, 1, 0, 0, 0, 0, 0, 0, 0, 0, 0, 0, 0, 1, 0, 0, 0, 0, 0, 0, 0, 0, 0, 0, 0, 0, 0, 0, 0, 1, 0, 0, 0, 0, 0, 0, 0, 0, 0, 0, 0, 0, 0, 0, 0, 0, 0, 0, 0, 0, 0, 0, 0, 0, 0, 0, 0, 1, 1, 0, 0, 1, 0, 0, 0, 0, 0, 0, 0, 0, 0, 0, 0, 0, 0, 0, 0, 0, 0, 0, 1, 0, 0, 0, 0, 0, 0, 0, 0, 0, 0, 0, 0, 0, 0, 0, 0, 0, 0, 0, 0, 0, 0, 0, 0, 0]\n",
            "Disease: Drug Reaction\n",
            "Symptoms:  burning_micturition,  spotting_ urination,  skin_rash, itching,  stomach_pain\n",
            "Encoded sequence: [1, 0, 0, 0, 0, 0, 0, 0, 0, 0, 0, 0, 0, 0, 0, 0, 0, 0, 0, 0, 0, 0, 0, 0, 0, 0, 0, 0, 0, 0, 0, 0, 0, 0, 0, 0, 0, 0, 0, 0, 0, 1, 0, 0, 0, 0, 0, 0, 0, 0, 0, 0, 0, 0, 0, 0, 0, 0, 0, 0, 0, 0, 0, 0, 0, 0, 1, 1, 0, 0, 0, 0, 0, 0, 0, 0, 0, 0, 0, 0, 0, 0, 0, 0, 0, 0, 0, 0, 0, 0, 0, 0, 0, 0, 0, 0, 0, 0, 0, 0, 0, 0, 0, 0, 0, 1, 0, 0, 0, 0, 0, 0, 0, 0, 0, 0, 0, 0, 0, 0, 0, 0, 0, 0, 0, 0, 0, 0, 0, 0, 0]\n",
            "Disease: Drug Reaction\n",
            "Symptoms:  burning_micturition,  spotting_ urination, itching,  stomach_pain\n",
            "Encoded sequence: [1, 0, 0, 0, 0, 0, 0, 0, 0, 0, 0, 0, 0, 0, 0, 0, 0, 0, 0, 0, 0, 0, 0, 0, 0, 0, 0, 0, 0, 0, 0, 0, 0, 0, 0, 0, 0, 0, 0, 0, 0, 1, 0, 0, 0, 0, 0, 0, 0, 0, 0, 0, 0, 0, 0, 0, 0, 0, 0, 0, 0, 0, 0, 0, 0, 0, 1, 0, 0, 0, 0, 0, 0, 0, 0, 0, 0, 0, 0, 0, 0, 0, 0, 0, 0, 0, 0, 0, 0, 0, 0, 0, 0, 0, 0, 0, 0, 0, 0, 0, 0, 0, 0, 0, 0, 1, 0, 0, 0, 0, 0, 0, 0, 0, 0, 0, 0, 0, 0, 0, 0, 0, 0, 0, 0, 0, 0, 0, 0, 0, 0]\n",
            "Disease: Drug Reaction\n",
            "Symptoms:  burning_micturition,  spotting_ urination,  skin_rash, itching\n",
            "Encoded sequence: [1, 0, 0, 0, 0, 0, 0, 0, 0, 0, 0, 0, 0, 0, 0, 0, 0, 0, 0, 0, 0, 0, 0, 0, 0, 0, 0, 0, 0, 0, 0, 0, 0, 0, 0, 0, 0, 0, 0, 0, 0, 1, 0, 0, 0, 0, 0, 0, 0, 0, 0, 0, 0, 0, 0, 0, 0, 0, 0, 0, 0, 0, 0, 0, 0, 0, 0, 1, 0, 0, 0, 0, 0, 0, 0, 0, 0, 0, 0, 0, 0, 0, 0, 0, 0, 0, 0, 0, 0, 0, 0, 0, 0, 0, 0, 0, 0, 0, 0, 0, 0, 0, 0, 0, 0, 1, 0, 0, 0, 0, 0, 0, 0, 0, 0, 0, 0, 0, 0, 0, 0, 0, 0, 0, 0, 0, 0, 0, 0, 0, 0]\n",
            "Disease: Drug Reaction\n",
            "Symptoms:  spotting_ urination,  skin_rash, itching,  stomach_pain\n",
            "Encoded sequence: [1, 0, 0, 0, 0, 0, 0, 0, 0, 0, 0, 0, 0, 0, 0, 0, 0, 0, 0, 0, 0, 0, 0, 0, 0, 0, 0, 0, 0, 0, 0, 0, 0, 0, 0, 0, 0, 0, 0, 0, 0, 0, 0, 0, 0, 0, 0, 0, 0, 0, 0, 0, 0, 0, 0, 0, 0, 0, 0, 0, 0, 0, 0, 0, 0, 0, 1, 1, 0, 0, 0, 0, 0, 0, 0, 0, 0, 0, 0, 0, 0, 0, 0, 0, 0, 0, 0, 0, 0, 0, 0, 0, 0, 0, 0, 0, 0, 0, 0, 0, 0, 0, 0, 0, 0, 1, 0, 0, 0, 0, 0, 0, 0, 0, 0, 0, 0, 0, 0, 0, 0, 0, 0, 0, 0, 0, 0, 0, 0, 0, 0]\n",
            "Disease: Drug Reaction\n",
            "Symptoms:  burning_micturition,  skin_rash, itching,  stomach_pain\n",
            "Encoded sequence: [0, 0, 0, 0, 0, 0, 0, 0, 0, 0, 0, 0, 0, 0, 0, 0, 0, 0, 0, 0, 0, 0, 0, 0, 0, 0, 0, 0, 0, 0, 0, 0, 0, 0, 0, 0, 0, 0, 0, 0, 0, 1, 0, 0, 0, 0, 0, 0, 0, 0, 0, 0, 0, 0, 0, 0, 0, 0, 0, 0, 0, 0, 0, 0, 0, 0, 1, 1, 0, 0, 0, 0, 0, 0, 0, 0, 0, 0, 0, 0, 0, 0, 0, 0, 0, 0, 0, 0, 0, 0, 0, 0, 0, 0, 0, 0, 0, 0, 0, 0, 0, 0, 0, 0, 0, 1, 0, 0, 0, 0, 0, 0, 0, 0, 0, 0, 0, 0, 0, 0, 0, 0, 0, 0, 0, 0, 0, 0, 0, 0, 0]\n",
            "Disease: Drug Reaction\n",
            "Symptoms:  burning_micturition,  spotting_ urination,  skin_rash,  stomach_pain\n",
            "Encoded sequence: [1, 0, 0, 0, 0, 0, 0, 0, 0, 0, 0, 0, 0, 0, 0, 0, 0, 0, 0, 0, 0, 0, 0, 0, 0, 0, 0, 0, 0, 0, 0, 0, 0, 0, 0, 0, 0, 0, 0, 0, 0, 1, 0, 0, 0, 0, 0, 0, 0, 0, 0, 0, 0, 0, 0, 0, 0, 0, 0, 0, 0, 0, 0, 0, 0, 0, 1, 1, 0, 0, 0, 0, 0, 0, 0, 0, 0, 0, 0, 0, 0, 0, 0, 0, 0, 0, 0, 0, 0, 0, 0, 0, 0, 0, 0, 0, 0, 0, 0, 0, 0, 0, 0, 0, 0, 0, 0, 0, 0, 0, 0, 0, 0, 0, 0, 0, 0, 0, 0, 0, 0, 0, 0, 0, 0, 0, 0, 0, 0, 0, 0]\n",
            "Disease: Drug Reaction\n",
            "Symptoms:  burning_micturition,  spotting_ urination, itching,  stomach_pain\n",
            "Encoded sequence: [1, 0, 0, 0, 0, 0, 0, 0, 0, 0, 0, 0, 0, 0, 0, 0, 0, 0, 0, 0, 0, 0, 0, 0, 0, 0, 0, 0, 0, 0, 0, 0, 0, 0, 0, 0, 0, 0, 0, 0, 0, 1, 0, 0, 0, 0, 0, 0, 0, 0, 0, 0, 0, 0, 0, 0, 0, 0, 0, 0, 0, 0, 0, 0, 0, 0, 1, 0, 0, 0, 0, 0, 0, 0, 0, 0, 0, 0, 0, 0, 0, 0, 0, 0, 0, 0, 0, 0, 0, 0, 0, 0, 0, 0, 0, 0, 0, 0, 0, 0, 0, 0, 0, 0, 0, 1, 0, 0, 0, 0, 0, 0, 0, 0, 0, 0, 0, 0, 0, 0, 0, 0, 0, 0, 0, 0, 0, 0, 0, 0, 0]\n",
            "Disease: Drug Reaction\n",
            "Symptoms:  burning_micturition,  spotting_ urination,  skin_rash, itching\n",
            "Encoded sequence: [1, 0, 0, 0, 0, 0, 0, 0, 0, 0, 0, 0, 0, 0, 0, 0, 0, 0, 0, 0, 0, 0, 0, 0, 0, 0, 0, 0, 0, 0, 0, 0, 0, 0, 0, 0, 0, 0, 0, 0, 0, 1, 0, 0, 0, 0, 0, 0, 0, 0, 0, 0, 0, 0, 0, 0, 0, 0, 0, 0, 0, 0, 0, 0, 0, 0, 0, 1, 0, 0, 0, 0, 0, 0, 0, 0, 0, 0, 0, 0, 0, 0, 0, 0, 0, 0, 0, 0, 0, 0, 0, 0, 0, 0, 0, 0, 0, 0, 0, 0, 0, 0, 0, 0, 0, 1, 0, 0, 0, 0, 0, 0, 0, 0, 0, 0, 0, 0, 0, 0, 0, 0, 0, 0, 0, 0, 0, 0, 0, 0, 0]\n",
            "Disease: Drug Reaction\n",
            "Symptoms:  spotting_ urination,  skin_rash, itching,  stomach_pain\n",
            "Encoded sequence: [1, 0, 0, 0, 0, 0, 0, 0, 0, 0, 0, 0, 0, 0, 0, 0, 0, 0, 0, 0, 0, 0, 0, 0, 0, 0, 0, 0, 0, 0, 0, 0, 0, 0, 0, 0, 0, 0, 0, 0, 0, 0, 0, 0, 0, 0, 0, 0, 0, 0, 0, 0, 0, 0, 0, 0, 0, 0, 0, 0, 0, 0, 0, 0, 0, 0, 1, 1, 0, 0, 0, 0, 0, 0, 0, 0, 0, 0, 0, 0, 0, 0, 0, 0, 0, 0, 0, 0, 0, 0, 0, 0, 0, 0, 0, 0, 0, 0, 0, 0, 0, 0, 0, 0, 0, 1, 0, 0, 0, 0, 0, 0, 0, 0, 0, 0, 0, 0, 0, 0, 0, 0, 0, 0, 0, 0, 0, 0, 0, 0, 0]\n",
            "Disease: Drug Reaction\n",
            "Symptoms:  burning_micturition,  skin_rash, itching,  stomach_pain\n",
            "Encoded sequence: [0, 0, 0, 0, 0, 0, 0, 0, 0, 0, 0, 0, 0, 0, 0, 0, 0, 0, 0, 0, 0, 0, 0, 0, 0, 0, 0, 0, 0, 0, 0, 0, 0, 0, 0, 0, 0, 0, 0, 0, 0, 1, 0, 0, 0, 0, 0, 0, 0, 0, 0, 0, 0, 0, 0, 0, 0, 0, 0, 0, 0, 0, 0, 0, 0, 0, 1, 1, 0, 0, 0, 0, 0, 0, 0, 0, 0, 0, 0, 0, 0, 0, 0, 0, 0, 0, 0, 0, 0, 0, 0, 0, 0, 0, 0, 0, 0, 0, 0, 0, 0, 0, 0, 0, 0, 1, 0, 0, 0, 0, 0, 0, 0, 0, 0, 0, 0, 0, 0, 0, 0, 0, 0, 0, 0, 0, 0, 0, 0, 0, 0]\n"
          ]
        }
      ]
    },
    {
      "cell_type": "code",
      "source": [
        "import torch\n",
        "import torch.nn as nn\n",
        "import torch.optim as optim\n",
        "from torch.utils.data import DataLoader, TensorDataset, random_split\n",
        "\n",
        "X_tensor = torch.tensor(X.values, dtype=torch.float32)\n",
        "y_tensor = torch.tensor(y.values, dtype=torch.float32)\n",
        "\n",
        "dataset = TensorDataset(X_tensor, y_tensor)\n",
        "\n",
        "train_size = int(0.8 * len(dataset))\n",
        "test_size = len(dataset) - train_size\n",
        "train_dataset, test_dataset = random_split(dataset, [train_size, test_size])\n",
        "\n",
        "train_loader = DataLoader(train_dataset, batch_size=32, shuffle=True)\n",
        "test_loader = DataLoader(test_dataset, batch_size=32, shuffle=False)\n",
        "\n",
        "class MultiLabelNN(nn.Module):\n",
        "    def __init__(self, input_size, hidden_size, output_size):\n",
        "        super(MultiLabelNN, self).__init__()\n",
        "        self.fc1 = nn.Linear(input_size, hidden_size)\n",
        "        self.fc2 = nn.Linear(hidden_size, hidden_size)\n",
        "        self.fc3 = nn.Linear(hidden_size, output_size)\n",
        "\n",
        "    def forward(self, x):\n",
        "        x = torch.relu(self.fc1(x))\n",
        "        x = torch.relu(self.fc2(x))\n",
        "        x = self.fc3(x)\n",
        "        return x\n",
        "\n",
        "input_size = X_tensor.shape[1]\n",
        "hidden_size = 128\n",
        "output_size = y_tensor.shape[1]\n",
        "model = MultiLabelNN(input_size, hidden_size, output_size)\n",
        "\n",
        "criterion = nn.BCEWithLogitsLoss()\n",
        "optimizer = optim.Adam(model.parameters(), lr=0.001)\n",
        "\n",
        "num_epochs = 10\n",
        "for epoch in range(num_epochs):\n",
        "    model.train()\n",
        "    running_loss = 0.0\n",
        "\n",
        "    for batch_X, batch_y in train_loader:\n",
        "        optimizer.zero_grad()\n",
        "        outputs = model(batch_X)\n",
        "        loss = criterion(outputs, batch_y)\n",
        "        loss.backward()\n",
        "        optimizer.step()\n",
        "        running_loss += loss.item()\n",
        "\n",
        "    print(f\"Epoch [{epoch+1}/{num_epochs}], Loss: {running_loss/len(train_loader):.4f}\")\n",
        "\n",
        "model.eval()\n",
        "y_pred = []\n",
        "y_true = []\n",
        "\n",
        "with torch.no_grad():\n",
        "    for batch_X, batch_y in test_loader:\n",
        "        outputs = model(batch_X)\n",
        "        predicted = torch.sigmoid(outputs) > 0.5\n",
        "        y_pred.extend(predicted.cpu().numpy())\n",
        "        y_true.extend(batch_y.cpu().numpy())\n",
        "\n",
        "y_pred_tensor = torch.tensor(y_pred, dtype=torch.float32)\n",
        "y_true_tensor = torch.tensor(y_true, dtype=torch.float32)\n",
        "correct = (y_pred_tensor == y_true_tensor).float().sum()\n",
        "total = y_true_tensor.numel()\n",
        "accuracy = correct / total\n",
        "print(f\"Test Accuracy: {accuracy * 100:.2f}%\")\n",
        "\n",
        "torch.save(model.state_dict(), '/content/data/multi_label_nn_model.pth')"
      ],
      "metadata": {
        "colab": {
          "base_uri": "https://localhost:8080/"
        },
        "id": "nVw4rPLqMCuq",
        "outputId": "831fac4e-52b1-47c1-8a19-165b87b29a74"
      },
      "execution_count": null,
      "outputs": [
        {
          "output_type": "stream",
          "name": "stdout",
          "text": [
            "Epoch [1/10], Loss: 0.2269\n",
            "Epoch [2/10], Loss: 0.0957\n",
            "Epoch [3/10], Loss: 0.0364\n",
            "Epoch [4/10], Loss: 0.0072\n",
            "Epoch [5/10], Loss: 0.0021\n",
            "Epoch [6/10], Loss: 0.0010\n",
            "Epoch [7/10], Loss: 0.0005\n",
            "Epoch [8/10], Loss: 0.0004\n",
            "Epoch [9/10], Loss: 0.0002\n",
            "Epoch [10/10], Loss: 0.0002\n",
            "Test Accuracy: 100.00%\n"
          ]
        }
      ]
    },
    {
      "cell_type": "code",
      "source": [
        "\n",
        "\n",
        "\n"
      ],
      "metadata": {
        "id": "tMEAgBWKg6d4"
      },
      "execution_count": null,
      "outputs": []
    }
  ]
}