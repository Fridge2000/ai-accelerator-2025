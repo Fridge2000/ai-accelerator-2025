{
  "nbformat": 4,
  "nbformat_minor": 0,
  "metadata": {
    "colab": {
      "provenance": [],
      "include_colab_link": true
    },
    "kernelspec": {
      "name": "python3",
      "display_name": "Python 3"
    },
    "language_info": {
      "name": "python"
    }
  },
  "cells": [
    {
      "cell_type": "markdown",
      "metadata": {
        "id": "view-in-github",
        "colab_type": "text"
      },
      "source": [
        "<a href=\"https://colab.research.google.com/github/Fridge2000/ai-accelerator-2025/blob/main/Medicine_Predictor.ipynb\" target=\"_parent\"><img src=\"https://colab.research.google.com/assets/colab-badge.svg\" alt=\"Open In Colab\"/></a>"
      ]
    },
    {
      "cell_type": "code",
      "execution_count": null,
      "metadata": {
        "id": "lNrvwemb32Ti"
      },
      "outputs": [],
      "source": [
        "from google.colab import auth\n",
        "import zipfile\n",
        "import os\n",
        "import pandas as pd"
      ]
    },
    {
      "cell_type": "code",
      "source": [
        "auth.authenticate_user()\n",
        "\n",
        "!gcloud config set project medication-predictor\n",
        "\n",
        "!gsutil cp gs://medication-dataset/disease_symptom_prediction_dataset.zip /content/"
      ],
      "metadata": {
        "id": "dcV-pzvmD0PH",
        "colab": {
          "base_uri": "https://localhost:8080/"
        },
        "outputId": "71515649-77e9-4366-dcc0-29dbe1befaa1"
      },
      "execution_count": null,
      "outputs": [
        {
          "output_type": "stream",
          "name": "stdout",
          "text": [
            "\u001b[1;33mWARNING:\u001b[0m [phamgb1@gmail.com] does not have permission to access projects instance [medication-predictor] (or it may not exist): The caller does not have permission. This command is authenticated as phamgb1@gmail.com which is the active account specified by the [core/account] property\n",
            "Are you sure you wish to set property [core/project] to medication-predictor?\n",
            "\n",
            "Do you want to continue (Y/n)?  Y\n",
            "\n",
            "Updated property [core/project].\n",
            "Copying gs://medication-dataset/disease_symptom_prediction_dataset.zip...\n",
            "/ [1 files][ 30.0 KiB/ 30.0 KiB]                                                \n",
            "Operation completed over 1 objects/30.0 KiB.                                     \n"
          ]
        }
      ]
    },
    {
      "cell_type": "code",
      "source": [
        "!ls -lh /content/"
      ],
      "metadata": {
        "colab": {
          "base_uri": "https://localhost:8080/"
        },
        "id": "0ZjwbLgsD4ux",
        "outputId": "4694d971-9e26-4f0b-e8a5-3ae3f9f75ce2"
      },
      "execution_count": null,
      "outputs": [
        {
          "output_type": "stream",
          "name": "stdout",
          "text": [
            "total 40K\n",
            "drwxr-xr-x 2 root root 4.0K Mar 22 16:23 data\n",
            "-rw-r--r-- 1 root root  31K Mar 22 17:11 disease_symptom_prediction_dataset.zip\n",
            "drwxr-xr-x 1 root root 4.0K Mar 20 13:31 sample_data\n"
          ]
        }
      ]
    },
    {
      "cell_type": "code",
      "source": [
        "zip_path = \"/content/disease_symptom_prediction_dataset.zip\"\n",
        "extract_to = \"/content/data/\"\n",
        "\n",
        "# Create directory if it doesn't exist\n",
        "os.makedirs(extract_to, exist_ok=True)\n",
        "\n",
        "# Unzip the file\n",
        "with zipfile.ZipFile(zip_path, \"r\") as zip_ref:\n",
        "    zip_ref.extractall(extract_to)\n",
        "\n",
        "print(\"Extraction complete! Files are in:\", extract_to)\n",
        "!ls -lh /content/data"
      ],
      "metadata": {
        "id": "2xYpi7J4ENKG",
        "colab": {
          "base_uri": "https://localhost:8080/"
        },
        "outputId": "8317d5b0-c1ad-44d6-9afb-88accd47dd2d"
      },
      "execution_count": null,
      "outputs": [
        {
          "output_type": "stream",
          "name": "stdout",
          "text": [
            "Extraction complete! Files are in: /content/data/\n",
            "total 16M\n",
            "-rw-r--r-- 1 root root 618K Mar 22 17:11 dataset.csv\n",
            "-rw-r--r-- 1 root root  12M Mar 22 17:07 encoded_dataset.csv\n",
            "-rw-r--r-- 1 root root  11K Mar 22 17:11 symptom_Description.csv\n",
            "-rw-r--r-- 1 root root 3.5K Mar 22 17:11 symptom_precaution.csv\n",
            "-rw-r--r-- 1 root root 2.3K Mar 22 17:11 Symptom-severity.csv\n",
            "-rw-r--r-- 1 root root 3.7M Mar 22 17:07 transformed_dataset.csv\n"
          ]
        }
      ]
    },
    {
      "cell_type": "code",
      "source": [
        "dataset_df = pd.read_csv(\"/content/data/dataset.csv\")\n",
        "symptom_Description_df = pd.read_csv(\"/content/data/symptom_Description.csv\")\n",
        "symptom_precaution_df = pd.read_csv(\"/content/data/symptom_precaution.csv\")\n",
        "Symptom_severity_df = pd.read_csv(\"/content/data/Symptom-severity.csv\")"
      ],
      "metadata": {
        "id": "9P7C7QR8HR5I"
      },
      "execution_count": null,
      "outputs": []
    },
    {
      "cell_type": "code",
      "source": [
        "print(dataset_df.head())"
      ],
      "metadata": {
        "colab": {
          "base_uri": "https://localhost:8080/"
        },
        "id": "CVcOYgYJIDFP",
        "outputId": "d86635ed-b505-42bd-fea6-9de3c69b135c"
      },
      "execution_count": null,
      "outputs": [
        {
          "output_type": "stream",
          "name": "stdout",
          "text": [
            "            Disease   Symptom_1              Symptom_2              Symptom_3  \\\n",
            "0  Fungal infection     itching              skin_rash   nodal_skin_eruptions   \n",
            "1  Fungal infection   skin_rash   nodal_skin_eruptions    dischromic _patches   \n",
            "2  Fungal infection     itching   nodal_skin_eruptions    dischromic _patches   \n",
            "3  Fungal infection     itching              skin_rash    dischromic _patches   \n",
            "4  Fungal infection     itching              skin_rash   nodal_skin_eruptions   \n",
            "\n",
            "              Symptom_4 Symptom_5 Symptom_6 Symptom_7 Symptom_8 Symptom_9  \\\n",
            "0   dischromic _patches       NaN       NaN       NaN       NaN       NaN   \n",
            "1                   NaN       NaN       NaN       NaN       NaN       NaN   \n",
            "2                   NaN       NaN       NaN       NaN       NaN       NaN   \n",
            "3                   NaN       NaN       NaN       NaN       NaN       NaN   \n",
            "4                   NaN       NaN       NaN       NaN       NaN       NaN   \n",
            "\n",
            "  Symptom_10 Symptom_11 Symptom_12 Symptom_13 Symptom_14 Symptom_15  \\\n",
            "0        NaN        NaN        NaN        NaN        NaN        NaN   \n",
            "1        NaN        NaN        NaN        NaN        NaN        NaN   \n",
            "2        NaN        NaN        NaN        NaN        NaN        NaN   \n",
            "3        NaN        NaN        NaN        NaN        NaN        NaN   \n",
            "4        NaN        NaN        NaN        NaN        NaN        NaN   \n",
            "\n",
            "  Symptom_16 Symptom_17  \n",
            "0        NaN        NaN  \n",
            "1        NaN        NaN  \n",
            "2        NaN        NaN  \n",
            "3        NaN        NaN  \n",
            "4        NaN        NaN  \n"
          ]
        }
      ]
    },
    {
      "cell_type": "code",
      "source": [
        "print(len(dataset_df[\"Disease\"].unique())) # Number of unique values in the target column"
      ],
      "metadata": {
        "id": "bGX66U8pImez",
        "colab": {
          "base_uri": "https://localhost:8080/"
        },
        "outputId": "dfdd40cb-4699-4e27-dd93-39e782dd5a0e"
      },
      "execution_count": null,
      "outputs": [
        {
          "output_type": "stream",
          "name": "stdout",
          "text": [
            "41\n"
          ]
        }
      ]
    },
    {
      "cell_type": "code",
      "source": [
        "print(\"Symptom 1 Unique Symptoms: \" + str(len(dataset_df[\"Symptom_1\"].unique())))\n",
        "print(\"Symptom 2 Unique Symptoms: \" + str(len(dataset_df[\"Symptom_2\"].unique())))\n",
        "print(\"Symptom 3 Unique Symptoms: \" + str(len(dataset_df[\"Symptom_3\"].unique())))\n",
        "print(\"Symptom 4 Unique Symptoms: \" + str(len(dataset_df[\"Symptom_4\"].unique())))\n",
        "print(\"Symptom 5 Unique Symptoms: \" + str(len(dataset_df[\"Symptom_5\"].unique())))\n",
        "print(\"Symptom 6 Unique Symptoms: \" + str(len(dataset_df[\"Symptom_6\"].unique())))\n",
        "print(\"Symptom 7 Unique Symptoms: \" + str(len(dataset_df[\"Symptom_7\"].unique())))\n",
        "print(\"Symptom 8 Unique Symptoms: \" + str(len(dataset_df[\"Symptom_8\"].unique())))\n",
        "print(\"Symptom 9 Unique Symptoms: \" + str(len(dataset_df[\"Symptom_9\"].unique())))\n",
        "print(\"Symptom 10 Unique Symptoms: \" + str(len(dataset_df[\"Symptom_10\"].unique())))\n",
        "print(\"Symptom 11 Unique Symptoms: \" + str(len(dataset_df[\"Symptom_11\"].unique())))\n",
        "print(\"Symptom 12 Unique Symptoms: \" + str(len(dataset_df[\"Symptom_12\"].unique())))\n",
        "print(\"Symptom 13 Unique Symptoms: \" + str(len(dataset_df[\"Symptom_13\"].unique())))\n",
        "print(\"Symptom 14 Unique Symptoms: \" + str(len(dataset_df[\"Symptom_14\"].unique())))\n",
        "print(\"Symptom 15 Unique Symptoms: \" + str(len(dataset_df[\"Symptom_15\"].unique())))\n",
        "print(\"Symptom 16 Unique Symptoms: \" + str(len(dataset_df[\"Symptom_16\"].unique())))\n",
        "print(\"Symptom 17 Unique Symptoms: \" + str(len(dataset_df[\"Symptom_17\"].unique())))"
      ],
      "metadata": {
        "colab": {
          "base_uri": "https://localhost:8080/"
        },
        "id": "DKtSnVjifpeg",
        "outputId": "c345d7ce-2f8d-412f-edec-1b1c44de8bd3"
      },
      "execution_count": null,
      "outputs": [
        {
          "output_type": "stream",
          "name": "stdout",
          "text": [
            "Symptom 1 Unique Symptoms: 34\n",
            "Symptom 2 Unique Symptoms: 48\n",
            "Symptom 3 Unique Symptoms: 54\n",
            "Symptom 4 Unique Symptoms: 51\n",
            "Symptom 5 Unique Symptoms: 39\n",
            "Symptom 6 Unique Symptoms: 33\n",
            "Symptom 7 Unique Symptoms: 27\n",
            "Symptom 8 Unique Symptoms: 22\n",
            "Symptom 9 Unique Symptoms: 23\n",
            "Symptom 10 Unique Symptoms: 22\n",
            "Symptom 11 Unique Symptoms: 19\n",
            "Symptom 12 Unique Symptoms: 12\n",
            "Symptom 13 Unique Symptoms: 9\n",
            "Symptom 14 Unique Symptoms: 5\n",
            "Symptom 15 Unique Symptoms: 4\n",
            "Symptom 16 Unique Symptoms: 4\n",
            "Symptom 17 Unique Symptoms: 2\n"
          ]
        }
      ]
    },
    {
      "cell_type": "code",
      "source": [
        "my_list = list(set(list(dataset_df[\"Symptom_1\"].dropna().unique()) + list(dataset_df[\"Symptom_2\"].dropna().unique()) + list(dataset_df[\"Symptom_3\"].dropna().unique()) + list(dataset_df[\"Symptom_4\"].dropna().unique()) + list(dataset_df[\"Symptom_5\"].dropna().unique()) + list(dataset_df[\"Symptom_6\"].dropna().unique()) + list(dataset_df[\"Symptom_7\"].dropna().unique()) + list(dataset_df[\"Symptom_8\"].dropna().unique()) + list(dataset_df[\"Symptom_9\"].dropna().unique()) + list(dataset_df[\"Symptom_10\"].dropna().unique()) + list(dataset_df[\"Symptom_11\"].dropna().unique()) + list(dataset_df[\"Symptom_12\"].dropna().unique()) + list(dataset_df[\"Symptom_13\"].dropna().unique()) + list(dataset_df[\"Symptom_14\"].dropna().unique()) + list(dataset_df[\"Symptom_15\"].dropna().unique()) + list(dataset_df[\"Symptom_16\"].dropna().unique()) + list(dataset_df[\"Symptom_17\"].dropna().unique())))\n",
        "\n",
        "print(my_list)\n",
        "print(len(my_list))\n",
        "print(len(dataset_df[\"Disease\"]))"
      ],
      "metadata": {
        "id": "T0S0qPQS1sXQ",
        "colab": {
          "base_uri": "https://localhost:8080/"
        },
        "outputId": "c528d1b8-d890-4c32-86be-2fa78e22e831"
      },
      "execution_count": null,
      "outputs": [
        {
          "output_type": "stream",
          "name": "stdout",
          "text": [
            "[' pain_in_anal_region', ' indigestion', ' bruising', ' malaise', ' extra_marital_contacts', ' belly_pain', ' fluid_overload', ' breathlessness', ' silver_like_dusting', ' headache', ' patches_in_throat', ' muscle_pain', ' yellow_urine', ' blurred_and_distorted_vision', ' skin_rash', ' abdominal_pain', ' movement_stiffness', ' constipation', ' swollen_blood_vessels', ' anxiety', ' yellowing_of_eyes', ' unsteadiness', ' phlegm', ' blackheads', ' cramps', ' chills', ' small_dents_in_nails', ' blister', ' brittle_nails', ' hip_joint_pain', ' yellowish_skin', ' weakness_in_limbs', ' coma', ' visual_disturbances', ' watering_from_eyes', ' red_spots_over_body', ' vomiting', ' enlarged_thyroid', ' stomach_pain', ' sunken_eyes', ' skin_peeling', ' red_sore_around_nose', ' dark_urine', ' painful_walking', ' chest_pain', ' bladder_discomfort', ' increased_appetite', ' restlessness', ' toxic_look_(typhos)', ' swollen_extremeties', ' lethargy', ' congestion', ' dehydration', ' distention_of_abdomen', ' history_of_alcohol_consumption', ' sinus_pressure', ' receiving_unsterile_injections', ' sweating', ' back_pain', ' continuous_sneezing', ' throat_irritation', ' weakness_of_one_body_side', ' acute_liver_failure', ' nausea', ' obesity', ' ulcers_on_tongue', ' slurred_speech', ' irritability', ' pus_filled_pimples', ' dizziness', ' joint_pain', ' swelling_joints', ' spinning_movements', ' altered_sensorium', ' scurring', ' nodal_skin_eruptions', ' knee_pain', ' fast_heart_rate', ' loss_of_smell', ' redness_of_eyes', ' cough', ' shivering', ' continuous_feel_of_urine', ' family_history', ' blood_in_sputum', ' pain_behind_the_eyes', ' lack_of_concentration', ' mild_fever', ' muscle_weakness', ' high_fever', ' stomach_bleeding', ' prominent_veins_on_calf', ' diarrhoea', ' abnormal_menstruation', ' dischromic _patches', ' mood_swings', ' palpitations', ' pain_during_bowel_movements', ' weight_loss', ' inflammatory_nails', ' receiving_blood_transfusion', ' cold_hands_and_feets', ' polyuria', ' weight_gain', ' muscle_wasting', ' fatigue', ' loss_of_appetite', ' yellow_crust_ooze', ' neck_pain', ' acidity', ' swollen_legs', ' burning_micturition', ' passage_of_gases', ' swelled_lymph_nodes', ' swelling_of_stomach', ' foul_smell_of urine', 'itching', ' stiff_neck', ' bloody_stool', ' puffy_face_and_eyes', ' irritation_in_anus', ' rusty_sputum', ' excessive_hunger', ' irregular_sugar_level', ' drying_and_tingling_lips', ' runny_nose', ' depression', ' mucoid_sputum', ' spotting_ urination', ' loss_of_balance', ' internal_itching']\n",
            "131\n",
            "4920\n"
          ]
        }
      ]
    },
    {
      "cell_type": "code",
      "source": [],
      "metadata": {
        "id": "SMCS58mqkEf2"
      },
      "execution_count": null,
      "outputs": []
    },
    {
      "cell_type": "code",
      "source": [
        "print(dataset_df.columns)\n",
        "\n",
        "# Check data types\n",
        "print(dataset_df.dtypes)\n",
        "\n",
        "# Check for missing values\n",
        "print(dataset_df.isnull().sum())"
      ],
      "metadata": {
        "id": "jOtpdCeokftS",
        "colab": {
          "base_uri": "https://localhost:8080/"
        },
        "outputId": "59587a31-1fa4-4f0c-f6ae-08234cdafe51"
      },
      "execution_count": null,
      "outputs": [
        {
          "output_type": "stream",
          "name": "stdout",
          "text": [
            "Index(['Disease', 'Symptom_1', 'Symptom_2', 'Symptom_3', 'Symptom_4',\n",
            "       'Symptom_5', 'Symptom_6', 'Symptom_7', 'Symptom_8', 'Symptom_9',\n",
            "       'Symptom_10', 'Symptom_11', 'Symptom_12', 'Symptom_13', 'Symptom_14',\n",
            "       'Symptom_15', 'Symptom_16', 'Symptom_17'],\n",
            "      dtype='object')\n",
            "Disease       object\n",
            "Symptom_1     object\n",
            "Symptom_2     object\n",
            "Symptom_3     object\n",
            "Symptom_4     object\n",
            "Symptom_5     object\n",
            "Symptom_6     object\n",
            "Symptom_7     object\n",
            "Symptom_8     object\n",
            "Symptom_9     object\n",
            "Symptom_10    object\n",
            "Symptom_11    object\n",
            "Symptom_12    object\n",
            "Symptom_13    object\n",
            "Symptom_14    object\n",
            "Symptom_15    object\n",
            "Symptom_16    object\n",
            "Symptom_17    object\n",
            "dtype: object\n",
            "Disease          0\n",
            "Symptom_1        0\n",
            "Symptom_2        0\n",
            "Symptom_3        0\n",
            "Symptom_4      348\n",
            "Symptom_5     1206\n",
            "Symptom_6     1986\n",
            "Symptom_7     2652\n",
            "Symptom_8     2976\n",
            "Symptom_9     3228\n",
            "Symptom_10    3408\n",
            "Symptom_11    3726\n",
            "Symptom_12    4176\n",
            "Symptom_13    4416\n",
            "Symptom_14    4614\n",
            "Symptom_15    4680\n",
            "Symptom_16    4728\n",
            "Symptom_17    4848\n",
            "dtype: int64\n"
          ]
        }
      ]
    },
    {
      "cell_type": "markdown",
      "source": [],
      "metadata": {
        "id": "gB0zwLXmg8aw"
      }
    },
    {
      "cell_type": "code",
      "source": [
        "categorical_columns = dataset_df.select_dtypes(include=['object', 'category']).columns.tolist()\n",
        "print(\"Categorical columns:\", categorical_columns)\n",
        "\n",
        "encoded_df = pd.get_dummies(dataset_df, columns=categorical_columns, drop_first=True)\n",
        "\n",
        "print(encoded_df.head())\n",
        "\n",
        "encoded_df.to_csv('/content/data/encoded_dataset.csv', index=False)\n",
        "\n",
        "\n",
        "print(encoded_df.head())"
      ],
      "metadata": {
        "colab": {
          "base_uri": "https://localhost:8080/"
        },
        "id": "sVgPEeJNL99m",
        "outputId": "40af8eaf-3dd2-4614-ec61-6797adcb9b6b"
      },
      "execution_count": null,
      "outputs": [
        {
          "output_type": "stream",
          "name": "stdout",
          "text": [
            "Categorical columns: ['Disease', 'Symptom_1', 'Symptom_2', 'Symptom_3', 'Symptom_4', 'Symptom_5', 'Symptom_6', 'Symptom_7', 'Symptom_8', 'Symptom_9', 'Symptom_10', 'Symptom_11', 'Symptom_12', 'Symptom_13', 'Symptom_14', 'Symptom_15', 'Symptom_16', 'Symptom_17']\n",
            "   Disease_AIDS  Disease_Acne  Disease_Alcoholic hepatitis  Disease_Allergy  \\\n",
            "0         False         False                        False            False   \n",
            "1         False         False                        False            False   \n",
            "2         False         False                        False            False   \n",
            "3         False         False                        False            False   \n",
            "4         False         False                        False            False   \n",
            "\n",
            "   Disease_Arthritis  Disease_Bronchial Asthma  Disease_Cervical spondylosis  \\\n",
            "0              False                     False                         False   \n",
            "1              False                     False                         False   \n",
            "2              False                     False                         False   \n",
            "3              False                     False                         False   \n",
            "4              False                     False                         False   \n",
            "\n",
            "   Disease_Chicken pox  Disease_Chronic cholestasis  Disease_Common Cold  ...  \\\n",
            "0                False                        False                False  ...   \n",
            "1                False                        False                False  ...   \n",
            "2                False                        False                False  ...   \n",
            "3                False                        False                False  ...   \n",
            "4                False                        False                False  ...   \n",
            "\n",
            "   Symptom_13_ red_spots_over_body  Symptom_13_ runny_nose  \\\n",
            "0                            False                   False   \n",
            "1                            False                   False   \n",
            "2                            False                   False   \n",
            "3                            False                   False   \n",
            "4                            False                   False   \n",
            "\n",
            "   Symptom_13_ stomach_bleeding  Symptom_14_ congestion  Symptom_14_ phlegm  \\\n",
            "0                         False                   False               False   \n",
            "1                         False                   False               False   \n",
            "2                         False                   False               False   \n",
            "3                         False                   False               False   \n",
            "4                         False                   False               False   \n",
            "\n",
            "   Symptom_14_ red_spots_over_body  Symptom_15_ chest_pain  \\\n",
            "0                            False                   False   \n",
            "1                            False                   False   \n",
            "2                            False                   False   \n",
            "3                            False                   False   \n",
            "4                            False                   False   \n",
            "\n",
            "   Symptom_15_ loss_of_smell  Symptom_16_ loss_of_smell  \\\n",
            "0                      False                      False   \n",
            "1                      False                      False   \n",
            "2                      False                      False   \n",
            "3                      False                      False   \n",
            "4                      False                      False   \n",
            "\n",
            "   Symptom_16_ muscle_pain  \n",
            "0                    False  \n",
            "1                    False  \n",
            "2                    False  \n",
            "3                    False  \n",
            "4                    False  \n",
            "\n",
            "[5 rows x 417 columns]\n",
            "   Disease_AIDS  Disease_Acne  Disease_Alcoholic hepatitis  Disease_Allergy  \\\n",
            "0         False         False                        False            False   \n",
            "1         False         False                        False            False   \n",
            "2         False         False                        False            False   \n",
            "3         False         False                        False            False   \n",
            "4         False         False                        False            False   \n",
            "\n",
            "   Disease_Arthritis  Disease_Bronchial Asthma  Disease_Cervical spondylosis  \\\n",
            "0              False                     False                         False   \n",
            "1              False                     False                         False   \n",
            "2              False                     False                         False   \n",
            "3              False                     False                         False   \n",
            "4              False                     False                         False   \n",
            "\n",
            "   Disease_Chicken pox  Disease_Chronic cholestasis  Disease_Common Cold  ...  \\\n",
            "0                False                        False                False  ...   \n",
            "1                False                        False                False  ...   \n",
            "2                False                        False                False  ...   \n",
            "3                False                        False                False  ...   \n",
            "4                False                        False                False  ...   \n",
            "\n",
            "   Symptom_13_ red_spots_over_body  Symptom_13_ runny_nose  \\\n",
            "0                            False                   False   \n",
            "1                            False                   False   \n",
            "2                            False                   False   \n",
            "3                            False                   False   \n",
            "4                            False                   False   \n",
            "\n",
            "   Symptom_13_ stomach_bleeding  Symptom_14_ congestion  Symptom_14_ phlegm  \\\n",
            "0                         False                   False               False   \n",
            "1                         False                   False               False   \n",
            "2                         False                   False               False   \n",
            "3                         False                   False               False   \n",
            "4                         False                   False               False   \n",
            "\n",
            "   Symptom_14_ red_spots_over_body  Symptom_15_ chest_pain  \\\n",
            "0                            False                   False   \n",
            "1                            False                   False   \n",
            "2                            False                   False   \n",
            "3                            False                   False   \n",
            "4                            False                   False   \n",
            "\n",
            "   Symptom_15_ loss_of_smell  Symptom_16_ loss_of_smell  \\\n",
            "0                      False                      False   \n",
            "1                      False                      False   \n",
            "2                      False                      False   \n",
            "3                      False                      False   \n",
            "4                      False                      False   \n",
            "\n",
            "   Symptom_16_ muscle_pain  \n",
            "0                    False  \n",
            "1                    False  \n",
            "2                    False  \n",
            "3                    False  \n",
            "4                    False  \n",
            "\n",
            "[5 rows x 417 columns]\n"
          ]
        }
      ]
    },
    {
      "cell_type": "code",
      "source": [
        "import pandas as pd\n",
        "\n",
        "# Load the dataset\n",
        "df = pd.read_csv('/content/data/encoded_dataset.csv')\n",
        "\n",
        "# Identify disease columns (assumption: they are the first N columns)\n",
        "disease_columns = [col for col in df.columns if \"Disease_\" in col]\n",
        "symptom_columns = [col for col in df.columns if col not in disease_columns]\n",
        "\n",
        "# Convert one-hot encoded diseases to a single column\n",
        "df[\"Disease\"] = df[disease_columns].idxmax(axis=1).str.replace(\"Disease_\", \"\")\n",
        "\n",
        "# Drop the original disease columns\n",
        "df = df.drop(columns=disease_columns)\n",
        "\n",
        "# Convert boolean values to integers (0/1)\n",
        "df[symptom_columns] = df[symptom_columns].astype(int)\n",
        "\n",
        "# Reorder columns: Disease first, then symptoms\n",
        "df = df[[\"Disease\"] + symptom_columns]\n",
        "\n",
        "# Save the transformed dataset\n",
        "df.to_csv('/content/data/transformed_dataset.csv', index=False)\n",
        "\n",
        "# Display the df\n",
        "print(df)\n"
      ],
      "metadata": {
        "colab": {
          "base_uri": "https://localhost:8080/"
        },
        "id": "y1eUM6M2TH7D",
        "outputId": "74527e50-4a53-44a4-9e28-7ede1e60505f"
      },
      "execution_count": null,
      "outputs": [
        {
          "output_type": "stream",
          "name": "stdout",
          "text": [
            "                      Disease  Symptom_1_ back_pain  \\\n",
            "0            Fungal infection                     0   \n",
            "1            Fungal infection                     0   \n",
            "2            Fungal infection                     0   \n",
            "3            Fungal infection                     0   \n",
            "4            Fungal infection                     0   \n",
            "...                       ...                   ...   \n",
            "4915                     AIDS                     0   \n",
            "4916                     Acne                     0   \n",
            "4917  Urinary tract infection                     0   \n",
            "4918                Psoriasis                     0   \n",
            "4919                 Impetigo                     0   \n",
            "\n",
            "      Symptom_1_ bladder_discomfort  Symptom_1_ breathlessness  \\\n",
            "0                                 0                          0   \n",
            "1                                 0                          0   \n",
            "2                                 0                          0   \n",
            "3                                 0                          0   \n",
            "4                                 0                          0   \n",
            "...                             ...                        ...   \n",
            "4915                              0                          0   \n",
            "4916                              0                          0   \n",
            "4917                              0                          0   \n",
            "4918                              0                          0   \n",
            "4919                              0                          0   \n",
            "\n",
            "      Symptom_1_ burning_micturition  Symptom_1_ chest_pain  \\\n",
            "0                                  0                      0   \n",
            "1                                  0                      0   \n",
            "2                                  0                      0   \n",
            "3                                  0                      0   \n",
            "4                                  0                      0   \n",
            "...                              ...                    ...   \n",
            "4915                               0                      0   \n",
            "4916                               0                      0   \n",
            "4917                               1                      0   \n",
            "4918                               0                      0   \n",
            "4919                               0                      0   \n",
            "\n",
            "      Symptom_1_ chills  Symptom_1_ constipation  \\\n",
            "0                     0                        0   \n",
            "1                     0                        0   \n",
            "2                     0                        0   \n",
            "3                     0                        0   \n",
            "4                     0                        0   \n",
            "...                 ...                      ...   \n",
            "4915                  0                        0   \n",
            "4916                  0                        0   \n",
            "4917                  0                        0   \n",
            "4918                  0                        0   \n",
            "4919                  0                        0   \n",
            "\n",
            "      Symptom_1_ continuous_sneezing  Symptom_1_ cough  ...  \\\n",
            "0                                  0                 0  ...   \n",
            "1                                  0                 0  ...   \n",
            "2                                  0                 0  ...   \n",
            "3                                  0                 0  ...   \n",
            "4                                  0                 0  ...   \n",
            "...                              ...               ...  ...   \n",
            "4915                               0                 0  ...   \n",
            "4916                               0                 0  ...   \n",
            "4917                               0                 0  ...   \n",
            "4918                               0                 0  ...   \n",
            "4919                               0                 0  ...   \n",
            "\n",
            "      Symptom_13_ red_spots_over_body  Symptom_13_ runny_nose  \\\n",
            "0                                   0                       0   \n",
            "1                                   0                       0   \n",
            "2                                   0                       0   \n",
            "3                                   0                       0   \n",
            "4                                   0                       0   \n",
            "...                               ...                     ...   \n",
            "4915                                0                       0   \n",
            "4916                                0                       0   \n",
            "4917                                0                       0   \n",
            "4918                                0                       0   \n",
            "4919                                0                       0   \n",
            "\n",
            "      Symptom_13_ stomach_bleeding  Symptom_14_ congestion  \\\n",
            "0                                0                       0   \n",
            "1                                0                       0   \n",
            "2                                0                       0   \n",
            "3                                0                       0   \n",
            "4                                0                       0   \n",
            "...                            ...                     ...   \n",
            "4915                             0                       0   \n",
            "4916                             0                       0   \n",
            "4917                             0                       0   \n",
            "4918                             0                       0   \n",
            "4919                             0                       0   \n",
            "\n",
            "      Symptom_14_ phlegm  Symptom_14_ red_spots_over_body  \\\n",
            "0                      0                                0   \n",
            "1                      0                                0   \n",
            "2                      0                                0   \n",
            "3                      0                                0   \n",
            "4                      0                                0   \n",
            "...                  ...                              ...   \n",
            "4915                   0                                0   \n",
            "4916                   0                                0   \n",
            "4917                   0                                0   \n",
            "4918                   0                                0   \n",
            "4919                   0                                0   \n",
            "\n",
            "      Symptom_15_ chest_pain  Symptom_15_ loss_of_smell  \\\n",
            "0                          0                          0   \n",
            "1                          0                          0   \n",
            "2                          0                          0   \n",
            "3                          0                          0   \n",
            "4                          0                          0   \n",
            "...                      ...                        ...   \n",
            "4915                       0                          0   \n",
            "4916                       0                          0   \n",
            "4917                       0                          0   \n",
            "4918                       0                          0   \n",
            "4919                       0                          0   \n",
            "\n",
            "      Symptom_16_ loss_of_smell  Symptom_16_ muscle_pain  \n",
            "0                             0                        0  \n",
            "1                             0                        0  \n",
            "2                             0                        0  \n",
            "3                             0                        0  \n",
            "4                             0                        0  \n",
            "...                         ...                      ...  \n",
            "4915                          0                        0  \n",
            "4916                          0                        0  \n",
            "4917                          0                        0  \n",
            "4918                          0                        0  \n",
            "4919                          0                        0  \n",
            "\n",
            "[4920 rows x 378 columns]\n"
          ]
        }
      ]
    },
    {
      "cell_type": "code",
      "source": [
        "import torch\n",
        "import torch.nn as nn\n",
        "import torch.optim as optim\n",
        "from torch.utils.data import DataLoader, TensorDataset, random_split\n",
        "\n",
        "X_tensor = torch.tensor(X.values, dtype=torch.float32)\n",
        "y_tensor = torch.tensor(y.values, dtype=torch.float32)\n",
        "\n",
        "dataset = TensorDataset(X_tensor, y_tensor)\n",
        "\n",
        "train_size = int(0.7 * len(dataset)) # Changed 0.8 to 0.7\n",
        "validate_size = int(0.15 * len(dataset)) # Validation set is 0.15\n",
        "test_size = len(dataset) - (train_size + validate_size) # Test set is 0.15\n",
        "train_dataset, validate_size, test_dataset = random_split(dataset, [train_size, validate_size, test_size]) # Added validation set\n",
        "\n",
        "train_loader = DataLoader(train_dataset, batch_size=32, shuffle=True)\n",
        "validate_loader = DataLoader(validate_dataset, batch_size=32, shuffle=False) # Added validation loader\n",
        "test_loader = DataLoader(test_dataset, batch_size=32, shuffle=False)\n",
        "\n",
        "class MultiLabelNN(nn.Module):\n",
        "    def __init__(self, input_size, hidden_size, output_size):\n",
        "        super(MultiLabelNN, self).__init__()\n",
        "        self.fc1 = nn.Linear(input_size, hidden_size)\n",
        "        self.fc2 = nn.Linear(hidden_size, hidden_size)\n",
        "        self.fc3 = nn.Linear(hidden_size, output_size)\n",
        "\n",
        "    def forward(self, x):\n",
        "        x = torch.relu(self.fc1(x))\n",
        "        x = torch.relu(self.fc2(x))\n",
        "        x = self.fc3(x)\n",
        "        return x\n",
        "\n",
        "input_size = X_tensor.shape[1]\n",
        "hidden_size = 128\n",
        "output_size = y_tensor.shape[1]\n",
        "model = MultiLabelNN(input_size, hidden_size, output_size)\n",
        "\n",
        "criterion = nn.BCEWithLogitsLoss()\n",
        "optimizer = optim.Adam(model.parameters(), lr=0.001)\n",
        "\n",
        "num_epochs = 10\n",
        "for epoch in range(num_epochs):\n",
        "    model.train()\n",
        "    running_loss = 0.0\n",
        "\n",
        "    for batch_X, batch_y in train_loader:\n",
        "        optimizer.zero_grad()\n",
        "        outputs = model(batch_X)\n",
        "        loss = criterion(outputs, batch_y)\n",
        "        loss.backward()\n",
        "        optimizer.step()\n",
        "        running_loss += loss.item()\n",
        "\n",
        "    print(f\"Epoch [{epoch+1}/{num_epochs}], Loss: {running_loss/len(train_loader):.4f}\")\n",
        "\n",
        "model.eval()\n",
        "y_pred = []\n",
        "y_true = []\n",
        "\n",
        "with torch.no_grad():\n",
        "    for batch_X, batch_y in validate_loader: # Changed from test_loader to validate_loader\n",
        "        outputs = model(batch_X)\n",
        "        predicted = torch.sigmoid(outputs) > 0.5\n",
        "        y_pred.extend(predicted.cpu().numpy())\n",
        "        y_true.extend(batch_y.cpu().numpy())\n",
        "\n",
        "y_pred_tensor = torch.tensor(y_pred, dtype=torch.float32)\n",
        "y_true_tensor = torch.tensor(y_true, dtype=torch.float32)\n",
        "correct = (y_pred_tensor == y_true_tensor).float().sum()\n",
        "total = y_true_tensor.numel()\n",
        "accuracy = correct / total\n",
        "print(f\"Test Accuracy: {accuracy * 100:.2f}%\")\n",
        "\n",
        "torch.save(model.state_dict(), '/content/data/multi_label_nn_model.pth')"
      ],
      "metadata": {
        "colab": {
          "base_uri": "https://localhost:8080/",
          "height": 219
        },
        "id": "nVw4rPLqMCuq",
        "outputId": "2e332a57-3e98-4223-a2ac-bf189ed473bf"
      },
      "execution_count": null,
      "outputs": [
        {
          "output_type": "error",
          "ename": "NameError",
          "evalue": "name 'X' is not defined",
          "traceback": [
            "\u001b[0;31m---------------------------------------------------------------------------\u001b[0m",
            "\u001b[0;31mNameError\u001b[0m                                 Traceback (most recent call last)",
            "\u001b[0;32m<ipython-input-41-da1ccef9b845>\u001b[0m in \u001b[0;36m<cell line: 0>\u001b[0;34m()\u001b[0m\n\u001b[1;32m      4\u001b[0m \u001b[0;32mfrom\u001b[0m \u001b[0mtorch\u001b[0m\u001b[0;34m.\u001b[0m\u001b[0mutils\u001b[0m\u001b[0;34m.\u001b[0m\u001b[0mdata\u001b[0m \u001b[0;32mimport\u001b[0m \u001b[0mDataLoader\u001b[0m\u001b[0;34m,\u001b[0m \u001b[0mTensorDataset\u001b[0m\u001b[0;34m,\u001b[0m \u001b[0mrandom_split\u001b[0m\u001b[0;34m\u001b[0m\u001b[0;34m\u001b[0m\u001b[0m\n\u001b[1;32m      5\u001b[0m \u001b[0;34m\u001b[0m\u001b[0m\n\u001b[0;32m----> 6\u001b[0;31m \u001b[0mX_tensor\u001b[0m \u001b[0;34m=\u001b[0m \u001b[0mtorch\u001b[0m\u001b[0;34m.\u001b[0m\u001b[0mtensor\u001b[0m\u001b[0;34m(\u001b[0m\u001b[0mX\u001b[0m\u001b[0;34m.\u001b[0m\u001b[0mvalues\u001b[0m\u001b[0;34m,\u001b[0m \u001b[0mdtype\u001b[0m\u001b[0;34m=\u001b[0m\u001b[0mtorch\u001b[0m\u001b[0;34m.\u001b[0m\u001b[0mfloat32\u001b[0m\u001b[0;34m)\u001b[0m\u001b[0;34m\u001b[0m\u001b[0;34m\u001b[0m\u001b[0m\n\u001b[0m\u001b[1;32m      7\u001b[0m \u001b[0my_tensor\u001b[0m \u001b[0;34m=\u001b[0m \u001b[0mtorch\u001b[0m\u001b[0;34m.\u001b[0m\u001b[0mtensor\u001b[0m\u001b[0;34m(\u001b[0m\u001b[0my\u001b[0m\u001b[0;34m.\u001b[0m\u001b[0mvalues\u001b[0m\u001b[0;34m,\u001b[0m \u001b[0mdtype\u001b[0m\u001b[0;34m=\u001b[0m\u001b[0mtorch\u001b[0m\u001b[0;34m.\u001b[0m\u001b[0mfloat32\u001b[0m\u001b[0;34m)\u001b[0m\u001b[0;34m\u001b[0m\u001b[0;34m\u001b[0m\u001b[0m\n\u001b[1;32m      8\u001b[0m \u001b[0;34m\u001b[0m\u001b[0m\n",
            "\u001b[0;31mNameError\u001b[0m: name 'X' is not defined"
          ]
        }
      ]
    },
    {
      "cell_type": "code",
      "source": [
        "\n",
        "\n",
        "\n"
      ],
      "metadata": {
        "id": "tMEAgBWKg6d4"
      },
      "execution_count": null,
      "outputs": []
    }
  ]
}